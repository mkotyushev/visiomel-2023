{
 "cells": [
  {
   "cell_type": "code",
   "execution_count": 1,
   "metadata": {},
   "outputs": [],
   "source": [
    "%load_ext autoreload\n",
    "%autoreload 2"
   ]
  },
  {
   "cell_type": "code",
   "execution_count": 23,
   "metadata": {},
   "outputs": [],
   "source": [
    "import pandas as pd\n",
    "import numpy as np\n",
    "import timm\n",
    "import torch\n",
    "from tqdm import tqdm\n",
    "from sklearn import svm\n",
    "from sklearn.calibration import CalibratedClassifierCV\n",
    "from sklearn.metrics import log_loss\n",
    "from sklearn.model_selection import train_test_split, StratifiedKFold, KFold\n",
    "from sklearn.ensemble import RandomForestClassifier\n",
    "from PIL import Image\n",
    "Image.MAX_IMAGE_PIXELS = None\n",
    "\n",
    "from src.model.swin_transformer_v2_classifier import SwinTransformerV2Classifier\n",
    "from src.data.visiomel_datamodule import VisiomelDatamodule\n",
    "from src.utils.utils import extract_features, extract_features_single, extract_features_patches"
   ]
  },
  {
   "attachments": {},
   "cell_type": "markdown",
   "metadata": {},
   "source": [
    "# Pretrained"
   ]
  },
  {
   "cell_type": "code",
   "execution_count": 2,
   "metadata": {},
   "outputs": [
    {
     "name": "stderr",
     "output_type": "stream",
     "text": [
      "/root/miniconda3/envs/visiomel-2023/lib/python3.10/site-packages/torch/functional.py:504: UserWarning: torch.meshgrid: in an upcoming release, it will be required to pass the indexing argument. (Triggered internally at ../aten/src/ATen/native/TensorShape.cpp:3483.)\n",
      "  return _VF.meshgrid(tensors, **kwargs)  # type: ignore[attr-defined]\n"
     ]
    }
   ],
   "source": [
    "model = timm.create_model(\n",
    "    'swinv2_large_window12to24_192to384_22kft1k', \n",
    "    pretrained=True, \n",
    "    num_classes=0\n",
    ").cuda().eval()"
   ]
  },
  {
   "cell_type": "code",
   "execution_count": 3,
   "metadata": {},
   "outputs": [],
   "source": [
    "P = 384"
   ]
  },
  {
   "attachments": {},
   "cell_type": "markdown",
   "metadata": {},
   "source": [
    "### No patches"
   ]
  },
  {
   "cell_type": "code",
   "execution_count": null,
   "metadata": {},
   "outputs": [],
   "source": [
    "datamodule = VisiomelDatamodule(\n",
    "    task='classification',\n",
    "    data_dir_train = '/workspace/data/images_page_7/',\t\n",
    "    k = 5,\n",
    "    fold_index = 0,\n",
    "    data_dir_test = None,\n",
    "    img_size = 384,\n",
    "    shrink_preview_scale = None,\n",
    "    batch_size = 32,\n",
    "    split_seed = 0,\n",
    "    num_workers = 0,\n",
    "    pin_memory = False,\n",
    "    prefetch_factor = None,\n",
    "    persistent_workers = False,\n",
    "    sampler = None,\n",
    "    data_shrinked=False,\n",
    "    num_workers_saturated=10,\n",
    "    enable_caching=False,\n",
    "    train_resize_type='resize',\n",
    ")\n",
    "datamodule.setup()\n",
    "train_dataloader = datamodule.train_dataloader()\n",
    "val_dataloader, _ = datamodule.val_dataloader()"
   ]
  },
  {
   "cell_type": "code",
   "execution_count": 4,
   "metadata": {},
   "outputs": [
    {
     "name": "stderr",
     "output_type": "stream",
     "text": [
      "100%|██████████| 34/34 [01:48<00:00,  3.20s/it]\n"
     ]
    }
   ],
   "source": [
    "features_all, y_all = extract_features(model, train_dataloader)"
   ]
  },
  {
   "cell_type": "code",
   "execution_count": 7,
   "metadata": {},
   "outputs": [
    {
     "name": "stderr",
     "output_type": "stream",
     "text": [
      "100%|██████████| 9/9 [00:25<00:00,  2.86s/it]\n"
     ]
    }
   ],
   "source": [
    "features_all_val, y_all_val = extract_features(model, val_dataloader)"
   ]
  },
  {
   "cell_type": "code",
   "execution_count": 8,
   "metadata": {},
   "outputs": [
    {
     "data": {
      "text/plain": [
       "(torch.Size([1073, 4416]), torch.Size([1073]))"
      ]
     },
     "execution_count": 8,
     "metadata": {},
     "output_type": "execute_result"
    }
   ],
   "source": [
    "features_all.shape, y_all.shape"
   ]
  },
  {
   "cell_type": "code",
   "execution_count": 10,
   "metadata": {},
   "outputs": [
    {
     "data": {
      "text/plain": [
       "0.4148100175016549"
      ]
     },
     "execution_count": 10,
     "metadata": {},
     "output_type": "execute_result"
    }
   ],
   "source": [
    "# SVM classifier on features_all and y_all\n",
    "clf = svm.SVC(kernel='linear', C=1, probability=True).fit(features_all.cpu().numpy(), y_all.cpu().numpy())\n",
    "\n",
    "# Predict on validation set\n",
    "y_all_val_pred = clf.predict_proba(features_all_val.cpu().numpy())\n",
    "\n",
    "# log_loss\n",
    "log_loss(y_all_val.cpu().numpy(), y_all_val_pred, eps=1e-16)"
   ]
  },
  {
   "cell_type": "code",
   "execution_count": 11,
   "metadata": {},
   "outputs": [
    {
     "data": {
      "text/plain": [
       "0.2855574374923769"
      ]
     },
     "execution_count": 11,
     "metadata": {},
     "output_type": "execute_result"
    }
   ],
   "source": [
    "# Predict on train set\n",
    "y_all_pred = clf.predict_proba(features_all.cpu().numpy())\n",
    "\n",
    "# log_loss\n",
    "log_loss(y_all.cpu().numpy(), y_all_pred, eps=1e-16)"
   ]
  },
  {
   "attachments": {},
   "cell_type": "markdown",
   "metadata": {},
   "source": [
    "### Patches"
   ]
  },
  {
   "cell_type": "code",
   "execution_count": 6,
   "metadata": {},
   "outputs": [],
   "source": [
    "datamodule = VisiomelDatamodule(\n",
    "    task='classification',\n",
    "    data_dir_train = '/workspace/data/images_page_7/',\t\n",
    "    k = 5,\n",
    "    fold_index = 0,\n",
    "    data_dir_test = None,\n",
    "    img_size = 384 * 2,\n",
    "    shrink_preview_scale = None,\n",
    "    batch_size = 4,\n",
    "    split_seed = 0,\n",
    "    num_workers = 0,\n",
    "    pin_memory = False,\n",
    "    prefetch_factor = None,\n",
    "    persistent_workers = False,\n",
    "    sampler = None,\n",
    "    data_shrinked=False,\n",
    "    num_workers_saturated=10,\n",
    "    enable_caching=False,\n",
    "    train_resize_type='resize',\n",
    ")\n",
    "datamodule.setup()\n",
    "train_dataloader = datamodule.train_dataloader()\n",
    "val_dataloader, _ = datamodule.val_dataloader()"
   ]
  },
  {
   "cell_type": "code",
   "execution_count": 7,
   "metadata": {},
   "outputs": [
    {
     "name": "stderr",
     "output_type": "stream",
     "text": [
      "100%|██████████| 269/269 [14:43<00:00,  3.28s/it]\n"
     ]
    }
   ],
   "source": [
    "features_all, y_all = extract_features_patches(model, train_dataloader)"
   ]
  },
  {
   "cell_type": "code",
   "execution_count": 8,
   "metadata": {},
   "outputs": [
    {
     "name": "stderr",
     "output_type": "stream",
     "text": [
      "100%|██████████| 68/68 [04:13<00:00,  3.73s/it]\n"
     ]
    }
   ],
   "source": [
    "features_all_val, y_all_val = extract_features_patches(model, val_dataloader)"
   ]
  },
  {
   "cell_type": "code",
   "execution_count": 9,
   "metadata": {},
   "outputs": [
    {
     "data": {
      "text/plain": [
       "(torch.Size([9657, 4416]), torch.Size([1073]))"
      ]
     },
     "execution_count": 9,
     "metadata": {},
     "output_type": "execute_result"
    }
   ],
   "source": [
    "features_all.shape, y_all.shape"
   ]
  },
  {
   "cell_type": "code",
   "execution_count": 13,
   "metadata": {},
   "outputs": [
    {
     "data": {
      "text/plain": [
       "torch.Size([1073, 39744])"
      ]
     },
     "execution_count": 13,
     "metadata": {},
     "output_type": "execute_result"
    }
   ],
   "source": [
    "features_all.reshape(y_all.shape[0], features_all.shape[1], -1).flatten(1).shape"
   ]
  },
  {
   "cell_type": "code",
   "execution_count": 15,
   "metadata": {},
   "outputs": [],
   "source": [
    "features_all = features_all.reshape(y_all.shape[0], features_all.shape[1], -1).flatten(1)\n",
    "features_all_val = features_all_val.reshape(y_all_val.shape[0], features_all_val.shape[1], -1).flatten(1)"
   ]
  },
  {
   "cell_type": "code",
   "execution_count": 18,
   "metadata": {},
   "outputs": [
    {
     "data": {
      "text/plain": [
       "torch.Size([1073, 39744])"
      ]
     },
     "execution_count": 18,
     "metadata": {},
     "output_type": "execute_result"
    }
   ],
   "source": [
    "features_all.shape"
   ]
  },
  {
   "cell_type": "code",
   "execution_count": 16,
   "metadata": {},
   "outputs": [
    {
     "data": {
      "text/plain": [
       "0.40077315802046426"
      ]
     },
     "execution_count": 16,
     "metadata": {},
     "output_type": "execute_result"
    }
   ],
   "source": [
    "# SVM classifier on features_all and y_all\n",
    "clf = svm.SVC(kernel='linear', C=1, probability=True).fit(features_all.cpu().numpy(), y_all.cpu().numpy())\n",
    "\n",
    "# Predict on validation set\n",
    "y_all_val_pred = clf.predict_proba(features_all_val.cpu().numpy())\n",
    "\n",
    "# log_loss\n",
    "log_loss(y_all_val.cpu().numpy(), y_all_val_pred, eps=1e-16)"
   ]
  },
  {
   "cell_type": "code",
   "execution_count": 17,
   "metadata": {},
   "outputs": [
    {
     "data": {
      "text/plain": [
       "0.24109060020013015"
      ]
     },
     "execution_count": 17,
     "metadata": {},
     "output_type": "execute_result"
    }
   ],
   "source": [
    "# Predict on train set\n",
    "y_all_pred = clf.predict_proba(features_all.cpu().numpy())\n",
    "\n",
    "# log_loss\n",
    "log_loss(y_all.cpu().numpy(), y_all_pred, eps=1e-16)"
   ]
  },
  {
   "cell_type": "markdown",
   "metadata": {},
   "source": [
    "# SSUP"
   ]
  },
  {
   "cell_type": "code",
   "execution_count": null,
   "metadata": {},
   "outputs": [
    {
     "name": "stderr",
     "output_type": "stream",
     "text": [
      "/root/miniconda3/envs/visiomel-2023/lib/python3.10/site-packages/torch/functional.py:504: UserWarning: torch.meshgrid: in an upcoming release, it will be required to pass the indexing argument. (Triggered internally at ../aten/src/ATen/native/TensorShape.cpp:3483.)\n",
      "  return _VF.meshgrid(tensors, **kwargs)  # type: ignore[attr-defined]\n",
      "_IncompatibleKeys(missing_keys=['layers.0.blocks.1.attn_mask', 'layers.1.blocks.1.attn_mask', 'layers.2.blocks.1.attn_mask', 'layers.2.blocks.3.attn_mask', 'layers.2.blocks.5.attn_mask', 'layers.2.blocks.7.attn_mask', 'layers.2.blocks.9.attn_mask', 'layers.2.blocks.11.attn_mask', 'layers.2.blocks.13.attn_mask', 'layers.2.blocks.15.attn_mask', 'layers.2.blocks.17.attn_mask', 'layers.3.blocks.1.attn_mask'], unexpected_keys=[])\n"
     ]
    }
   ],
   "source": [
    "state_dict = {\n",
    "    k \\\n",
    "        .replace('model.encoder.', 'model.'): v \n",
    "    for k, v in \n",
    "    torch.load('/workspace/visiomel-2023/visiomel/eahzd753/checkpoints/last.ckpt')['state_dict'].items()\n",
    "}\n",
    "model = SwinTransformerV2Classifier(\n",
    "    model_name='swinv2_large_window12to24_192to384_22kft1k', \n",
    "    num_classes=0, \n",
    "    img_size=1536, \n",
    "    patch_size=4,\n",
    ")\n",
    "model.load_state_dict(state_dict, strict=False)\n",
    "model = model.cuda()"
   ]
  },
  {
   "cell_type": "code",
   "execution_count": null,
   "metadata": {},
   "outputs": [],
   "source": [
    "datamodule = VisiomelDatamodule(\n",
    "    task='simmim',\n",
    "    data_dir_train = '/workspace/data/images_page_4_shrink/',\t\n",
    "    data_dir_test = None,\n",
    "    img_size = 1536,\n",
    "    shrink_preview_scale = None,\n",
    "    batch_size = 2,\n",
    "    split_seed = 0,\n",
    "    num_workers = 4,\n",
    "    pin_memory = False,\n",
    "    prefetch_factor = None,\n",
    "    persistent_workers = False,\n",
    "    sampler = None,\n",
    "    data_shrinked=True,\n",
    "    num_workers_saturated=4,\n",
    "    enable_caching=False,\n",
    "    train_resize_type='resize',\n",
    ")\n",
    "datamodule.setup()\n",
    "train_dataloader = datamodule.train_dataloader()"
   ]
  },
  {
   "cell_type": "code",
   "execution_count": null,
   "metadata": {},
   "outputs": [
    {
     "name": "stderr",
     "output_type": "stream",
     "text": [
      "100%|██████████| 671/671 [10:28<00:00,  1.07it/s]\n"
     ]
    }
   ],
   "source": [
    "features_all, y_all = extract_features(model.model, train_dataloader)"
   ]
  },
  {
   "cell_type": "code",
   "execution_count": null,
   "metadata": {},
   "outputs": [
    {
     "data": {
      "text/plain": [
       "(torch.Size([1342, 4416]), torch.Size([1342]))"
      ]
     },
     "metadata": {},
     "output_type": "display_data"
    }
   ],
   "source": [
    "features_all.shape, y_all.shape"
   ]
  },
  {
   "cell_type": "code",
   "execution_count": null,
   "metadata": {},
   "outputs": [],
   "source": [
    "features_all, features_all_val, y_all, y_all_val = train_test_split(features_all, y_all, test_size=0.2, random_state=0)"
   ]
  },
  {
   "cell_type": "code",
   "execution_count": null,
   "metadata": {},
   "outputs": [
    {
     "data": {
      "text/plain": [
       "0.35908364195215864"
      ]
     },
     "metadata": {},
     "output_type": "display_data"
    }
   ],
   "source": [
    "# SVM classifier on features_all and y_all\n",
    "clf = svm.SVC(kernel='linear', C=1, probability=True).fit(features_all.cpu().numpy(), y_all.cpu().numpy())\n",
    "\n",
    "# Predict on validation set\n",
    "y_all_val_pred = clf.predict_proba(features_all_val.cpu().numpy())\n",
    "\n",
    "# log_loss\n",
    "log_loss(y_all_val.cpu().numpy(), y_all_val_pred, eps=1e-16)"
   ]
  },
  {
   "cell_type": "code",
   "execution_count": null,
   "metadata": {},
   "outputs": [
    {
     "data": {
      "text/plain": [
       "0.28846559331031174"
      ]
     },
     "metadata": {},
     "output_type": "display_data"
    }
   ],
   "source": [
    "# Predict on train set\n",
    "y_all_pred = clf.predict_proba(features_all.cpu().numpy())\n",
    "\n",
    "# log_loss\n",
    "log_loss(y_all.cpu().numpy(), y_all_pred, eps=1e-16)"
   ]
  },
  {
   "attachments": {},
   "cell_type": "markdown",
   "metadata": {},
   "source": [
    "# SSUP without shrink"
   ]
  },
  {
   "cell_type": "code",
   "execution_count": 4,
   "metadata": {},
   "outputs": [
    {
     "name": "stderr",
     "output_type": "stream",
     "text": [
      "/root/miniconda3/envs/visiomel-2023/lib/python3.10/site-packages/torch/functional.py:504: UserWarning: torch.meshgrid: in an upcoming release, it will be required to pass the indexing argument. (Triggered internally at ../aten/src/ATen/native/TensorShape.cpp:3483.)\n",
      "  return _VF.meshgrid(tensors, **kwargs)  # type: ignore[attr-defined]\n",
      "_IncompatibleKeys(missing_keys=['layers.0.blocks.1.attn_mask', 'layers.1.blocks.1.attn_mask', 'layers.2.blocks.1.attn_mask', 'layers.2.blocks.3.attn_mask', 'layers.2.blocks.5.attn_mask', 'layers.2.blocks.7.attn_mask', 'layers.2.blocks.9.attn_mask', 'layers.2.blocks.11.attn_mask', 'layers.2.blocks.13.attn_mask', 'layers.2.blocks.15.attn_mask', 'layers.2.blocks.17.attn_mask', 'layers.3.blocks.1.attn_mask'], unexpected_keys=[])\n"
     ]
    }
   ],
   "source": [
    "state_dict = {\n",
    "    k \\\n",
    "        .replace('model.encoder.', 'model.'): v \n",
    "    for k, v in \n",
    "    torch.load('/workspace/visiomel-2023/weights/no_val_ssup/checkpoints/last.ckpt')['state_dict'].items()\n",
    "}\n",
    "model = SwinTransformerV2Classifier(\n",
    "    model_name='swinv2_large_window12to24_192to384_22kft1k', \n",
    "    num_classes=0, \n",
    "    img_size=1536, \n",
    "    patch_size=4,\n",
    ")\n",
    "model.load_state_dict(state_dict, strict=False)\n",
    "model = model.cuda()"
   ]
  },
  {
   "cell_type": "code",
   "execution_count": 5,
   "metadata": {},
   "outputs": [],
   "source": [
    "datamodule = VisiomelDatamodule(\n",
    "    task='simmim',\n",
    "    data_dir_train = '/workspace/data/images_page_4/',\t\n",
    "    k=None,\n",
    "    data_dir_test = None,\n",
    "    img_size = 1536,\n",
    "    shrink_preview_scale = 8,\n",
    "    batch_size = 2,\n",
    "    split_seed = 0,\n",
    "    num_workers = 4,\n",
    "    pin_memory = False,\n",
    "    prefetch_factor = None,\n",
    "    persistent_workers = False,\n",
    "    sampler = None,\n",
    "    data_shrinked=False,\n",
    "    num_workers_saturated=4,\n",
    "    enable_caching=False,\n",
    "    train_resize_type='resize',\n",
    ")\n",
    "datamodule.setup()\n",
    "train_dataloader = datamodule.train_dataloader()"
   ]
  },
  {
   "cell_type": "code",
   "execution_count": 6,
   "metadata": {},
   "outputs": [
    {
     "name": "stderr",
     "output_type": "stream",
     "text": [
      "100%|██████████| 671/671 [20:19<00:00,  1.82s/it]\n"
     ]
    }
   ],
   "source": [
    "features_all, y_all = extract_features(model.model, train_dataloader)"
   ]
  },
  {
   "cell_type": "code",
   "execution_count": 7,
   "metadata": {},
   "outputs": [
    {
     "data": {
      "text/plain": [
       "(torch.Size([1342, 4416]), torch.Size([1342]))"
      ]
     },
     "execution_count": 7,
     "metadata": {},
     "output_type": "execute_result"
    }
   ],
   "source": [
    "features_all.shape, y_all.shape"
   ]
  },
  {
   "cell_type": "code",
   "execution_count": 8,
   "metadata": {},
   "outputs": [],
   "source": [
    "features_all, y_all = features_all.cpu().numpy(), y_all.cpu().numpy()"
   ]
  },
  {
   "cell_type": "code",
   "execution_count": 9,
   "metadata": {},
   "outputs": [],
   "source": [
    "features_train, features_test, y_train, y_test = train_test_split(\n",
    "    features_all, y_all, test_size=0.2, random_state=0, stratify=y_all\n",
    ")"
   ]
  },
  {
   "attachments": {},
   "cell_type": "markdown",
   "metadata": {},
   "source": [
    "Stratified single split SVC"
   ]
  },
  {
   "cell_type": "code",
   "execution_count": 10,
   "metadata": {},
   "outputs": [
    {
     "data": {
      "text/plain": [
       "0.38902780897707523"
      ]
     },
     "execution_count": 10,
     "metadata": {},
     "output_type": "execute_result"
    }
   ],
   "source": [
    "# SVM classifier on features_all and y_all\n",
    "clf = svm.SVC(kernel='linear', C=1, probability=True).fit(features_train, y_train)\n",
    "\n",
    "# Predict on validation set\n",
    "y_test_pred = clf.predict_proba(features_test)\n",
    "\n",
    "# log_loss\n",
    "log_loss(y_test, y_test_pred, eps=1e-16)"
   ]
  },
  {
   "cell_type": "code",
   "execution_count": 11,
   "metadata": {},
   "outputs": [
    {
     "data": {
      "text/plain": [
       "0.3209930602616488"
      ]
     },
     "execution_count": 11,
     "metadata": {},
     "output_type": "execute_result"
    }
   ],
   "source": [
    "# Predict on train set\n",
    "y_train_pred = clf.predict_proba(features_train)\n",
    "\n",
    "# log_loss\n",
    "log_loss(y_train, y_train_pred, eps=1e-16)"
   ]
  },
  {
   "attachments": {},
   "cell_type": "markdown",
   "metadata": {},
   "source": [
    "Stratified k-fold SVC"
   ]
  },
  {
   "cell_type": "code",
   "execution_count": 12,
   "metadata": {},
   "outputs": [
    {
     "name": "stdout",
     "output_type": "stream",
     "text": [
      "0.42657801404336365\n",
      "0.419737340207286\n",
      "0.41347916349793074\n",
      "0.41546716809020673\n",
      "0.39007705809454624\n"
     ]
    }
   ],
   "source": [
    "kfold = StratifiedKFold(5, shuffle=True, random_state=0)\n",
    "for train_indices, val_indices in kfold.split(features_all, y_all):\n",
    "    features_train, features_val, y_train, y_val = \\\n",
    "        features_all[train_indices], features_all[val_indices], y_all[train_indices], y_all[val_indices]\n",
    "    \n",
    "    clf = svm.SVC(kernel='linear', C=1, probability=True).fit(features_train, y_train)\n",
    "    y_val_pred = clf.predict_proba(features_val)\n",
    "\n",
    "    print(log_loss(y_val, y_val_pred, eps=1e-16))"
   ]
  },
  {
   "attachments": {},
   "cell_type": "markdown",
   "metadata": {},
   "source": [
    "Non-stratified k-fold SVC"
   ]
  },
  {
   "cell_type": "code",
   "execution_count": 22,
   "metadata": {},
   "outputs": [
    {
     "name": "stdout",
     "output_type": "stream",
     "text": [
      "0.3516540373878151\n",
      "0.40120478593427095\n",
      "0.42120907301104205\n",
      "0.4674987058216568\n",
      "0.43125749773711125\n"
     ]
    }
   ],
   "source": [
    "kfold = KFold(5, shuffle=True, random_state=0)\n",
    "for train_indices, val_indices in kfold.split(features_all):\n",
    "    features_train, features_val, y_train, y_val = \\\n",
    "        features_all[train_indices], features_all[val_indices], y_all[train_indices], y_all[val_indices]\n",
    "    \n",
    "    clf = svm.SVC(kernel='linear', C=1, probability=True).fit(features_train, y_train)\n",
    "    y_val_pred = clf.predict_proba(features_val)\n",
    "\n",
    "    print(log_loss(y_val, y_val_pred, eps=1e-16))"
   ]
  },
  {
   "attachments": {},
   "cell_type": "markdown",
   "metadata": {},
   "source": [
    "Calibration by k-fold, on stratified split 0.2 SVC"
   ]
  },
  {
   "cell_type": "code",
   "execution_count": 16,
   "metadata": {},
   "outputs": [
    {
     "name": "stdout",
     "output_type": "stream",
     "text": [
      "0.3989525844336317\n"
     ]
    }
   ],
   "source": [
    "features_train, features_test, y_train, y_test = train_test_split(\n",
    "    features_all, y_all, test_size=0.2, random_state=0, stratify=y_all\n",
    ")\n",
    "kfold = StratifiedKFold(5, shuffle=True, random_state=0)\n",
    "clf = svm.SVC(kernel='linear', C=1, probability=True)\n",
    "calibrated_clf = CalibratedClassifierCV(clf, method=\"sigmoid\", cv=kfold.split(features_train, y_train))\n",
    "calibrated_clf.fit(features_train, y_train)\n",
    "\n",
    "y_test_pred = calibrated_clf.predict_proba(features_test)\n",
    "print(log_loss(y_test, y_test_pred, eps=1e-16))"
   ]
  },
  {
   "attachments": {},
   "cell_type": "markdown",
   "metadata": {},
   "source": [
    "Meta"
   ]
  },
  {
   "cell_type": "code",
   "execution_count": 18,
   "metadata": {},
   "outputs": [
    {
     "data": {
      "text/html": [
       "<div>\n",
       "<style scoped>\n",
       "    .dataframe tbody tr th:only-of-type {\n",
       "        vertical-align: middle;\n",
       "    }\n",
       "\n",
       "    .dataframe tbody tr th {\n",
       "        vertical-align: top;\n",
       "    }\n",
       "\n",
       "    .dataframe thead th {\n",
       "        text-align: right;\n",
       "    }\n",
       "</style>\n",
       "<table border=\"1\" class=\"dataframe\">\n",
       "  <thead>\n",
       "    <tr style=\"text-align: right;\">\n",
       "      <th></th>\n",
       "      <th>age</th>\n",
       "      <th>resolution</th>\n",
       "      <th>sex_1</th>\n",
       "      <th>sex_2</th>\n",
       "      <th>body_site_arm</th>\n",
       "      <th>body_site_face</th>\n",
       "      <th>body_site_finger</th>\n",
       "      <th>body_site_foot</th>\n",
       "      <th>body_site_forearm</th>\n",
       "      <th>body_site_hand</th>\n",
       "      <th>...</th>\n",
       "      <th>body_site_sole</th>\n",
       "      <th>body_site_thigh</th>\n",
       "      <th>body_site_toe</th>\n",
       "      <th>body_site_trunc</th>\n",
       "      <th>body_site_trunk</th>\n",
       "      <th>body_site_upper limb/shoulder</th>\n",
       "      <th>body_site_nan</th>\n",
       "      <th>melanoma_history_NO</th>\n",
       "      <th>melanoma_history_YES</th>\n",
       "      <th>melanoma_history_nan</th>\n",
       "    </tr>\n",
       "  </thead>\n",
       "  <tbody>\n",
       "    <tr>\n",
       "      <th>0</th>\n",
       "      <td>-1.838471</td>\n",
       "      <td>0.853839</td>\n",
       "      <td>0.0</td>\n",
       "      <td>1.0</td>\n",
       "      <td>0.0</td>\n",
       "      <td>0.0</td>\n",
       "      <td>0.0</td>\n",
       "      <td>0.0</td>\n",
       "      <td>0.0</td>\n",
       "      <td>0.0</td>\n",
       "      <td>...</td>\n",
       "      <td>0.0</td>\n",
       "      <td>1.0</td>\n",
       "      <td>0.0</td>\n",
       "      <td>0.0</td>\n",
       "      <td>0.0</td>\n",
       "      <td>0.0</td>\n",
       "      <td>0.0</td>\n",
       "      <td>0.0</td>\n",
       "      <td>1.0</td>\n",
       "      <td>0.0</td>\n",
       "    </tr>\n",
       "    <tr>\n",
       "      <th>1</th>\n",
       "      <td>-0.957588</td>\n",
       "      <td>0.853839</td>\n",
       "      <td>1.0</td>\n",
       "      <td>0.0</td>\n",
       "      <td>0.0</td>\n",
       "      <td>0.0</td>\n",
       "      <td>0.0</td>\n",
       "      <td>0.0</td>\n",
       "      <td>0.0</td>\n",
       "      <td>0.0</td>\n",
       "      <td>...</td>\n",
       "      <td>0.0</td>\n",
       "      <td>0.0</td>\n",
       "      <td>0.0</td>\n",
       "      <td>1.0</td>\n",
       "      <td>0.0</td>\n",
       "      <td>0.0</td>\n",
       "      <td>0.0</td>\n",
       "      <td>1.0</td>\n",
       "      <td>0.0</td>\n",
       "      <td>0.0</td>\n",
       "    </tr>\n",
       "    <tr>\n",
       "      <th>2</th>\n",
       "      <td>0.174976</td>\n",
       "      <td>0.853839</td>\n",
       "      <td>0.0</td>\n",
       "      <td>1.0</td>\n",
       "      <td>0.0</td>\n",
       "      <td>1.0</td>\n",
       "      <td>0.0</td>\n",
       "      <td>0.0</td>\n",
       "      <td>0.0</td>\n",
       "      <td>0.0</td>\n",
       "      <td>...</td>\n",
       "      <td>0.0</td>\n",
       "      <td>0.0</td>\n",
       "      <td>0.0</td>\n",
       "      <td>0.0</td>\n",
       "      <td>0.0</td>\n",
       "      <td>0.0</td>\n",
       "      <td>0.0</td>\n",
       "      <td>1.0</td>\n",
       "      <td>0.0</td>\n",
       "      <td>0.0</td>\n",
       "    </tr>\n",
       "    <tr>\n",
       "      <th>3</th>\n",
       "      <td>0.049136</td>\n",
       "      <td>-0.287705</td>\n",
       "      <td>0.0</td>\n",
       "      <td>1.0</td>\n",
       "      <td>0.0</td>\n",
       "      <td>0.0</td>\n",
       "      <td>0.0</td>\n",
       "      <td>0.0</td>\n",
       "      <td>1.0</td>\n",
       "      <td>0.0</td>\n",
       "      <td>...</td>\n",
       "      <td>0.0</td>\n",
       "      <td>0.0</td>\n",
       "      <td>0.0</td>\n",
       "      <td>0.0</td>\n",
       "      <td>0.0</td>\n",
       "      <td>0.0</td>\n",
       "      <td>0.0</td>\n",
       "      <td>0.0</td>\n",
       "      <td>0.0</td>\n",
       "      <td>1.0</td>\n",
       "    </tr>\n",
       "    <tr>\n",
       "      <th>4</th>\n",
       "      <td>1.810903</td>\n",
       "      <td>-0.287705</td>\n",
       "      <td>0.0</td>\n",
       "      <td>1.0</td>\n",
       "      <td>0.0</td>\n",
       "      <td>1.0</td>\n",
       "      <td>0.0</td>\n",
       "      <td>0.0</td>\n",
       "      <td>0.0</td>\n",
       "      <td>0.0</td>\n",
       "      <td>...</td>\n",
       "      <td>0.0</td>\n",
       "      <td>0.0</td>\n",
       "      <td>0.0</td>\n",
       "      <td>0.0</td>\n",
       "      <td>0.0</td>\n",
       "      <td>0.0</td>\n",
       "      <td>0.0</td>\n",
       "      <td>1.0</td>\n",
       "      <td>0.0</td>\n",
       "      <td>0.0</td>\n",
       "    </tr>\n",
       "    <tr>\n",
       "      <th>...</th>\n",
       "      <td>...</td>\n",
       "      <td>...</td>\n",
       "      <td>...</td>\n",
       "      <td>...</td>\n",
       "      <td>...</td>\n",
       "      <td>...</td>\n",
       "      <td>...</td>\n",
       "      <td>...</td>\n",
       "      <td>...</td>\n",
       "      <td>...</td>\n",
       "      <td>...</td>\n",
       "      <td>...</td>\n",
       "      <td>...</td>\n",
       "      <td>...</td>\n",
       "      <td>...</td>\n",
       "      <td>...</td>\n",
       "      <td>...</td>\n",
       "      <td>...</td>\n",
       "      <td>...</td>\n",
       "      <td>...</td>\n",
       "      <td>...</td>\n",
       "    </tr>\n",
       "    <tr>\n",
       "      <th>1337</th>\n",
       "      <td>0.426657</td>\n",
       "      <td>0.420526</td>\n",
       "      <td>1.0</td>\n",
       "      <td>0.0</td>\n",
       "      <td>0.0</td>\n",
       "      <td>0.0</td>\n",
       "      <td>0.0</td>\n",
       "      <td>0.0</td>\n",
       "      <td>0.0</td>\n",
       "      <td>0.0</td>\n",
       "      <td>...</td>\n",
       "      <td>0.0</td>\n",
       "      <td>0.0</td>\n",
       "      <td>0.0</td>\n",
       "      <td>0.0</td>\n",
       "      <td>0.0</td>\n",
       "      <td>0.0</td>\n",
       "      <td>0.0</td>\n",
       "      <td>0.0</td>\n",
       "      <td>0.0</td>\n",
       "      <td>1.0</td>\n",
       "    </tr>\n",
       "    <tr>\n",
       "      <th>1338</th>\n",
       "      <td>0.300817</td>\n",
       "      <td>0.420526</td>\n",
       "      <td>1.0</td>\n",
       "      <td>0.0</td>\n",
       "      <td>0.0</td>\n",
       "      <td>0.0</td>\n",
       "      <td>0.0</td>\n",
       "      <td>0.0</td>\n",
       "      <td>0.0</td>\n",
       "      <td>0.0</td>\n",
       "      <td>...</td>\n",
       "      <td>0.0</td>\n",
       "      <td>0.0</td>\n",
       "      <td>0.0</td>\n",
       "      <td>0.0</td>\n",
       "      <td>0.0</td>\n",
       "      <td>0.0</td>\n",
       "      <td>0.0</td>\n",
       "      <td>0.0</td>\n",
       "      <td>0.0</td>\n",
       "      <td>1.0</td>\n",
       "    </tr>\n",
       "    <tr>\n",
       "      <th>1339</th>\n",
       "      <td>1.181700</td>\n",
       "      <td>0.420526</td>\n",
       "      <td>1.0</td>\n",
       "      <td>0.0</td>\n",
       "      <td>0.0</td>\n",
       "      <td>0.0</td>\n",
       "      <td>0.0</td>\n",
       "      <td>0.0</td>\n",
       "      <td>0.0</td>\n",
       "      <td>0.0</td>\n",
       "      <td>...</td>\n",
       "      <td>0.0</td>\n",
       "      <td>0.0</td>\n",
       "      <td>0.0</td>\n",
       "      <td>0.0</td>\n",
       "      <td>1.0</td>\n",
       "      <td>0.0</td>\n",
       "      <td>0.0</td>\n",
       "      <td>0.0</td>\n",
       "      <td>0.0</td>\n",
       "      <td>1.0</td>\n",
       "    </tr>\n",
       "    <tr>\n",
       "      <th>1340</th>\n",
       "      <td>-1.209269</td>\n",
       "      <td>0.420526</td>\n",
       "      <td>0.0</td>\n",
       "      <td>1.0</td>\n",
       "      <td>0.0</td>\n",
       "      <td>0.0</td>\n",
       "      <td>0.0</td>\n",
       "      <td>0.0</td>\n",
       "      <td>0.0</td>\n",
       "      <td>0.0</td>\n",
       "      <td>...</td>\n",
       "      <td>0.0</td>\n",
       "      <td>0.0</td>\n",
       "      <td>0.0</td>\n",
       "      <td>0.0</td>\n",
       "      <td>1.0</td>\n",
       "      <td>0.0</td>\n",
       "      <td>0.0</td>\n",
       "      <td>0.0</td>\n",
       "      <td>0.0</td>\n",
       "      <td>1.0</td>\n",
       "    </tr>\n",
       "    <tr>\n",
       "      <th>1341</th>\n",
       "      <td>-0.328386</td>\n",
       "      <td>0.420526</td>\n",
       "      <td>1.0</td>\n",
       "      <td>0.0</td>\n",
       "      <td>0.0</td>\n",
       "      <td>0.0</td>\n",
       "      <td>0.0</td>\n",
       "      <td>0.0</td>\n",
       "      <td>0.0</td>\n",
       "      <td>0.0</td>\n",
       "      <td>...</td>\n",
       "      <td>0.0</td>\n",
       "      <td>0.0</td>\n",
       "      <td>0.0</td>\n",
       "      <td>0.0</td>\n",
       "      <td>0.0</td>\n",
       "      <td>1.0</td>\n",
       "      <td>0.0</td>\n",
       "      <td>0.0</td>\n",
       "      <td>0.0</td>\n",
       "      <td>1.0</td>\n",
       "    </tr>\n",
       "  </tbody>\n",
       "</table>\n",
       "<p>1342 rows × 28 columns</p>\n",
       "</div>"
      ],
      "text/plain": [
       "           age  resolution  sex_1  sex_2  body_site_arm  body_site_face  \\\n",
       "0    -1.838471    0.853839    0.0    1.0            0.0             0.0   \n",
       "1    -0.957588    0.853839    1.0    0.0            0.0             0.0   \n",
       "2     0.174976    0.853839    0.0    1.0            0.0             1.0   \n",
       "3     0.049136   -0.287705    0.0    1.0            0.0             0.0   \n",
       "4     1.810903   -0.287705    0.0    1.0            0.0             1.0   \n",
       "...        ...         ...    ...    ...            ...             ...   \n",
       "1337  0.426657    0.420526    1.0    0.0            0.0             0.0   \n",
       "1338  0.300817    0.420526    1.0    0.0            0.0             0.0   \n",
       "1339  1.181700    0.420526    1.0    0.0            0.0             0.0   \n",
       "1340 -1.209269    0.420526    0.0    1.0            0.0             0.0   \n",
       "1341 -0.328386    0.420526    1.0    0.0            0.0             0.0   \n",
       "\n",
       "      body_site_finger  body_site_foot  body_site_forearm  body_site_hand  \\\n",
       "0                  0.0             0.0                0.0             0.0   \n",
       "1                  0.0             0.0                0.0             0.0   \n",
       "2                  0.0             0.0                0.0             0.0   \n",
       "3                  0.0             0.0                1.0             0.0   \n",
       "4                  0.0             0.0                0.0             0.0   \n",
       "...                ...             ...                ...             ...   \n",
       "1337               0.0             0.0                0.0             0.0   \n",
       "1338               0.0             0.0                0.0             0.0   \n",
       "1339               0.0             0.0                0.0             0.0   \n",
       "1340               0.0             0.0                0.0             0.0   \n",
       "1341               0.0             0.0                0.0             0.0   \n",
       "\n",
       "      ...  body_site_sole  body_site_thigh  body_site_toe  body_site_trunc  \\\n",
       "0     ...             0.0              1.0            0.0              0.0   \n",
       "1     ...             0.0              0.0            0.0              1.0   \n",
       "2     ...             0.0              0.0            0.0              0.0   \n",
       "3     ...             0.0              0.0            0.0              0.0   \n",
       "4     ...             0.0              0.0            0.0              0.0   \n",
       "...   ...             ...              ...            ...              ...   \n",
       "1337  ...             0.0              0.0            0.0              0.0   \n",
       "1338  ...             0.0              0.0            0.0              0.0   \n",
       "1339  ...             0.0              0.0            0.0              0.0   \n",
       "1340  ...             0.0              0.0            0.0              0.0   \n",
       "1341  ...             0.0              0.0            0.0              0.0   \n",
       "\n",
       "      body_site_trunk  body_site_upper limb/shoulder  body_site_nan  \\\n",
       "0                 0.0                            0.0            0.0   \n",
       "1                 0.0                            0.0            0.0   \n",
       "2                 0.0                            0.0            0.0   \n",
       "3                 0.0                            0.0            0.0   \n",
       "4                 0.0                            0.0            0.0   \n",
       "...               ...                            ...            ...   \n",
       "1337              0.0                            0.0            0.0   \n",
       "1338              0.0                            0.0            0.0   \n",
       "1339              1.0                            0.0            0.0   \n",
       "1340              1.0                            0.0            0.0   \n",
       "1341              0.0                            1.0            0.0   \n",
       "\n",
       "      melanoma_history_NO  melanoma_history_YES  melanoma_history_nan  \n",
       "0                     0.0                   1.0                   0.0  \n",
       "1                     1.0                   0.0                   0.0  \n",
       "2                     1.0                   0.0                   0.0  \n",
       "3                     0.0                   0.0                   1.0  \n",
       "4                     1.0                   0.0                   0.0  \n",
       "...                   ...                   ...                   ...  \n",
       "1337                  0.0                   0.0                   1.0  \n",
       "1338                  0.0                   0.0                   1.0  \n",
       "1339                  0.0                   0.0                   1.0  \n",
       "1340                  0.0                   0.0                   1.0  \n",
       "1341                  0.0                   0.0                   1.0  \n",
       "\n",
       "[1342 rows x 28 columns]"
      ]
     },
     "execution_count": 18,
     "metadata": {},
     "output_type": "execute_result"
    }
   ],
   "source": [
    "df_meta = pd.read_csv('/workspace/data/train_metadata_pPa7YD3.csv')\n",
    "df_meta = preprocess_meta(df_meta)\n",
    "df_meta"
   ]
  },
  {
   "attachments": {},
   "cell_type": "markdown",
   "metadata": {},
   "source": [
    "Stratified k-fold SVC with meta"
   ]
  },
  {
   "cell_type": "code",
   "execution_count": 19,
   "metadata": {},
   "outputs": [
    {
     "name": "stdout",
     "output_type": "stream",
     "text": [
      "0.42573264651621734\n",
      "0.4133944504585228\n",
      "0.41317940604388825\n",
      "0.41660552989186944\n",
      "0.393692949801468\n"
     ]
    }
   ],
   "source": [
    "features_all_with_meta = np.concatenate([features_all, df_meta.values], axis=1)\n",
    "kfold = StratifiedKFold(5, shuffle=True, random_state=0)\n",
    "for train_indices, val_indices in kfold.split(features_all_with_meta, y_all):\n",
    "    features_train, features_val, y_train, y_val = \\\n",
    "        features_all_with_meta[train_indices], features_all_with_meta[val_indices], y_all[train_indices], y_all[val_indices]\n",
    "    \n",
    "    clf = svm.SVC(kernel='linear', C=1, probability=True).fit(features_train, y_train)\n",
    "    y_val_pred = clf.predict_proba(features_val)\n",
    "\n",
    "    print(log_loss(y_val, y_val_pred, eps=1e-16))"
   ]
  },
  {
   "attachments": {},
   "cell_type": "markdown",
   "metadata": {},
   "source": [
    "K-fold SVC with meta"
   ]
  },
  {
   "cell_type": "code",
   "execution_count": 21,
   "metadata": {},
   "outputs": [
    {
     "name": "stdout",
     "output_type": "stream",
     "text": [
      "0.36108903381058977\n",
      "0.410868975917767\n",
      "0.41850788452184895\n",
      "0.46508678504433654\n",
      "0.4298887441122714\n"
     ]
    }
   ],
   "source": [
    "features_all_with_meta = np.concatenate([features_all, df_meta.values], axis=1)\n",
    "kfold = KFold(5, shuffle=True, random_state=0)\n",
    "for train_indices, val_indices in kfold.split(features_all_with_meta):\n",
    "    features_train, features_val, y_train, y_val = \\\n",
    "        features_all_with_meta[train_indices], features_all_with_meta[val_indices], y_all[train_indices], y_all[val_indices]\n",
    "    \n",
    "    clf = svm.SVC(kernel='linear', C=1, probability=True).fit(features_train, y_train)\n",
    "    y_val_pred = clf.predict_proba(features_val)\n",
    "\n",
    "    print(log_loss(y_val, y_val_pred, eps=1e-16))"
   ]
  },
  {
   "cell_type": "markdown",
   "metadata": {},
   "source": [
    "K-fold RF with meta"
   ]
  },
  {
   "cell_type": "code",
   "execution_count": 25,
   "metadata": {},
   "outputs": [
    {
     "name": "stdout",
     "output_type": "stream",
     "text": [
      "0.34470996624353706\n",
      "0.39014547704236197\n",
      "0.45523979131456765\n",
      "0.461892820804289\n",
      "0.432450993600649\n"
     ]
    }
   ],
   "source": [
    "# rf = RandomForestClassifier(random_state=SEED)\n",
    "# rf.fit(X_train, y_train)\n",
    "# preds = rf.predict_proba(X_test)[:, 1]\n",
    "# score(y_test, preds)\n",
    "\n",
    "kfold = KFold(5, shuffle=True, random_state=0)\n",
    "for train_indices, val_indices in kfold.split(features_all):\n",
    "    features_train, features_val, y_train, y_val = \\\n",
    "        features_all[train_indices], features_all[val_indices], y_all[train_indices], y_all[val_indices]\n",
    "    \n",
    "    clf = RandomForestClassifier(random_state=0).fit(features_train, y_train)\n",
    "    y_val_pred = clf.predict_proba(features_val)\n",
    "\n",
    "    print(log_loss(y_val, y_val_pred, eps=1e-16))"
   ]
  },
  {
   "attachments": {},
   "cell_type": "markdown",
   "metadata": {},
   "source": [
    "Check if `proba[:, 1]` is same as `proba`"
   ]
  },
  {
   "cell_type": "code",
   "execution_count": 26,
   "metadata": {},
   "outputs": [
    {
     "name": "stdout",
     "output_type": "stream",
     "text": [
      "0.432450993600649\n"
     ]
    }
   ],
   "source": [
    "y_val_pred = clf.predict_proba(features_val)[:, 1]\n",
    "print(log_loss(y_val, y_val_pred, eps=1e-16))"
   ]
  },
  {
   "attachments": {},
   "cell_type": "markdown",
   "metadata": {},
   "source": [
    "Stratified k-fold RF with meta"
   ]
  },
  {
   "cell_type": "code",
   "execution_count": 27,
   "metadata": {},
   "outputs": [
    {
     "name": "stdout",
     "output_type": "stream",
     "text": [
      "0.4368884352568464\n",
      "0.4088092059077028\n",
      "0.45857473299396284\n",
      "0.4049857447806959\n",
      "0.40582771279985774\n"
     ]
    }
   ],
   "source": [
    "kfold = StratifiedKFold(5, shuffle=True, random_state=0)\n",
    "for train_indices, val_indices in kfold.split(features_all, y_all):\n",
    "    features_train, features_val, y_train, y_val = \\\n",
    "        features_all[train_indices], features_all[val_indices], y_all[train_indices], y_all[val_indices]\n",
    "    \n",
    "    clf = RandomForestClassifier(random_state=0).fit(features_train, y_train)\n",
    "    y_val_pred = clf.predict_proba(features_val)\n",
    "\n",
    "    print(log_loss(y_val, y_val_pred, eps=1e-16))"
   ]
  },
  {
   "attachments": {},
   "cell_type": "markdown",
   "metadata": {},
   "source": [
    "Mean RF and SVC stratified k-fold"
   ]
  },
  {
   "cell_type": "code",
   "execution_count": 28,
   "metadata": {},
   "outputs": [
    {
     "name": "stdout",
     "output_type": "stream",
     "text": [
      "0.4170635142500181\n",
      "0.398644360086704\n",
      "0.4204090109051184\n",
      "0.39838327858895617\n",
      "0.3851722039984313\n"
     ]
    }
   ],
   "source": [
    "kfold = StratifiedKFold(5, shuffle=True, random_state=0)\n",
    "for train_indices, val_indices in kfold.split(features_all, y_all):\n",
    "    features_train, features_val, y_train, y_val = \\\n",
    "        features_all[train_indices], features_all[val_indices], y_all[train_indices], y_all[val_indices]\n",
    "    \n",
    "    clf = RandomForestClassifier(random_state=0).fit(features_train, y_train)\n",
    "    y_val_pred_rf = clf.predict_proba(features_val)\n",
    "    \n",
    "    clf = svm.SVC(kernel='linear', C=1, probability=True).fit(features_train, y_train)\n",
    "    y_val_pred_svc = clf.predict_proba(features_val)\n",
    "\n",
    "    print(log_loss(y_val, (y_val_pred_rf[:, 1] + y_val_pred_svc[:, 1]) / 2, eps=1e-16))"
   ]
  },
  {
   "attachments": {},
   "cell_type": "markdown",
   "metadata": {},
   "source": [
    "Mean RF and SVC stratified k-fold with meta"
   ]
  },
  {
   "cell_type": "code",
   "execution_count": 29,
   "metadata": {},
   "outputs": [
    {
     "name": "stdout",
     "output_type": "stream",
     "text": [
      "0.4219610288644784\n",
      "0.40559291005923137\n",
      "0.41281391536061274\n",
      "0.40006621192454694\n",
      "0.3915396477751424\n"
     ]
    }
   ],
   "source": [
    "kfold = StratifiedKFold(5, shuffle=True, random_state=0)\n",
    "for train_indices, val_indices in kfold.split(features_all, y_all):\n",
    "    features_train, features_val, y_train, y_val = \\\n",
    "        features_all_with_meta[train_indices], features_all_with_meta[val_indices], y_all[train_indices], y_all[val_indices]\n",
    "    \n",
    "    clf = RandomForestClassifier(random_state=0).fit(features_train, y_train)\n",
    "    y_val_pred_rf = clf.predict_proba(features_val)\n",
    "    \n",
    "    clf = svm.SVC(kernel='linear', C=1, probability=True).fit(features_train, y_train)\n",
    "    y_val_pred_svc = clf.predict_proba(features_val)\n",
    "\n",
    "    print(log_loss(y_val, (y_val_pred_rf[:, 1] + y_val_pred_svc[:, 1]) / 2, eps=1e-16))"
   ]
  },
  {
   "attachments": {},
   "cell_type": "markdown",
   "metadata": {},
   "source": [
    "Mean RF (on meta only) and SVC (on embeddings only) stratified k-fold with meta"
   ]
  },
  {
   "cell_type": "code",
   "execution_count": 30,
   "metadata": {},
   "outputs": [
    {
     "name": "stdout",
     "output_type": "stream",
     "text": [
      "0.4532913817141075\n",
      "0.45740994283857767\n",
      "0.4487813861945305\n",
      "0.4450200526932683\n",
      "0.44647944134465706\n"
     ]
    }
   ],
   "source": [
    "kfold = StratifiedKFold(5, shuffle=True, random_state=0)\n",
    "for train_indices, val_indices in kfold.split(features_all, y_all):\n",
    "    features_train, features_val, y_train, y_val = \\\n",
    "        features_all[train_indices], features_all[val_indices], y_all[train_indices], y_all[val_indices]\n",
    "    \n",
    "    features_train_only_meta, features_val_only_meta = \\\n",
    "        df_meta.values[train_indices], df_meta.values[val_indices]\n",
    "    \n",
    "    clf = RandomForestClassifier(random_state=0).fit(features_train_only_meta, y_train)\n",
    "    y_val_pred_rf = clf.predict_proba(features_val_only_meta)\n",
    "    \n",
    "    clf = svm.SVC(kernel='linear', C=1, probability=True).fit(features_train, y_train)\n",
    "    y_val_pred_svc = clf.predict_proba(features_val)\n",
    "\n",
    "    print(log_loss(y_val, (y_val_pred_rf[:, 1] + y_val_pred_svc[:, 1]) / 2, eps=1e-16))"
   ]
  },
  {
   "attachments": {},
   "cell_type": "markdown",
   "metadata": {},
   "source": [
    "# SSUP with validation & timm only"
   ]
  },
  {
   "cell_type": "code",
   "execution_count": 4,
   "metadata": {},
   "outputs": [
    {
     "name": "stderr",
     "output_type": "stream",
     "text": [
      "/root/miniconda3/envs/visiomel-2023/lib/python3.10/site-packages/torch/functional.py:504: UserWarning: torch.meshgrid: in an upcoming release, it will be required to pass the indexing argument. (Triggered internally at ../aten/src/ATen/native/TensorShape.cpp:3483.)\n",
      "  return _VF.meshgrid(tensors, **kwargs)  # type: ignore[attr-defined]\n"
     ]
    }
   ],
   "source": [
    "model = timm.create_model(\n",
    "    'swinv2_large_window12to24_192to384_22kft1k', \n",
    "    img_size=1536, \n",
    "    pretrained=False, \n",
    "    num_classes=0\n",
    ")\n",
    "state_dict = {\n",
    "    k \\\n",
    "        .replace('model.encoder.', 'model.'): v \n",
    "    for k, v in \n",
    "    torch.load('/workspace/visiomel-2023/weights/no_val_ssup/checkpoints/last.ckpt')['state_dict'].items()\n",
    "}\n",
    "model.load_state_dict(state_dict, strict=False)\n",
    "model = model.cuda().eval()"
   ]
  },
  {
   "cell_type": "code",
   "execution_count": 5,
   "metadata": {},
   "outputs": [],
   "source": [
    "datamodule = VisiomelDatamodule(\n",
    "    task='classification',\n",
    "    data_dir_train = '/workspace/data/images_page_4/',\t\n",
    "    k = 5,\n",
    "    fold_index = 0,\n",
    "    data_dir_test = None,\n",
    "    img_size = 1536,\n",
    "    shrink_preview_scale = 8,\n",
    "    batch_size = 2,\n",
    "    split_seed = 0,\n",
    "    num_workers = 4,\n",
    "    pin_memory = False,\n",
    "    prefetch_factor = None,\n",
    "    persistent_workers = False,\n",
    "    sampler = None,\n",
    "    data_shrinked=False,\n",
    "    num_workers_saturated=4,\n",
    "    enable_caching=False,\n",
    "    train_resize_type='resize',\n",
    ")\n",
    "datamodule.setup()\n",
    "train_dataloader = datamodule.train_dataloader()\n",
    "val_dataloader = datamodule.val_dataloader()"
   ]
  },
  {
   "cell_type": "code",
   "execution_count": null,
   "metadata": {},
   "outputs": [],
   "source": [
    "features_all, y_all = extract_features(model, train_dataloader)\n",
    "features_all_val, y_all_val = extract_features(model, val_dataloader)\n",
    "features_all.shape, y_all.shape"
   ]
  },
  {
   "cell_type": "code",
   "execution_count": null,
   "metadata": {},
   "outputs": [],
   "source": [
    "# SVM classifier on features_all and y_all\n",
    "clf = svm.SVC(kernel='linear', C=1, probability=True).fit(features_all.cpu().numpy(), y_all.cpu().numpy())\n",
    "\n",
    "# Predict on validation set\n",
    "y_all_val_pred = clf.predict_proba(features_all_val.cpu().numpy())\n",
    "\n",
    "# log_loss\n",
    "log_loss(y_all_val.cpu().numpy(), y_all_val_pred, eps=1e-16)"
   ]
  },
  {
   "cell_type": "code",
   "execution_count": null,
   "metadata": {},
   "outputs": [],
   "source": [
    "# Predict on train set\n",
    "y_all_pred = clf.predict_proba(features_all.cpu().numpy())\n",
    "\n",
    "# log_loss\n",
    "log_loss(y_all.cpu().numpy(), y_all_pred, eps=1e-16)"
   ]
  },
  {
   "attachments": {},
   "cell_type": "markdown",
   "metadata": {},
   "source": [
    "# SSUP without validation & timm + metadata"
   ]
  },
  {
   "cell_type": "code",
   "execution_count": 5,
   "metadata": {},
   "outputs": [
    {
     "data": {
      "text/html": [
       "<div>\n",
       "<style scoped>\n",
       "    .dataframe tbody tr th:only-of-type {\n",
       "        vertical-align: middle;\n",
       "    }\n",
       "\n",
       "    .dataframe tbody tr th {\n",
       "        vertical-align: top;\n",
       "    }\n",
       "\n",
       "    .dataframe thead th {\n",
       "        text-align: right;\n",
       "    }\n",
       "</style>\n",
       "<table border=\"1\" class=\"dataframe\">\n",
       "  <thead>\n",
       "    <tr style=\"text-align: right;\">\n",
       "      <th></th>\n",
       "      <th>age</th>\n",
       "      <th>resolution</th>\n",
       "      <th>sex_1</th>\n",
       "      <th>sex_2</th>\n",
       "      <th>body_site_arm</th>\n",
       "      <th>body_site_face</th>\n",
       "      <th>body_site_finger</th>\n",
       "      <th>body_site_foot</th>\n",
       "      <th>body_site_forearm</th>\n",
       "      <th>body_site_hand</th>\n",
       "      <th>...</th>\n",
       "      <th>body_site_sole</th>\n",
       "      <th>body_site_thigh</th>\n",
       "      <th>body_site_toe</th>\n",
       "      <th>body_site_trunc</th>\n",
       "      <th>body_site_trunk</th>\n",
       "      <th>body_site_upper limb/shoulder</th>\n",
       "      <th>body_site_nan</th>\n",
       "      <th>melanoma_history_NO</th>\n",
       "      <th>melanoma_history_YES</th>\n",
       "      <th>melanoma_history_nan</th>\n",
       "    </tr>\n",
       "  </thead>\n",
       "  <tbody>\n",
       "    <tr>\n",
       "      <th>0</th>\n",
       "      <td>-1.838471</td>\n",
       "      <td>0.853839</td>\n",
       "      <td>0.0</td>\n",
       "      <td>1.0</td>\n",
       "      <td>0.0</td>\n",
       "      <td>0.0</td>\n",
       "      <td>0.0</td>\n",
       "      <td>0.0</td>\n",
       "      <td>0.0</td>\n",
       "      <td>0.0</td>\n",
       "      <td>...</td>\n",
       "      <td>0.0</td>\n",
       "      <td>1.0</td>\n",
       "      <td>0.0</td>\n",
       "      <td>0.0</td>\n",
       "      <td>0.0</td>\n",
       "      <td>0.0</td>\n",
       "      <td>0.0</td>\n",
       "      <td>0.0</td>\n",
       "      <td>1.0</td>\n",
       "      <td>0.0</td>\n",
       "    </tr>\n",
       "    <tr>\n",
       "      <th>1</th>\n",
       "      <td>-0.957588</td>\n",
       "      <td>0.853839</td>\n",
       "      <td>1.0</td>\n",
       "      <td>0.0</td>\n",
       "      <td>0.0</td>\n",
       "      <td>0.0</td>\n",
       "      <td>0.0</td>\n",
       "      <td>0.0</td>\n",
       "      <td>0.0</td>\n",
       "      <td>0.0</td>\n",
       "      <td>...</td>\n",
       "      <td>0.0</td>\n",
       "      <td>0.0</td>\n",
       "      <td>0.0</td>\n",
       "      <td>1.0</td>\n",
       "      <td>0.0</td>\n",
       "      <td>0.0</td>\n",
       "      <td>0.0</td>\n",
       "      <td>1.0</td>\n",
       "      <td>0.0</td>\n",
       "      <td>0.0</td>\n",
       "    </tr>\n",
       "    <tr>\n",
       "      <th>2</th>\n",
       "      <td>0.174976</td>\n",
       "      <td>0.853839</td>\n",
       "      <td>0.0</td>\n",
       "      <td>1.0</td>\n",
       "      <td>0.0</td>\n",
       "      <td>1.0</td>\n",
       "      <td>0.0</td>\n",
       "      <td>0.0</td>\n",
       "      <td>0.0</td>\n",
       "      <td>0.0</td>\n",
       "      <td>...</td>\n",
       "      <td>0.0</td>\n",
       "      <td>0.0</td>\n",
       "      <td>0.0</td>\n",
       "      <td>0.0</td>\n",
       "      <td>0.0</td>\n",
       "      <td>0.0</td>\n",
       "      <td>0.0</td>\n",
       "      <td>1.0</td>\n",
       "      <td>0.0</td>\n",
       "      <td>0.0</td>\n",
       "    </tr>\n",
       "    <tr>\n",
       "      <th>3</th>\n",
       "      <td>0.049136</td>\n",
       "      <td>-0.287705</td>\n",
       "      <td>0.0</td>\n",
       "      <td>1.0</td>\n",
       "      <td>0.0</td>\n",
       "      <td>0.0</td>\n",
       "      <td>0.0</td>\n",
       "      <td>0.0</td>\n",
       "      <td>1.0</td>\n",
       "      <td>0.0</td>\n",
       "      <td>...</td>\n",
       "      <td>0.0</td>\n",
       "      <td>0.0</td>\n",
       "      <td>0.0</td>\n",
       "      <td>0.0</td>\n",
       "      <td>0.0</td>\n",
       "      <td>0.0</td>\n",
       "      <td>0.0</td>\n",
       "      <td>0.0</td>\n",
       "      <td>0.0</td>\n",
       "      <td>1.0</td>\n",
       "    </tr>\n",
       "    <tr>\n",
       "      <th>4</th>\n",
       "      <td>1.810903</td>\n",
       "      <td>-0.287705</td>\n",
       "      <td>0.0</td>\n",
       "      <td>1.0</td>\n",
       "      <td>0.0</td>\n",
       "      <td>1.0</td>\n",
       "      <td>0.0</td>\n",
       "      <td>0.0</td>\n",
       "      <td>0.0</td>\n",
       "      <td>0.0</td>\n",
       "      <td>...</td>\n",
       "      <td>0.0</td>\n",
       "      <td>0.0</td>\n",
       "      <td>0.0</td>\n",
       "      <td>0.0</td>\n",
       "      <td>0.0</td>\n",
       "      <td>0.0</td>\n",
       "      <td>0.0</td>\n",
       "      <td>1.0</td>\n",
       "      <td>0.0</td>\n",
       "      <td>0.0</td>\n",
       "    </tr>\n",
       "    <tr>\n",
       "      <th>...</th>\n",
       "      <td>...</td>\n",
       "      <td>...</td>\n",
       "      <td>...</td>\n",
       "      <td>...</td>\n",
       "      <td>...</td>\n",
       "      <td>...</td>\n",
       "      <td>...</td>\n",
       "      <td>...</td>\n",
       "      <td>...</td>\n",
       "      <td>...</td>\n",
       "      <td>...</td>\n",
       "      <td>...</td>\n",
       "      <td>...</td>\n",
       "      <td>...</td>\n",
       "      <td>...</td>\n",
       "      <td>...</td>\n",
       "      <td>...</td>\n",
       "      <td>...</td>\n",
       "      <td>...</td>\n",
       "      <td>...</td>\n",
       "      <td>...</td>\n",
       "    </tr>\n",
       "    <tr>\n",
       "      <th>1337</th>\n",
       "      <td>0.426657</td>\n",
       "      <td>0.420526</td>\n",
       "      <td>1.0</td>\n",
       "      <td>0.0</td>\n",
       "      <td>0.0</td>\n",
       "      <td>0.0</td>\n",
       "      <td>0.0</td>\n",
       "      <td>0.0</td>\n",
       "      <td>0.0</td>\n",
       "      <td>0.0</td>\n",
       "      <td>...</td>\n",
       "      <td>0.0</td>\n",
       "      <td>0.0</td>\n",
       "      <td>0.0</td>\n",
       "      <td>0.0</td>\n",
       "      <td>0.0</td>\n",
       "      <td>0.0</td>\n",
       "      <td>0.0</td>\n",
       "      <td>0.0</td>\n",
       "      <td>0.0</td>\n",
       "      <td>1.0</td>\n",
       "    </tr>\n",
       "    <tr>\n",
       "      <th>1338</th>\n",
       "      <td>0.300817</td>\n",
       "      <td>0.420526</td>\n",
       "      <td>1.0</td>\n",
       "      <td>0.0</td>\n",
       "      <td>0.0</td>\n",
       "      <td>0.0</td>\n",
       "      <td>0.0</td>\n",
       "      <td>0.0</td>\n",
       "      <td>0.0</td>\n",
       "      <td>0.0</td>\n",
       "      <td>...</td>\n",
       "      <td>0.0</td>\n",
       "      <td>0.0</td>\n",
       "      <td>0.0</td>\n",
       "      <td>0.0</td>\n",
       "      <td>0.0</td>\n",
       "      <td>0.0</td>\n",
       "      <td>0.0</td>\n",
       "      <td>0.0</td>\n",
       "      <td>0.0</td>\n",
       "      <td>1.0</td>\n",
       "    </tr>\n",
       "    <tr>\n",
       "      <th>1339</th>\n",
       "      <td>1.181700</td>\n",
       "      <td>0.420526</td>\n",
       "      <td>1.0</td>\n",
       "      <td>0.0</td>\n",
       "      <td>0.0</td>\n",
       "      <td>0.0</td>\n",
       "      <td>0.0</td>\n",
       "      <td>0.0</td>\n",
       "      <td>0.0</td>\n",
       "      <td>0.0</td>\n",
       "      <td>...</td>\n",
       "      <td>0.0</td>\n",
       "      <td>0.0</td>\n",
       "      <td>0.0</td>\n",
       "      <td>0.0</td>\n",
       "      <td>1.0</td>\n",
       "      <td>0.0</td>\n",
       "      <td>0.0</td>\n",
       "      <td>0.0</td>\n",
       "      <td>0.0</td>\n",
       "      <td>1.0</td>\n",
       "    </tr>\n",
       "    <tr>\n",
       "      <th>1340</th>\n",
       "      <td>-1.209269</td>\n",
       "      <td>0.420526</td>\n",
       "      <td>0.0</td>\n",
       "      <td>1.0</td>\n",
       "      <td>0.0</td>\n",
       "      <td>0.0</td>\n",
       "      <td>0.0</td>\n",
       "      <td>0.0</td>\n",
       "      <td>0.0</td>\n",
       "      <td>0.0</td>\n",
       "      <td>...</td>\n",
       "      <td>0.0</td>\n",
       "      <td>0.0</td>\n",
       "      <td>0.0</td>\n",
       "      <td>0.0</td>\n",
       "      <td>1.0</td>\n",
       "      <td>0.0</td>\n",
       "      <td>0.0</td>\n",
       "      <td>0.0</td>\n",
       "      <td>0.0</td>\n",
       "      <td>1.0</td>\n",
       "    </tr>\n",
       "    <tr>\n",
       "      <th>1341</th>\n",
       "      <td>-0.328386</td>\n",
       "      <td>0.420526</td>\n",
       "      <td>1.0</td>\n",
       "      <td>0.0</td>\n",
       "      <td>0.0</td>\n",
       "      <td>0.0</td>\n",
       "      <td>0.0</td>\n",
       "      <td>0.0</td>\n",
       "      <td>0.0</td>\n",
       "      <td>0.0</td>\n",
       "      <td>...</td>\n",
       "      <td>0.0</td>\n",
       "      <td>0.0</td>\n",
       "      <td>0.0</td>\n",
       "      <td>0.0</td>\n",
       "      <td>0.0</td>\n",
       "      <td>1.0</td>\n",
       "      <td>0.0</td>\n",
       "      <td>0.0</td>\n",
       "      <td>0.0</td>\n",
       "      <td>1.0</td>\n",
       "    </tr>\n",
       "  </tbody>\n",
       "</table>\n",
       "<p>1342 rows × 28 columns</p>\n",
       "</div>"
      ],
      "text/plain": [
       "           age  resolution  sex_1  sex_2  body_site_arm  body_site_face  \\\n",
       "0    -1.838471    0.853839    0.0    1.0            0.0             0.0   \n",
       "1    -0.957588    0.853839    1.0    0.0            0.0             0.0   \n",
       "2     0.174976    0.853839    0.0    1.0            0.0             1.0   \n",
       "3     0.049136   -0.287705    0.0    1.0            0.0             0.0   \n",
       "4     1.810903   -0.287705    0.0    1.0            0.0             1.0   \n",
       "...        ...         ...    ...    ...            ...             ...   \n",
       "1337  0.426657    0.420526    1.0    0.0            0.0             0.0   \n",
       "1338  0.300817    0.420526    1.0    0.0            0.0             0.0   \n",
       "1339  1.181700    0.420526    1.0    0.0            0.0             0.0   \n",
       "1340 -1.209269    0.420526    0.0    1.0            0.0             0.0   \n",
       "1341 -0.328386    0.420526    1.0    0.0            0.0             0.0   \n",
       "\n",
       "      body_site_finger  body_site_foot  body_site_forearm  body_site_hand  \\\n",
       "0                  0.0             0.0                0.0             0.0   \n",
       "1                  0.0             0.0                0.0             0.0   \n",
       "2                  0.0             0.0                0.0             0.0   \n",
       "3                  0.0             0.0                1.0             0.0   \n",
       "4                  0.0             0.0                0.0             0.0   \n",
       "...                ...             ...                ...             ...   \n",
       "1337               0.0             0.0                0.0             0.0   \n",
       "1338               0.0             0.0                0.0             0.0   \n",
       "1339               0.0             0.0                0.0             0.0   \n",
       "1340               0.0             0.0                0.0             0.0   \n",
       "1341               0.0             0.0                0.0             0.0   \n",
       "\n",
       "      ...  body_site_sole  body_site_thigh  body_site_toe  body_site_trunc  \\\n",
       "0     ...             0.0              1.0            0.0              0.0   \n",
       "1     ...             0.0              0.0            0.0              1.0   \n",
       "2     ...             0.0              0.0            0.0              0.0   \n",
       "3     ...             0.0              0.0            0.0              0.0   \n",
       "4     ...             0.0              0.0            0.0              0.0   \n",
       "...   ...             ...              ...            ...              ...   \n",
       "1337  ...             0.0              0.0            0.0              0.0   \n",
       "1338  ...             0.0              0.0            0.0              0.0   \n",
       "1339  ...             0.0              0.0            0.0              0.0   \n",
       "1340  ...             0.0              0.0            0.0              0.0   \n",
       "1341  ...             0.0              0.0            0.0              0.0   \n",
       "\n",
       "      body_site_trunk  body_site_upper limb/shoulder  body_site_nan  \\\n",
       "0                 0.0                            0.0            0.0   \n",
       "1                 0.0                            0.0            0.0   \n",
       "2                 0.0                            0.0            0.0   \n",
       "3                 0.0                            0.0            0.0   \n",
       "4                 0.0                            0.0            0.0   \n",
       "...               ...                            ...            ...   \n",
       "1337              0.0                            0.0            0.0   \n",
       "1338              0.0                            0.0            0.0   \n",
       "1339              1.0                            0.0            0.0   \n",
       "1340              1.0                            0.0            0.0   \n",
       "1341              0.0                            1.0            0.0   \n",
       "\n",
       "      melanoma_history_NO  melanoma_history_YES  melanoma_history_nan  \n",
       "0                     0.0                   1.0                   0.0  \n",
       "1                     1.0                   0.0                   0.0  \n",
       "2                     1.0                   0.0                   0.0  \n",
       "3                     0.0                   0.0                   1.0  \n",
       "4                     1.0                   0.0                   0.0  \n",
       "...                   ...                   ...                   ...  \n",
       "1337                  0.0                   0.0                   1.0  \n",
       "1338                  0.0                   0.0                   1.0  \n",
       "1339                  0.0                   0.0                   1.0  \n",
       "1340                  0.0                   0.0                   1.0  \n",
       "1341                  0.0                   0.0                   1.0  \n",
       "\n",
       "[1342 rows x 28 columns]"
      ]
     },
     "execution_count": 5,
     "metadata": {},
     "output_type": "execute_result"
    }
   ],
   "source": [
    "df_meta = pd.read_csv('/workspace/data/train_metadata_pPa7YD3.csv')\n",
    "df_meta = preprocess_meta(df_meta)\n",
    "df_meta"
   ]
  },
  {
   "cell_type": "code",
   "execution_count": 6,
   "metadata": {},
   "outputs": [
    {
     "name": "stderr",
     "output_type": "stream",
     "text": [
      "/root/miniconda3/envs/visiomel-2023/lib/python3.10/site-packages/torch/functional.py:504: UserWarning: torch.meshgrid: in an upcoming release, it will be required to pass the indexing argument. (Triggered internally at ../aten/src/ATen/native/TensorShape.cpp:3483.)\n",
      "  return _VF.meshgrid(tensors, **kwargs)  # type: ignore[attr-defined]\n"
     ]
    }
   ],
   "source": [
    "model = timm.create_model(\n",
    "    'swinv2_large_window12to24_192to384_22kft1k', \n",
    "    img_size=1536, \n",
    "    pretrained=False, \n",
    "    num_classes=0\n",
    ")\n",
    "state_dict = {\n",
    "    k \\\n",
    "        .replace('model.encoder.', 'model.'): v \n",
    "    for k, v in \n",
    "    torch.load('/workspace/visiomel-2023/weights/no_val_ssup/checkpoints//last.ckpt')['state_dict'].items()\n",
    "}\n",
    "model.load_state_dict(state_dict, strict=False)\n",
    "model = model.cuda().eval()"
   ]
  },
  {
   "cell_type": "code",
   "execution_count": 7,
   "metadata": {},
   "outputs": [],
   "source": [
    "datamodule = VisiomelDatamodule(\n",
    "    task='simmim',\n",
    "    data_dir_train = '/workspace/data/images_page_4/',\t\n",
    "    k = None,\n",
    "    fold_index = 0,\n",
    "    data_dir_test = None,\n",
    "    img_size = 1536,\n",
    "    shrink_preview_scale = 8,\n",
    "    batch_size = 2,\n",
    "    split_seed = 0,\n",
    "    num_workers = 8,\n",
    "    pin_memory = False,\n",
    "    prefetch_factor = None,\n",
    "    persistent_workers = False,\n",
    "    sampler = None,\n",
    "    data_shrinked=False,\n",
    "    num_workers_saturated=8,\n",
    "    enable_caching=False,\n",
    "    train_resize_type='resize',\n",
    ")\n",
    "datamodule.setup()\n",
    "train_dataloader = datamodule.train_dataloader()"
   ]
  },
  {
   "cell_type": "code",
   "execution_count": 8,
   "metadata": {},
   "outputs": [
    {
     "name": "stderr",
     "output_type": "stream",
     "text": [
      "100%|██████████| 671/671 [17:53<00:00,  1.60s/it]\n"
     ]
    },
    {
     "data": {
      "text/plain": [
       "(torch.Size([1342, 4416]), torch.Size([1342]))"
      ]
     },
     "execution_count": 8,
     "metadata": {},
     "output_type": "execute_result"
    }
   ],
   "source": [
    "features_all, y_all = extract_features(model, train_dataloader)\n",
    "features_all.shape, y_all.shape"
   ]
  },
  {
   "cell_type": "code",
   "execution_count": 9,
   "metadata": {},
   "outputs": [],
   "source": [
    "features_all, y_all = features_all.cpu().numpy(), y_all.cpu().numpy()"
   ]
  },
  {
   "cell_type": "code",
   "execution_count": 13,
   "metadata": {},
   "outputs": [],
   "source": [
    "features_train, features_test, y_train, y_test = train_test_split(\n",
    "    features_all, y_all, test_size=0.166, random_state=0, stratify=y_all\n",
    ")"
   ]
  },
  {
   "cell_type": "code",
   "execution_count": 15,
   "metadata": {},
   "outputs": [
    {
     "data": {
      "text/plain": [
       "0.4236893587704314"
      ]
     },
     "execution_count": 15,
     "metadata": {},
     "output_type": "execute_result"
    }
   ],
   "source": [
    "# SVM classifier on features_all and y_all\n",
    "clf = svm.SVC(kernel='linear', C=1, probability=True).fit(features_train, y_train)\n",
    "\n",
    "# Predict on validation set\n",
    "y_test_pred = clf.predict_proba(features_test)\n",
    "\n",
    "# log_loss\n",
    "log_loss(y_test, y_test_pred, eps=1e-16)"
   ]
  },
  {
   "attachments": {},
   "cell_type": "markdown",
   "metadata": {},
   "source": [
    "Without meta"
   ]
  },
  {
   "cell_type": "code",
   "execution_count": 10,
   "metadata": {},
   "outputs": [
    {
     "name": "stdout",
     "output_type": "stream",
     "text": [
      "0.43014188939565784\n",
      "0.43644598784581323\n",
      "0.4207242589969904\n",
      "0.42882712274622975\n",
      "0.43228598554149766\n"
     ]
    }
   ],
   "source": [
    "kfold = StratifiedKFold(5, shuffle=True, random_state=0)\n",
    "for train_indices, val_indices in kfold.split(features_all, y_all):\n",
    "    features_train, features_val, y_train, y_val = \\\n",
    "        features_all[train_indices], features_all[val_indices], y_all[train_indices], y_all[val_indices]\n",
    "    \n",
    "    clf = svm.SVC(kernel='linear', C=1, probability=True).fit(features_train, y_train)\n",
    "    y_val_pred = clf.predict_proba(features_val)\n",
    "\n",
    "    print(log_loss(y_val, y_val_pred, eps=1e-16))"
   ]
  },
  {
   "attachments": {},
   "cell_type": "markdown",
   "metadata": {},
   "source": [
    "With meta"
   ]
  },
  {
   "cell_type": "code",
   "execution_count": 17,
   "metadata": {},
   "outputs": [
    {
     "name": "stdout",
     "output_type": "stream",
     "text": [
      "0.4300638380821486\n",
      "0.44505363228407685\n",
      "0.4235045859257474\n",
      "0.4259746981599941\n",
      "0.42989217645888206\n"
     ]
    }
   ],
   "source": [
    "features_all_with_meta = np.concatenate([features_all, df_meta.values], axis=1)\n",
    "kfold = StratifiedKFold(5, shuffle=True, random_state=0)\n",
    "for train_indices, val_indices in kfold.split(features_all_with_meta, y_all):\n",
    "    features_train, features_val, y_train, y_val = \\\n",
    "        features_all_with_meta[train_indices], features_all_with_meta[val_indices], y_all[train_indices], y_all[val_indices]\n",
    "    \n",
    "    clf = svm.SVC(kernel='linear', C=1, probability=True).fit(features_train, y_train)\n",
    "    y_val_pred = clf.predict_proba(features_val)\n",
    "\n",
    "    print(log_loss(y_val, y_val_pred, eps=1e-16))"
   ]
  },
  {
   "attachments": {},
   "cell_type": "markdown",
   "metadata": {},
   "source": [
    "Without meta and calibration"
   ]
  },
  {
   "cell_type": "code",
   "execution_count": 22,
   "metadata": {},
   "outputs": [
    {
     "data": {
      "text/html": [
       "<style>#sk-container-id-2 {color: black;background-color: white;}#sk-container-id-2 pre{padding: 0;}#sk-container-id-2 div.sk-toggleable {background-color: white;}#sk-container-id-2 label.sk-toggleable__label {cursor: pointer;display: block;width: 100%;margin-bottom: 0;padding: 0.3em;box-sizing: border-box;text-align: center;}#sk-container-id-2 label.sk-toggleable__label-arrow:before {content: \"▸\";float: left;margin-right: 0.25em;color: #696969;}#sk-container-id-2 label.sk-toggleable__label-arrow:hover:before {color: black;}#sk-container-id-2 div.sk-estimator:hover label.sk-toggleable__label-arrow:before {color: black;}#sk-container-id-2 div.sk-toggleable__content {max-height: 0;max-width: 0;overflow: hidden;text-align: left;background-color: #f0f8ff;}#sk-container-id-2 div.sk-toggleable__content pre {margin: 0.2em;color: black;border-radius: 0.25em;background-color: #f0f8ff;}#sk-container-id-2 input.sk-toggleable__control:checked~div.sk-toggleable__content {max-height: 200px;max-width: 100%;overflow: auto;}#sk-container-id-2 input.sk-toggleable__control:checked~label.sk-toggleable__label-arrow:before {content: \"▾\";}#sk-container-id-2 div.sk-estimator input.sk-toggleable__control:checked~label.sk-toggleable__label {background-color: #d4ebff;}#sk-container-id-2 div.sk-label input.sk-toggleable__control:checked~label.sk-toggleable__label {background-color: #d4ebff;}#sk-container-id-2 input.sk-hidden--visually {border: 0;clip: rect(1px 1px 1px 1px);clip: rect(1px, 1px, 1px, 1px);height: 1px;margin: -1px;overflow: hidden;padding: 0;position: absolute;width: 1px;}#sk-container-id-2 div.sk-estimator {font-family: monospace;background-color: #f0f8ff;border: 1px dotted black;border-radius: 0.25em;box-sizing: border-box;margin-bottom: 0.5em;}#sk-container-id-2 div.sk-estimator:hover {background-color: #d4ebff;}#sk-container-id-2 div.sk-parallel-item::after {content: \"\";width: 100%;border-bottom: 1px solid gray;flex-grow: 1;}#sk-container-id-2 div.sk-label:hover label.sk-toggleable__label {background-color: #d4ebff;}#sk-container-id-2 div.sk-serial::before {content: \"\";position: absolute;border-left: 1px solid gray;box-sizing: border-box;top: 0;bottom: 0;left: 50%;z-index: 0;}#sk-container-id-2 div.sk-serial {display: flex;flex-direction: column;align-items: center;background-color: white;padding-right: 0.2em;padding-left: 0.2em;position: relative;}#sk-container-id-2 div.sk-item {position: relative;z-index: 1;}#sk-container-id-2 div.sk-parallel {display: flex;align-items: stretch;justify-content: center;background-color: white;position: relative;}#sk-container-id-2 div.sk-item::before, #sk-container-id-2 div.sk-parallel-item::before {content: \"\";position: absolute;border-left: 1px solid gray;box-sizing: border-box;top: 0;bottom: 0;left: 50%;z-index: -1;}#sk-container-id-2 div.sk-parallel-item {display: flex;flex-direction: column;z-index: 1;position: relative;background-color: white;}#sk-container-id-2 div.sk-parallel-item:first-child::after {align-self: flex-end;width: 50%;}#sk-container-id-2 div.sk-parallel-item:last-child::after {align-self: flex-start;width: 50%;}#sk-container-id-2 div.sk-parallel-item:only-child::after {width: 0;}#sk-container-id-2 div.sk-dashed-wrapped {border: 1px dashed gray;margin: 0 0.4em 0.5em 0.4em;box-sizing: border-box;padding-bottom: 0.4em;background-color: white;}#sk-container-id-2 div.sk-label label {font-family: monospace;font-weight: bold;display: inline-block;line-height: 1.2em;}#sk-container-id-2 div.sk-label-container {text-align: center;}#sk-container-id-2 div.sk-container {/* jupyter's `normalize.less` sets `[hidden] { display: none; }` but bootstrap.min.css set `[hidden] { display: none !important; }` so we also need the `!important` here to be able to override the default hidden behavior on the sphinx rendered scikit-learn.org. See: https://github.com/scikit-learn/scikit-learn/issues/21755 */display: inline-block !important;position: relative;}#sk-container-id-2 div.sk-text-repr-fallback {display: none;}</style><div id=\"sk-container-id-2\" class=\"sk-top-container\"><div class=\"sk-text-repr-fallback\"><pre>CalibratedClassifierCV(cv=&lt;generator object _BaseKFold.split at 0x7f93a038c7b0&gt;,\n",
       "                       estimator=SVC(C=1, kernel=&#x27;linear&#x27;, probability=True))</pre><b>In a Jupyter environment, please rerun this cell to show the HTML representation or trust the notebook. <br />On GitHub, the HTML representation is unable to render, please try loading this page with nbviewer.org.</b></div><div class=\"sk-container\" hidden><div class=\"sk-item sk-dashed-wrapped\"><div class=\"sk-label-container\"><div class=\"sk-label sk-toggleable\"><input class=\"sk-toggleable__control sk-hidden--visually\" id=\"sk-estimator-id-4\" type=\"checkbox\" ><label for=\"sk-estimator-id-4\" class=\"sk-toggleable__label sk-toggleable__label-arrow\">CalibratedClassifierCV</label><div class=\"sk-toggleable__content\"><pre>CalibratedClassifierCV(cv=&lt;generator object _BaseKFold.split at 0x7f93a038c7b0&gt;,\n",
       "                       estimator=SVC(C=1, kernel=&#x27;linear&#x27;, probability=True))</pre></div></div></div><div class=\"sk-parallel\"><div class=\"sk-parallel-item\"><div class=\"sk-item\"><div class=\"sk-label-container\"><div class=\"sk-label sk-toggleable\"><input class=\"sk-toggleable__control sk-hidden--visually\" id=\"sk-estimator-id-5\" type=\"checkbox\" ><label for=\"sk-estimator-id-5\" class=\"sk-toggleable__label sk-toggleable__label-arrow\">estimator: SVC</label><div class=\"sk-toggleable__content\"><pre>SVC(C=1, kernel=&#x27;linear&#x27;, probability=True)</pre></div></div></div><div class=\"sk-serial\"><div class=\"sk-item\"><div class=\"sk-estimator sk-toggleable\"><input class=\"sk-toggleable__control sk-hidden--visually\" id=\"sk-estimator-id-6\" type=\"checkbox\" ><label for=\"sk-estimator-id-6\" class=\"sk-toggleable__label sk-toggleable__label-arrow\">SVC</label><div class=\"sk-toggleable__content\"><pre>SVC(C=1, kernel=&#x27;linear&#x27;, probability=True)</pre></div></div></div></div></div></div></div></div></div></div>"
      ],
      "text/plain": [
       "CalibratedClassifierCV(cv=<generator object _BaseKFold.split at 0x7f93a038c7b0>,\n",
       "                       estimator=SVC(C=1, kernel='linear', probability=True))"
      ]
     },
     "execution_count": 22,
     "metadata": {},
     "output_type": "execute_result"
    }
   ],
   "source": [
    "features_train, features_test, y_train, y_test = train_test_split(\n",
    "    features_all, y_all, test_size=0.166, random_state=0, stratify=y_all\n",
    ")\n",
    "kfold = StratifiedKFold(5, shuffle=True, random_state=0)\n",
    "clf = svm.SVC(kernel='linear', C=1, probability=True)\n",
    "calibrated_clf = CalibratedClassifierCV(clf, method=\"sigmoid\", cv=kfold.split(features_train, y_train))\n",
    "calibrated_clf.fit(features_train, y_train)"
   ]
  },
  {
   "cell_type": "code",
   "execution_count": 23,
   "metadata": {},
   "outputs": [
    {
     "name": "stdout",
     "output_type": "stream",
     "text": [
      "0.41429780572627506\n"
     ]
    }
   ],
   "source": [
    "y_test_pred = calibrated_clf.predict_proba(features_test)\n",
    "print(log_loss(y_test, y_test_pred, eps=1e-16))"
   ]
  },
  {
   "cell_type": "code",
   "execution_count": 24,
   "metadata": {},
   "outputs": [],
   "source": [
    "import matplotlib.pyplot as plt"
   ]
  },
  {
   "cell_type": "code",
   "execution_count": 26,
   "metadata": {},
   "outputs": [],
   "source": [
    "train_dataloader_iter = iter(train_dataloader)\n",
    "x, mask, y = next(train_dataloader_iter)"
   ]
  },
  {
   "cell_type": "code",
   "execution_count": 28,
   "metadata": {},
   "outputs": [
    {
     "name": "stderr",
     "output_type": "stream",
     "text": [
      "Clipping input data to the valid range for imshow with RGB data ([0..1] for floats or [0..255] for integers).\n",
      "Clipping input data to the valid range for imshow with RGB data ([0..1] for floats or [0..255] for integers).\n"
     ]
    },
    {
     "data": {
      "text/plain": [
       "<matplotlib.image.AxesImage at 0x7f9386e96d70>"
      ]
     },
     "execution_count": 28,
     "metadata": {},
     "output_type": "execute_result"
    },
    {
     "data": {
      "image/png": "[encoded data removed]",
      "text/plain": [
       "<Figure size 640x480 with 1 Axes>"
      ]
     },
     "metadata": {},
     "output_type": "display_data"
    },
    {
     "data": {
      "image/png": "[encoded data removed]",
      "text/plain": [
       "<Figure size 640x480 with 1 Axes>"
      ]
     },
     "metadata": {},
     "output_type": "display_data"
    }
   ],
   "source": [
    "plt.imshow(x[0].cpu().numpy().transpose(1, 2, 0))\n",
    "plt.figure()\n",
    "plt.imshow(x[1].cpu().numpy().transpose(1, 2, 0))"
   ]
  },
  {
   "cell_type": "code",
   "execution_count": null,
   "metadata": {},
   "outputs": [],
   "source": []
  }
 ],
 "metadata": {
  "kernelspec": {
   "display_name": "visiomel-2023",
   "language": "python",
   "name": "python3"
  },
  "language_info": {
   "codemirror_mode": {
    "name": "ipython",
    "version": 3
   },
   "file_extension": ".py",
   "mimetype": "text/x-python",
   "name": "python",
   "nbconvert_exporter": "python",
   "pygments_lexer": "ipython3",
   "version": "3.10.10"
  },
  "orig_nbformat": 4
 },
 "nbformat": 4,
 "nbformat_minor": 2
}
