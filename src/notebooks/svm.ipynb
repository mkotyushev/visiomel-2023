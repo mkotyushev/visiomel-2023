{
 "cells": [
  {
   "cell_type": "code",
   "execution_count": 1,
   "metadata": {},
   "outputs": [],
   "source": [
    "import timm\n",
    "import torch\n",
    "from tqdm import tqdm\n",
    "from PIL import Image\n",
    "from sklearn import svm\n",
    "from sklearn.metrics import log_loss\n",
    "Image.MAX_IMAGE_PIXELS = None\n",
    "\n",
    "from src.data.visiomel_datamodule import VisiomelTrainDatamodule"
   ]
  },
  {
   "cell_type": "code",
   "execution_count": 2,
   "metadata": {},
   "outputs": [],
   "source": [
    "datamodule = VisiomelTrainDatamodule(\n",
    "    data_dir_train = '/workspace/data/images_page_7/',\t\n",
    "    k = 5,\n",
    "    fold_index = 0,\n",
    "    data_dir_test = None,\n",
    "    img_size = 384,\n",
    "    shrink_preview_scale = None,\n",
    "    batch_size = 32,\n",
    "    split_seed = 0,\n",
    "    num_workers = 0,\n",
    "    pin_memory = False,\n",
    "    prefetch_factor = None,\n",
    "    persistent_workers = False,\n",
    "    sampler = None,\n",
    "    data_shrinked=False,\n",
    "    num_workers_saturated=10,\n",
    "    enable_caching=False,\n",
    "    train_resize_type='resize',\n",
    ")\n",
    "datamodule.setup()\n",
    "train_dataloader = datamodule.train_dataloader()\n",
    "val_dataloader, _ = datamodule.val_dataloader()"
   ]
  },
  {
   "cell_type": "code",
   "execution_count": 3,
   "metadata": {},
   "outputs": [
    {
     "name": "stderr",
     "output_type": "stream",
     "text": [
      "/root/miniconda3/envs/visiomel-2023/lib/python3.10/site-packages/torch/functional.py:504: UserWarning: torch.meshgrid: in an upcoming release, it will be required to pass the indexing argument. (Triggered internally at ../aten/src/ATen/native/TensorShape.cpp:3483.)\n",
      "  return _VF.meshgrid(tensors, **kwargs)  # type: ignore[attr-defined]\n"
     ]
    }
   ],
   "source": [
    "model = timm.create_model(\n",
    "    'swinv2_large_window12to24_192to384_22kft1k', \n",
    "    pretrained=True, \n",
    "    num_classes=0\n",
    ").cuda().eval()"
   ]
  },
  {
   "cell_type": "code",
   "execution_count": 6,
   "metadata": {},
   "outputs": [],
   "source": [
    "def extract_features(dataloader):\n",
    "    features_all, y_all = [], []\n",
    "    for x, y in tqdm(dataloader):\n",
    "        with torch.no_grad():\n",
    "            x, y = x.cuda(), y.cuda()\n",
    "            \n",
    "            x = model.patch_embed(x)\n",
    "            if model.absolute_pos_embed is not None:\n",
    "                x = x + model.absolute_pos_embed\n",
    "            x = model.pos_drop(x)\n",
    "\n",
    "            features = [x.mean(dim=1)]\n",
    "            for layer in model.layers:\n",
    "                x = layer(x)\n",
    "                features.append(x.mean(dim=1))\n",
    "            features[-1] = model.norm(features[-1])\n",
    "            features = torch.cat(features, dim=1)\n",
    "            \n",
    "            features_all.append(features)\n",
    "            y_all.append(y)\n",
    "\n",
    "    features_all = torch.cat(features_all, dim=0)\n",
    "    y_all = torch.cat(y_all, dim=0)\n",
    "\n",
    "    return features_all, y_all"
   ]
  },
  {
   "cell_type": "code",
   "execution_count": 4,
   "metadata": {},
   "outputs": [
    {
     "name": "stderr",
     "output_type": "stream",
     "text": [
      "100%|██████████| 34/34 [01:48<00:00,  3.20s/it]\n"
     ]
    }
   ],
   "source": [
    "features_all, y_all = extract_features(train_dataloader)"
   ]
  },
  {
   "cell_type": "code",
   "execution_count": 7,
   "metadata": {},
   "outputs": [
    {
     "name": "stderr",
     "output_type": "stream",
     "text": [
      "100%|██████████| 9/9 [00:25<00:00,  2.86s/it]\n"
     ]
    }
   ],
   "source": [
    "features_all_val, y_all_val = extract_features(val_dataloader)"
   ]
  },
  {
   "cell_type": "code",
   "execution_count": 8,
   "metadata": {},
   "outputs": [
    {
     "data": {
      "text/plain": [
       "(torch.Size([1073, 4416]), torch.Size([1073]))"
      ]
     },
     "execution_count": 8,
     "metadata": {},
     "output_type": "execute_result"
    }
   ],
   "source": [
    "features_all.shape, y_all.shape"
   ]
  },
  {
   "cell_type": "code",
   "execution_count": 10,
   "metadata": {},
   "outputs": [
    {
     "data": {
      "text/plain": [
       "0.4148100175016549"
      ]
     },
     "execution_count": 10,
     "metadata": {},
     "output_type": "execute_result"
    }
   ],
   "source": [
    "# SVM classifier on features_all and y_all\n",
    "clf = svm.SVC(kernel='linear', C=1, probability=True).fit(features_all.cpu().numpy(), y_all.cpu().numpy())\n",
    "\n",
    "# Predict on validation set\n",
    "y_all_val_pred = clf.predict_proba(features_all_val.cpu().numpy())\n",
    "\n",
    "# log_loss\n",
    "log_loss(y_all_val.cpu().numpy(), y_all_val_pred, eps=1e-16)"
   ]
  },
  {
   "cell_type": "code",
   "execution_count": 11,
   "metadata": {},
   "outputs": [
    {
     "data": {
      "text/plain": [
       "0.2855574374923769"
      ]
     },
     "execution_count": 11,
     "metadata": {},
     "output_type": "execute_result"
    }
   ],
   "source": [
    "# Predict on train set\n",
    "y_all_pred = clf.predict_proba(features_all.cpu().numpy())\n",
    "\n",
    "# log_loss\n",
    "log_loss(y_all.cpu().numpy(), y_all_pred, eps=1e-16)"
   ]
  },
  {
   "cell_type": "code",
   "execution_count": null,
   "metadata": {},
   "outputs": [],
   "source": []
  }
 ],
 "metadata": {
  "kernelspec": {
   "display_name": "visiomel-2023",
   "language": "python",
   "name": "python3"
  },
  "language_info": {
   "codemirror_mode": {
    "name": "ipython",
    "version": 3
   },
   "file_extension": ".py",
   "mimetype": "text/x-python",
   "name": "python",
   "nbconvert_exporter": "python",
   "pygments_lexer": "ipython3",
   "version": "3.10.10"
  },
  "orig_nbformat": 4
 },
 "nbformat": 4,
 "nbformat_minor": 2
}
