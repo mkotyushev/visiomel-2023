{
 "cells": [
  {
   "cell_type": "code",
   "execution_count": 1,
   "metadata": {},
   "outputs": [],
   "source": [
    "%load_ext autoreload\n",
    "%autoreload 2"
   ]
  },
  {
   "cell_type": "code",
   "execution_count": 2,
   "metadata": {},
   "outputs": [],
   "source": [
    "import numpy as np\n",
    "import pandas as pd\n",
    "import torch\n",
    "from pathlib import Path\n",
    "from collections import defaultdict\n",
    "from sklearn.svm import SVC\n",
    "from tqdm import tqdm\n",
    "from scipy.optimize import brute, fmin\n",
    "\n",
    "from src.utils.utils import MyLightningCLI, TrainerWandb, get_X_y_groups, PenalizedBinaryFBetaScore, oldest_checkpoint\n",
    "from src.scripts.runs_info import get_runs_info"
   ]
  },
  {
   "attachments": {},
   "cell_type": "markdown",
   "metadata": {},
   "source": [
    "# Find weights for weighted average ensembling\n",
    "\n",
    "Use nested CV: inner loop to select best patch attention model, outer to actually find ensemble weights."
   ]
  },
  {
   "attachments": {},
   "cell_type": "markdown",
   "metadata": {},
   "source": [
    "Best params from HPO"
   ]
  },
  {
   "cell_type": "code",
   "execution_count": 3,
   "metadata": {},
   "outputs": [],
   "source": [
    "max_epochs = 200  # set to 3 for debugging\n",
    "best_pac_params = f'--data.init_args.batch_size=32 --data.init_args.sampler=weighted_upsampling --model.init_args.attention_dropout=0.1101479509435598 --model.init_args.attention_hidden_dim=64 --model.init_args.attention_num_heads=8 --model.init_args.label_smoothing=0.19365209170598277 --model.lr=0.0008549720251132047 --trainer.max_epochs={max_epochs}'"
   ]
  },
  {
   "attachments": {},
   "cell_type": "markdown",
   "metadata": {},
   "source": [
    "Training is done separately due to better parallelization when running it as script. \n",
    "Run command of train is:\n",
    "\n",
    "```\n",
    "python run/main_cv.py fit --config run/configs/swin-patch-attention-classifier.yaml --data.init_args.batch_size=32 --data.init_args.sampler=weighted_upsampling --model.init_args.attention_dropout=0.1101479509435598 --model.init_args.attention_hidden_dim=64 --model.init_args.attention_num_heads=8 --model.init_args.label_smoothing=0.19365209170598277 --model.lr=0.0008549720251132047 --trainer.max_epochs=200 --data.init_args.k_test 5 --data.init_args.fold_index_test {fold_index_test}\n",
    "```\n",
    "\n",
    "Assuming trained models for each fold in nested CV are in `./visiomel` dir and wandb logs are in `./wandb`, extract checkpoint info."
   ]
  },
  {
   "cell_type": "code",
   "execution_count": 4,
   "metadata": {},
   "outputs": [],
   "source": [
    "runs_info = get_runs_info(Path('/workspace/visiomel-2023/visiomel'), Path('/workspace/visiomel-2023/wandb'))\n",
    "fold_to_ckpt_path = defaultdict(dict)\n",
    "for run_info in runs_info.values():\n",
    "    fold_to_ckpt_path[run_info['fold_index_test']][run_info['fold_index']] = oldest_checkpoint(\n",
    "        run_info['checkpoint_paths']\n",
    "    )"
   ]
  },
  {
   "cell_type": "code",
   "execution_count": 5,
   "metadata": {},
   "outputs": [
    {
     "data": {
      "text/plain": [
       "{'6cuv726l': {'fold_index_test': 3,\n",
       "  'fold_index': 3,\n",
       "  'checkpoint_paths': ['/workspace/visiomel-2023/visiomel/6cuv726l/checkpoints/last.ckpt',\n",
       "   '/workspace/visiomel-2023/visiomel/6cuv726l/checkpoints/epoch=26-step=6615.ckpt']},\n",
       " '6d4yat82': {'fold_index_test': 4,\n",
       "  'fold_index': 4,\n",
       "  'checkpoint_paths': ['/workspace/visiomel-2023/visiomel/6d4yat82/checkpoints/last.ckpt',\n",
       "   '/workspace/visiomel-2023/visiomel/6d4yat82/checkpoints/epoch=22-step=5589.ckpt']},\n",
       " 'vblrz6h2': {'fold_index_test': 0,\n",
       "  'fold_index': 0,\n",
       "  'checkpoint_paths': ['/workspace/visiomel-2023/visiomel/vblrz6h2/checkpoints/last.ckpt',\n",
       "   '/workspace/visiomel-2023/visiomel/vblrz6h2/checkpoints/epoch=2-step=732.ckpt']},\n",
       " 'yvtlj7ne': {'fold_index_test': 4,\n",
       "  'fold_index': 0,\n",
       "  'checkpoint_paths': ['/workspace/visiomel-2023/visiomel/yvtlj7ne/checkpoints/last.ckpt',\n",
       "   '/workspace/visiomel-2023/visiomel/yvtlj7ne/checkpoints/epoch=90-step=22204.ckpt']},\n",
       " 'zjq0fvtb': {'fold_index_test': 0,\n",
       "  'fold_index': 4,\n",
       "  'checkpoint_paths': ['/workspace/visiomel-2023/visiomel/zjq0fvtb/checkpoints/last.ckpt',\n",
       "   '/workspace/visiomel-2023/visiomel/zjq0fvtb/checkpoints/epoch=25-step=6344.ckpt']},\n",
       " 'su0g5p0n': {'fold_index_test': 3,\n",
       "  'fold_index': 0,\n",
       "  'checkpoint_paths': ['/workspace/visiomel-2023/visiomel/su0g5p0n/checkpoints/epoch=75-step=18620.ckpt',\n",
       "   '/workspace/visiomel-2023/visiomel/su0g5p0n/checkpoints/last.ckpt']},\n",
       " 'wdvth84p': {'fold_index_test': 2,\n",
       "  'fold_index': 3,\n",
       "  'checkpoint_paths': ['/workspace/visiomel-2023/visiomel/wdvth84p/checkpoints/last.ckpt',\n",
       "   '/workspace/visiomel-2023/visiomel/wdvth84p/checkpoints/epoch=3-step=972.ckpt']},\n",
       " '35ydq6gj': {'fold_index_test': 4,\n",
       "  'fold_index': 1,\n",
       "  'checkpoint_paths': ['/workspace/visiomel-2023/visiomel/35ydq6gj/checkpoints/last.ckpt',\n",
       "   '/workspace/visiomel-2023/visiomel/35ydq6gj/checkpoints/epoch=112-step=27459.ckpt']},\n",
       " 'u5dhddds': {'fold_index_test': 1,\n",
       "  'fold_index': 0,\n",
       "  'checkpoint_paths': ['/workspace/visiomel-2023/visiomel/u5dhddds/checkpoints/last.ckpt',\n",
       "   '/workspace/visiomel-2023/visiomel/u5dhddds/checkpoints/epoch=93-step=23030.ckpt']},\n",
       " '5o1q2zjf': {'fold_index_test': 1,\n",
       "  'fold_index': 4,\n",
       "  'checkpoint_paths': ['/workspace/visiomel-2023/visiomel/5o1q2zjf/checkpoints/last.ckpt',\n",
       "   '/workspace/visiomel-2023/visiomel/5o1q2zjf/checkpoints/epoch=13-step=3430.ckpt']},\n",
       " 'whlkst2o': {'fold_index_test': 4,\n",
       "  'fold_index': 2,\n",
       "  'checkpoint_paths': ['/workspace/visiomel-2023/visiomel/whlkst2o/checkpoints/last.ckpt',\n",
       "   '/workspace/visiomel-2023/visiomel/whlkst2o/checkpoints/epoch=65-step=16038.ckpt']},\n",
       " '64oqjge6': {'fold_index_test': 0,\n",
       "  'fold_index': 2,\n",
       "  'checkpoint_paths': ['/workspace/visiomel-2023/visiomel/64oqjge6/checkpoints/last.ckpt',\n",
       "   '/workspace/visiomel-2023/visiomel/64oqjge6/checkpoints/epoch=11-step=2916.ckpt']},\n",
       " 'dfmb9wnv': {'fold_index_test': 2,\n",
       "  'fold_index': 2,\n",
       "  'checkpoint_paths': ['/workspace/visiomel-2023/visiomel/dfmb9wnv/checkpoints/epoch=27-step=6832.ckpt',\n",
       "   '/workspace/visiomel-2023/visiomel/dfmb9wnv/checkpoints/last.ckpt']},\n",
       " '1lz0ohia': {'fold_index_test': 0,\n",
       "  'fold_index': 3,\n",
       "  'checkpoint_paths': ['/workspace/visiomel-2023/visiomel/1lz0ohia/checkpoints/last.ckpt',\n",
       "   '/workspace/visiomel-2023/visiomel/1lz0ohia/checkpoints/epoch=89-step=21960.ckpt']},\n",
       " 'l6n6w0mg': {'fold_index_test': 1,\n",
       "  'fold_index': 3,\n",
       "  'checkpoint_paths': ['/workspace/visiomel-2023/visiomel/l6n6w0mg/checkpoints/last.ckpt',\n",
       "   '/workspace/visiomel-2023/visiomel/l6n6w0mg/checkpoints/epoch=96-step=23668.ckpt']},\n",
       " 'wy1l7ly2': {'fold_index_test': 3,\n",
       "  'fold_index': 4,\n",
       "  'checkpoint_paths': ['/workspace/visiomel-2023/visiomel/wy1l7ly2/checkpoints/last.ckpt',\n",
       "   '/workspace/visiomel-2023/visiomel/wy1l7ly2/checkpoints/epoch=10-step=2684.ckpt']},\n",
       " 'rrrukjzu': {'fold_index_test': 3,\n",
       "  'fold_index': 2,\n",
       "  'checkpoint_paths': ['/workspace/visiomel-2023/visiomel/rrrukjzu/checkpoints/epoch=45-step=11224.ckpt',\n",
       "   '/workspace/visiomel-2023/visiomel/rrrukjzu/checkpoints/last.ckpt']},\n",
       " 'f1zl4jdv': {'fold_index_test': 2,\n",
       "  'fold_index': 4,\n",
       "  'checkpoint_paths': ['/workspace/visiomel-2023/visiomel/f1zl4jdv/checkpoints/last.ckpt',\n",
       "   '/workspace/visiomel-2023/visiomel/f1zl4jdv/checkpoints/epoch=66-step=16348.ckpt']},\n",
       " '6jzenwr6': {'fold_index_test': 4,\n",
       "  'fold_index': 3,\n",
       "  'checkpoint_paths': ['/workspace/visiomel-2023/visiomel/6jzenwr6/checkpoints/last.ckpt',\n",
       "   '/workspace/visiomel-2023/visiomel/6jzenwr6/checkpoints/epoch=4-step=1215.ckpt']},\n",
       " '5d6hp2iy': {'fold_index_test': 1,\n",
       "  'fold_index': 1,\n",
       "  'checkpoint_paths': ['/workspace/visiomel-2023/visiomel/5d6hp2iy/checkpoints/last.ckpt',\n",
       "   '/workspace/visiomel-2023/visiomel/5d6hp2iy/checkpoints/epoch=31-step=7840.ckpt']},\n",
       " 'v7pzxpsj': {'fold_index_test': 3,\n",
       "  'fold_index': 1,\n",
       "  'checkpoint_paths': ['/workspace/visiomel-2023/visiomel/v7pzxpsj/checkpoints/last.ckpt',\n",
       "   '/workspace/visiomel-2023/visiomel/v7pzxpsj/checkpoints/epoch=78-step=19276.ckpt']},\n",
       " 'pxr2rx9l': {'fold_index_test': 1,\n",
       "  'fold_index': 2,\n",
       "  'checkpoint_paths': ['/workspace/visiomel-2023/visiomel/pxr2rx9l/checkpoints/last.ckpt',\n",
       "   '/workspace/visiomel-2023/visiomel/pxr2rx9l/checkpoints/epoch=95-step=23424.ckpt']},\n",
       " 'crh5lgb9': {'fold_index_test': 0,\n",
       "  'fold_index': 1,\n",
       "  'checkpoint_paths': ['/workspace/visiomel-2023/visiomel/crh5lgb9/checkpoints/last.ckpt',\n",
       "   '/workspace/visiomel-2023/visiomel/crh5lgb9/checkpoints/epoch=0-step=243.ckpt']},\n",
       " 'zhfuvjzf': {'fold_index_test': 2,\n",
       "  'fold_index': 0,\n",
       "  'checkpoint_paths': ['/workspace/visiomel-2023/visiomel/zhfuvjzf/checkpoints/last.ckpt',\n",
       "   '/workspace/visiomel-2023/visiomel/zhfuvjzf/checkpoints/epoch=16-step=4148.ckpt']},\n",
       " 'hxkqdhj3': {'fold_index_test': 2,\n",
       "  'fold_index': 1,\n",
       "  'checkpoint_paths': ['/workspace/visiomel-2023/visiomel/hxkqdhj3/checkpoints/last.ckpt',\n",
       "   '/workspace/visiomel-2023/visiomel/hxkqdhj3/checkpoints/epoch=31-step=7808.ckpt']}}"
      ]
     },
     "execution_count": 5,
     "metadata": {},
     "output_type": "execute_result"
    }
   ],
   "source": [
    "runs_info"
   ]
  },
  {
   "attachments": {},
   "cell_type": "markdown",
   "metadata": {},
   "source": [
    "Optimize the weighted probability average ensembling of \n",
    "- patch attention model (prediction on outer CV val dataset is mean of 5 models of inner CV predicted probabilities)\n",
    "- SVC model (prediction on outer CV is just prediction of single model trained on full inner CV dataset including train and val)"
   ]
  },
  {
   "cell_type": "code",
   "execution_count": 6,
   "metadata": {},
   "outputs": [],
   "source": [
    "def optimize_weights(probas: np.ndarray, target: np.ndarray, step=0.01):\n",
    "    \"\"\"\"Maximize the penalized F1 score of weighted average of probas\"\"\"\n",
    "    \n",
    "    def f(weights):\n",
    "        weights = np.append(weights, 1 - weights.sum())\n",
    "        scorer = PenalizedBinaryFBetaScore('soft', beta=1.0)\n",
    "        wa_proba = (torch.tensor(probas) * torch.tensor(weights)[None, :]).sum(1)\n",
    "        scorer.update(wa_proba, torch.tensor(target))\n",
    "        return -scorer.compute().item()\n",
    "    \n",
    "    ranges = (slice(0, 1, step),) * (probas.shape[1] - 1)\n",
    "    argmax_score_w, max_score, *_ = brute(f, ranges=ranges, finish=fmin, full_output=True)\n",
    "    \n",
    "    return -max_score, argmax_score_w"
   ]
  },
  {
   "cell_type": "code",
   "execution_count": 9,
   "metadata": {},
   "outputs": [
    {
     "name": "stderr",
     "output_type": "stream",
     "text": [
      "  0%|          | 0/5 [00:00<?, ?it/s]/root/miniconda3/envs/visiomel-2023/lib/python3.10/site-packages/pytorch_lightning/cli.py:484: UserWarning: LightningCLI's args parameter is intended to run from within Python like if it were from the command line. To prevent mistakes it is not recommended to provide both args and command line arguments, got: sys.argv[1:]=['--ip=127.0.0.1', '--stdin=9003', '--control=9001', '--hb=9000', '--Session.signature_scheme=\"hmac-sha256\"', '--Session.key=b\"de075e14-9ad3-41b7-a5f2-5387e1eb72b5\"', '--shell=9002', '--transport=\"tcp\"', '--iopub=9004', '--f=/root/.local/share/jupyter/runtime/kernel-v2-2552482MB5ow10vQkDe.json'], args=['--config', '/workspace/visiomel-2023/run/configs/swin-patch-attention-classifier.yaml', '--data.init_args.batch_size=32', '--data.init_args.sampler=weighted_upsampling', '--model.init_args.attention_dropout=0.1101479509435598', '--model.init_args.attention_hidden_dim=64', '--model.init_args.attention_num_heads=8', '--model.init_args.label_smoothing=0.19365209170598277', '--model.lr=0.0008549720251132047', '--trainer.max_epochs=200', '--data.init_args.k', '5', '--data.init_args.fold_index', '0', '--data.init_args.k_test', '5', '--data.init_args.fold_index_test', '0', '--data.init_args.num_workers', '10', '--data.init_args.num_workers_saturated', '10'].\n",
      "  rank_zero_warn(\n",
      "Global seed set to 0\n",
      "Failed to detect the name of this notebook, you can set it manually with the WANDB_NOTEBOOK_NAME environment variable to enable code saving.\n",
      "\u001b[34m\u001b[1mwandb\u001b[0m: Currently logged in as: \u001b[33mmkotyushev_\u001b[0m. Use \u001b[1m`wandb login --relogin`\u001b[0m to force relogin\n"
     ]
    },
    {
     "data": {
      "text/html": [
       "wandb version 0.15.1 is available!  To upgrade, please run:\n",
       " $ pip install wandb --upgrade"
      ],
      "text/plain": [
       "<IPython.core.display.HTML object>"
      ]
     },
     "metadata": {},
     "output_type": "display_data"
    },
    {
     "data": {
      "text/html": [
       "Tracking run with wandb version 0.14.2"
      ],
      "text/plain": [
       "<IPython.core.display.HTML object>"
      ]
     },
     "metadata": {},
     "output_type": "display_data"
    },
    {
     "data": {
      "text/html": [
       "Run data is saved locally in <code>./wandb/run-20230504_221856-39sf6lhv</code>"
      ],
      "text/plain": [
       "<IPython.core.display.HTML object>"
      ]
     },
     "metadata": {},
     "output_type": "display_data"
    },
    {
     "data": {
      "text/html": [
       "Syncing run <strong><a href='https://wandb.ai/mkotyushev_/visiomel/runs/39sf6lhv' target=\"_blank\">old-astromech-1485</a></strong> to <a href='https://wandb.ai/mkotyushev_/visiomel' target=\"_blank\">Weights & Biases</a> (<a href='https://wandb.me/run' target=\"_blank\">docs</a>)<br/>"
      ],
      "text/plain": [
       "<IPython.core.display.HTML object>"
      ]
     },
     "metadata": {},
     "output_type": "display_data"
    },
    {
     "data": {
      "text/html": [
       " View project at <a href='https://wandb.ai/mkotyushev_/visiomel' target=\"_blank\">https://wandb.ai/mkotyushev_/visiomel</a>"
      ],
      "text/plain": [
       "<IPython.core.display.HTML object>"
      ]
     },
     "metadata": {},
     "output_type": "display_data"
    },
    {
     "data": {
      "text/html": [
       " View run at <a href='https://wandb.ai/mkotyushev_/visiomel/runs/39sf6lhv' target=\"_blank\">https://wandb.ai/mkotyushev_/visiomel/runs/39sf6lhv</a>"
      ],
      "text/plain": [
       "<IPython.core.display.HTML object>"
      ]
     },
     "metadata": {},
     "output_type": "display_data"
    },
    {
     "name": "stderr",
     "output_type": "stream",
     "text": [
      "Using 16bit Automatic Mixed Precision (AMP)\n",
      "GPU available: True (cuda), used: True\n",
      "TPU available: False, using: 0 TPU cores\n",
      "IPU available: False, using: 0 IPUs\n",
      "HPU available: False, using: 0 HPUs\n",
      "You are using a CUDA device ('NVIDIA GeForce RTX 3090') that has Tensor Cores. To properly utilize them, you should set `torch.set_float32_matmul_precision('medium' | 'high')` which will trade-off precision for performance. For more details, read https://pytorch.org/docs/stable/generated/torch.set_float32_matmul_precision.html#torch.set_float32_matmul_precision\n",
      "Restoring states from the checkpoint path at /workspace/visiomel-2023/visiomel/vblrz6h2/checkpoints/epoch=2-step=732.ckpt\n",
      "LOCAL_RANK: 0 - CUDA_VISIBLE_DEVICES: [0]\n",
      "Loaded model weights from the checkpoint at /workspace/visiomel-2023/visiomel/vblrz6h2/checkpoints/epoch=2-step=732.ckpt\n"
     ]
    },
    {
     "data": {
      "application/vnd.jupyter.widget-view+json": {
       "model_id": "bf643e0cfbf7426dac7b3b1b54bed445",
       "version_major": 2,
       "version_minor": 0
      },
      "text/plain": [
       "Predicting: 0it [00:00, ?it/s]"
      ]
     },
     "metadata": {},
     "output_type": "display_data"
    },
    {
     "name": "stderr",
     "output_type": "stream",
     "text": [
      "/root/miniconda3/envs/visiomel-2023/lib/python3.10/site-packages/torch/nn/functional.py:4999: UserWarning: Support for mismatched key_padding_mask and attn_mask is deprecated. Use same type for both instead.\n",
      "  warnings.warn(\n",
      "/root/miniconda3/envs/visiomel-2023/lib/python3.10/site-packages/pytorch_lightning/cli.py:484: UserWarning: LightningCLI's args parameter is intended to run from within Python like if it were from the command line. To prevent mistakes it is not recommended to provide both args and command line arguments, got: sys.argv[1:]=['--ip=127.0.0.1', '--stdin=9003', '--control=9001', '--hb=9000', '--Session.signature_scheme=\"hmac-sha256\"', '--Session.key=b\"de075e14-9ad3-41b7-a5f2-5387e1eb72b5\"', '--shell=9002', '--transport=\"tcp\"', '--iopub=9004', '--f=/root/.local/share/jupyter/runtime/kernel-v2-2552482MB5ow10vQkDe.json'], args=['--config', '/workspace/visiomel-2023/run/configs/swin-patch-attention-classifier.yaml', '--data.init_args.batch_size=32', '--data.init_args.sampler=weighted_upsampling', '--model.init_args.attention_dropout=0.1101479509435598', '--model.init_args.attention_hidden_dim=64', '--model.init_args.attention_num_heads=8', '--model.init_args.label_smoothing=0.19365209170598277', '--model.lr=0.0008549720251132047', '--trainer.max_epochs=200', '--data.init_args.k', '5', '--data.init_args.fold_index', '1', '--data.init_args.k_test', '5', '--data.init_args.fold_index_test', '0', '--data.init_args.num_workers', '10', '--data.init_args.num_workers_saturated', '10'].\n",
      "  rank_zero_warn(\n",
      "Global seed set to 0\n",
      "/root/miniconda3/envs/visiomel-2023/lib/python3.10/site-packages/pytorch_lightning/loggers/wandb.py:395: UserWarning: There is a wandb run already in progress and newly created instances of `WandbLogger` will reuse this run. If this is not desired, call `wandb.finish()` before instantiating `WandbLogger`.\n",
      "  rank_zero_warn(\n",
      "Using 16bit Automatic Mixed Precision (AMP)\n",
      "GPU available: True (cuda), used: True\n",
      "TPU available: False, using: 0 TPU cores\n",
      "IPU available: False, using: 0 IPUs\n",
      "HPU available: False, using: 0 HPUs\n",
      "You are using a CUDA device ('NVIDIA GeForce RTX 3090') that has Tensor Cores. To properly utilize them, you should set `torch.set_float32_matmul_precision('medium' | 'high')` which will trade-off precision for performance. For more details, read https://pytorch.org/docs/stable/generated/torch.set_float32_matmul_precision.html#torch.set_float32_matmul_precision\n",
      "Restoring states from the checkpoint path at /workspace/visiomel-2023/visiomel/crh5lgb9/checkpoints/epoch=0-step=243.ckpt\n",
      "LOCAL_RANK: 0 - CUDA_VISIBLE_DEVICES: [0]\n",
      "Loaded model weights from the checkpoint at /workspace/visiomel-2023/visiomel/crh5lgb9/checkpoints/epoch=0-step=243.ckpt\n"
     ]
    },
    {
     "data": {
      "application/vnd.jupyter.widget-view+json": {
       "model_id": "10e8ad5edc134d5f8ca03f4e9aa3a4ea",
       "version_major": 2,
       "version_minor": 0
      },
      "text/plain": [
       "Predicting: 0it [00:00, ?it/s]"
      ]
     },
     "metadata": {},
     "output_type": "display_data"
    },
    {
     "name": "stderr",
     "output_type": "stream",
     "text": [
      "/root/miniconda3/envs/visiomel-2023/lib/python3.10/site-packages/torch/nn/functional.py:4999: UserWarning: Support for mismatched key_padding_mask and attn_mask is deprecated. Use same type for both instead.\n",
      "  warnings.warn(\n",
      "/root/miniconda3/envs/visiomel-2023/lib/python3.10/site-packages/pytorch_lightning/cli.py:484: UserWarning: LightningCLI's args parameter is intended to run from within Python like if it were from the command line. To prevent mistakes it is not recommended to provide both args and command line arguments, got: sys.argv[1:]=['--ip=127.0.0.1', '--stdin=9003', '--control=9001', '--hb=9000', '--Session.signature_scheme=\"hmac-sha256\"', '--Session.key=b\"de075e14-9ad3-41b7-a5f2-5387e1eb72b5\"', '--shell=9002', '--transport=\"tcp\"', '--iopub=9004', '--f=/root/.local/share/jupyter/runtime/kernel-v2-2552482MB5ow10vQkDe.json'], args=['--config', '/workspace/visiomel-2023/run/configs/swin-patch-attention-classifier.yaml', '--data.init_args.batch_size=32', '--data.init_args.sampler=weighted_upsampling', '--model.init_args.attention_dropout=0.1101479509435598', '--model.init_args.attention_hidden_dim=64', '--model.init_args.attention_num_heads=8', '--model.init_args.label_smoothing=0.19365209170598277', '--model.lr=0.0008549720251132047', '--trainer.max_epochs=200', '--data.init_args.k', '5', '--data.init_args.fold_index', '2', '--data.init_args.k_test', '5', '--data.init_args.fold_index_test', '0', '--data.init_args.num_workers', '10', '--data.init_args.num_workers_saturated', '10'].\n",
      "  rank_zero_warn(\n",
      "Global seed set to 0\n",
      "/root/miniconda3/envs/visiomel-2023/lib/python3.10/site-packages/pytorch_lightning/loggers/wandb.py:395: UserWarning: There is a wandb run already in progress and newly created instances of `WandbLogger` will reuse this run. If this is not desired, call `wandb.finish()` before instantiating `WandbLogger`.\n",
      "  rank_zero_warn(\n",
      "Using 16bit Automatic Mixed Precision (AMP)\n",
      "GPU available: True (cuda), used: True\n",
      "TPU available: False, using: 0 TPU cores\n",
      "IPU available: False, using: 0 IPUs\n",
      "HPU available: False, using: 0 HPUs\n",
      "You are using a CUDA device ('NVIDIA GeForce RTX 3090') that has Tensor Cores. To properly utilize them, you should set `torch.set_float32_matmul_precision('medium' | 'high')` which will trade-off precision for performance. For more details, read https://pytorch.org/docs/stable/generated/torch.set_float32_matmul_precision.html#torch.set_float32_matmul_precision\n",
      "Restoring states from the checkpoint path at /workspace/visiomel-2023/visiomel/64oqjge6/checkpoints/epoch=11-step=2916.ckpt\n",
      "LOCAL_RANK: 0 - CUDA_VISIBLE_DEVICES: [0]\n",
      "Loaded model weights from the checkpoint at /workspace/visiomel-2023/visiomel/64oqjge6/checkpoints/epoch=11-step=2916.ckpt\n"
     ]
    },
    {
     "data": {
      "application/vnd.jupyter.widget-view+json": {
       "model_id": "fe02a214f90e4790bdcf2e28520bfb48",
       "version_major": 2,
       "version_minor": 0
      },
      "text/plain": [
       "Predicting: 0it [00:00, ?it/s]"
      ]
     },
     "metadata": {},
     "output_type": "display_data"
    },
    {
     "name": "stderr",
     "output_type": "stream",
     "text": [
      "/root/miniconda3/envs/visiomel-2023/lib/python3.10/site-packages/torch/nn/functional.py:4999: UserWarning: Support for mismatched key_padding_mask and attn_mask is deprecated. Use same type for both instead.\n",
      "  warnings.warn(\n",
      "/root/miniconda3/envs/visiomel-2023/lib/python3.10/site-packages/pytorch_lightning/cli.py:484: UserWarning: LightningCLI's args parameter is intended to run from within Python like if it were from the command line. To prevent mistakes it is not recommended to provide both args and command line arguments, got: sys.argv[1:]=['--ip=127.0.0.1', '--stdin=9003', '--control=9001', '--hb=9000', '--Session.signature_scheme=\"hmac-sha256\"', '--Session.key=b\"de075e14-9ad3-41b7-a5f2-5387e1eb72b5\"', '--shell=9002', '--transport=\"tcp\"', '--iopub=9004', '--f=/root/.local/share/jupyter/runtime/kernel-v2-2552482MB5ow10vQkDe.json'], args=['--config', '/workspace/visiomel-2023/run/configs/swin-patch-attention-classifier.yaml', '--data.init_args.batch_size=32', '--data.init_args.sampler=weighted_upsampling', '--model.init_args.attention_dropout=0.1101479509435598', '--model.init_args.attention_hidden_dim=64', '--model.init_args.attention_num_heads=8', '--model.init_args.label_smoothing=0.19365209170598277', '--model.lr=0.0008549720251132047', '--trainer.max_epochs=200', '--data.init_args.k', '5', '--data.init_args.fold_index', '3', '--data.init_args.k_test', '5', '--data.init_args.fold_index_test', '0', '--data.init_args.num_workers', '10', '--data.init_args.num_workers_saturated', '10'].\n",
      "  rank_zero_warn(\n",
      "Global seed set to 0\n",
      "/root/miniconda3/envs/visiomel-2023/lib/python3.10/site-packages/pytorch_lightning/loggers/wandb.py:395: UserWarning: There is a wandb run already in progress and newly created instances of `WandbLogger` will reuse this run. If this is not desired, call `wandb.finish()` before instantiating `WandbLogger`.\n",
      "  rank_zero_warn(\n",
      "Using 16bit Automatic Mixed Precision (AMP)\n",
      "GPU available: True (cuda), used: True\n",
      "TPU available: False, using: 0 TPU cores\n",
      "IPU available: False, using: 0 IPUs\n",
      "HPU available: False, using: 0 HPUs\n",
      "You are using a CUDA device ('NVIDIA GeForce RTX 3090') that has Tensor Cores. To properly utilize them, you should set `torch.set_float32_matmul_precision('medium' | 'high')` which will trade-off precision for performance. For more details, read https://pytorch.org/docs/stable/generated/torch.set_float32_matmul_precision.html#torch.set_float32_matmul_precision\n",
      "Restoring states from the checkpoint path at /workspace/visiomel-2023/visiomel/1lz0ohia/checkpoints/epoch=89-step=21960.ckpt\n",
      "LOCAL_RANK: 0 - CUDA_VISIBLE_DEVICES: [0]\n",
      "Loaded model weights from the checkpoint at /workspace/visiomel-2023/visiomel/1lz0ohia/checkpoints/epoch=89-step=21960.ckpt\n"
     ]
    },
    {
     "data": {
      "application/vnd.jupyter.widget-view+json": {
       "model_id": "9d36d775d34e40b18fb8de1f3983f8c1",
       "version_major": 2,
       "version_minor": 0
      },
      "text/plain": [
       "Predicting: 0it [00:00, ?it/s]"
      ]
     },
     "metadata": {},
     "output_type": "display_data"
    },
    {
     "name": "stderr",
     "output_type": "stream",
     "text": [
      "/root/miniconda3/envs/visiomel-2023/lib/python3.10/site-packages/torch/nn/functional.py:4999: UserWarning: Support for mismatched key_padding_mask and attn_mask is deprecated. Use same type for both instead.\n",
      "  warnings.warn(\n",
      "/root/miniconda3/envs/visiomel-2023/lib/python3.10/site-packages/pytorch_lightning/cli.py:484: UserWarning: LightningCLI's args parameter is intended to run from within Python like if it were from the command line. To prevent mistakes it is not recommended to provide both args and command line arguments, got: sys.argv[1:]=['--ip=127.0.0.1', '--stdin=9003', '--control=9001', '--hb=9000', '--Session.signature_scheme=\"hmac-sha256\"', '--Session.key=b\"de075e14-9ad3-41b7-a5f2-5387e1eb72b5\"', '--shell=9002', '--transport=\"tcp\"', '--iopub=9004', '--f=/root/.local/share/jupyter/runtime/kernel-v2-2552482MB5ow10vQkDe.json'], args=['--config', '/workspace/visiomel-2023/run/configs/swin-patch-attention-classifier.yaml', '--data.init_args.batch_size=32', '--data.init_args.sampler=weighted_upsampling', '--model.init_args.attention_dropout=0.1101479509435598', '--model.init_args.attention_hidden_dim=64', '--model.init_args.attention_num_heads=8', '--model.init_args.label_smoothing=0.19365209170598277', '--model.lr=0.0008549720251132047', '--trainer.max_epochs=200', '--data.init_args.k', '5', '--data.init_args.fold_index', '4', '--data.init_args.k_test', '5', '--data.init_args.fold_index_test', '0', '--data.init_args.num_workers', '10', '--data.init_args.num_workers_saturated', '10'].\n",
      "  rank_zero_warn(\n",
      "Global seed set to 0\n",
      "/root/miniconda3/envs/visiomel-2023/lib/python3.10/site-packages/pytorch_lightning/loggers/wandb.py:395: UserWarning: There is a wandb run already in progress and newly created instances of `WandbLogger` will reuse this run. If this is not desired, call `wandb.finish()` before instantiating `WandbLogger`.\n",
      "  rank_zero_warn(\n",
      "Using 16bit Automatic Mixed Precision (AMP)\n",
      "GPU available: True (cuda), used: True\n",
      "TPU available: False, using: 0 TPU cores\n",
      "IPU available: False, using: 0 IPUs\n",
      "HPU available: False, using: 0 HPUs\n",
      "You are using a CUDA device ('NVIDIA GeForce RTX 3090') that has Tensor Cores. To properly utilize them, you should set `torch.set_float32_matmul_precision('medium' | 'high')` which will trade-off precision for performance. For more details, read https://pytorch.org/docs/stable/generated/torch.set_float32_matmul_precision.html#torch.set_float32_matmul_precision\n",
      "Restoring states from the checkpoint path at /workspace/visiomel-2023/visiomel/zjq0fvtb/checkpoints/epoch=25-step=6344.ckpt\n",
      "LOCAL_RANK: 0 - CUDA_VISIBLE_DEVICES: [0]\n",
      "Loaded model weights from the checkpoint at /workspace/visiomel-2023/visiomel/zjq0fvtb/checkpoints/epoch=25-step=6344.ckpt\n"
     ]
    },
    {
     "data": {
      "application/vnd.jupyter.widget-view+json": {
       "model_id": "fdd3f8155933401aac5701c1d31e4c5f",
       "version_major": 2,
       "version_minor": 0
      },
      "text/plain": [
       "Predicting: 0it [00:00, ?it/s]"
      ]
     },
     "metadata": {},
     "output_type": "display_data"
    },
    {
     "name": "stderr",
     "output_type": "stream",
     "text": [
      "/root/miniconda3/envs/visiomel-2023/lib/python3.10/site-packages/torch/nn/functional.py:4999: UserWarning: Support for mismatched key_padding_mask and attn_mask is deprecated. Use same type for both instead.\n",
      "  warnings.warn(\n",
      "100%|██████████| 5/5 [00:32<00:00,  6.56s/it]\n",
      " 20%|██        | 1/5 [00:32<02:11, 32.90s/it]/root/miniconda3/envs/visiomel-2023/lib/python3.10/site-packages/pytorch_lightning/cli.py:484: UserWarning: LightningCLI's args parameter is intended to run from within Python like if it were from the command line. To prevent mistakes it is not recommended to provide both args and command line arguments, got: sys.argv[1:]=['--ip=127.0.0.1', '--stdin=9003', '--control=9001', '--hb=9000', '--Session.signature_scheme=\"hmac-sha256\"', '--Session.key=b\"de075e14-9ad3-41b7-a5f2-5387e1eb72b5\"', '--shell=9002', '--transport=\"tcp\"', '--iopub=9004', '--f=/root/.local/share/jupyter/runtime/kernel-v2-2552482MB5ow10vQkDe.json'], args=['--config', '/workspace/visiomel-2023/run/configs/swin-patch-attention-classifier.yaml', '--data.init_args.batch_size=32', '--data.init_args.sampler=weighted_upsampling', '--model.init_args.attention_dropout=0.1101479509435598', '--model.init_args.attention_hidden_dim=64', '--model.init_args.attention_num_heads=8', '--model.init_args.label_smoothing=0.19365209170598277', '--model.lr=0.0008549720251132047', '--trainer.max_epochs=200', '--data.init_args.k', '5', '--data.init_args.fold_index', '0', '--data.init_args.k_test', '5', '--data.init_args.fold_index_test', '1', '--data.init_args.num_workers', '10', '--data.init_args.num_workers_saturated', '10'].\n",
      "  rank_zero_warn(\n",
      "Global seed set to 0\n",
      "/root/miniconda3/envs/visiomel-2023/lib/python3.10/site-packages/pytorch_lightning/loggers/wandb.py:395: UserWarning: There is a wandb run already in progress and newly created instances of `WandbLogger` will reuse this run. If this is not desired, call `wandb.finish()` before instantiating `WandbLogger`.\n",
      "  rank_zero_warn(\n",
      "Using 16bit Automatic Mixed Precision (AMP)\n",
      "GPU available: True (cuda), used: True\n",
      "TPU available: False, using: 0 TPU cores\n",
      "IPU available: False, using: 0 IPUs\n",
      "HPU available: False, using: 0 HPUs\n",
      "You are using a CUDA device ('NVIDIA GeForce RTX 3090') that has Tensor Cores. To properly utilize them, you should set `torch.set_float32_matmul_precision('medium' | 'high')` which will trade-off precision for performance. For more details, read https://pytorch.org/docs/stable/generated/torch.set_float32_matmul_precision.html#torch.set_float32_matmul_precision\n",
      "Restoring states from the checkpoint path at /workspace/visiomel-2023/visiomel/u5dhddds/checkpoints/epoch=93-step=23030.ckpt\n",
      "LOCAL_RANK: 0 - CUDA_VISIBLE_DEVICES: [0]\n",
      "Loaded model weights from the checkpoint at /workspace/visiomel-2023/visiomel/u5dhddds/checkpoints/epoch=93-step=23030.ckpt\n"
     ]
    },
    {
     "data": {
      "application/vnd.jupyter.widget-view+json": {
       "model_id": "86d4bf1691cc45e0adf058e6d687982a",
       "version_major": 2,
       "version_minor": 0
      },
      "text/plain": [
       "Predicting: 0it [00:00, ?it/s]"
      ]
     },
     "metadata": {},
     "output_type": "display_data"
    },
    {
     "name": "stderr",
     "output_type": "stream",
     "text": [
      "/root/miniconda3/envs/visiomel-2023/lib/python3.10/site-packages/torch/nn/functional.py:4999: UserWarning: Support for mismatched key_padding_mask and attn_mask is deprecated. Use same type for both instead.\n",
      "  warnings.warn(\n",
      "/root/miniconda3/envs/visiomel-2023/lib/python3.10/site-packages/pytorch_lightning/cli.py:484: UserWarning: LightningCLI's args parameter is intended to run from within Python like if it were from the command line. To prevent mistakes it is not recommended to provide both args and command line arguments, got: sys.argv[1:]=['--ip=127.0.0.1', '--stdin=9003', '--control=9001', '--hb=9000', '--Session.signature_scheme=\"hmac-sha256\"', '--Session.key=b\"de075e14-9ad3-41b7-a5f2-5387e1eb72b5\"', '--shell=9002', '--transport=\"tcp\"', '--iopub=9004', '--f=/root/.local/share/jupyter/runtime/kernel-v2-2552482MB5ow10vQkDe.json'], args=['--config', '/workspace/visiomel-2023/run/configs/swin-patch-attention-classifier.yaml', '--data.init_args.batch_size=32', '--data.init_args.sampler=weighted_upsampling', '--model.init_args.attention_dropout=0.1101479509435598', '--model.init_args.attention_hidden_dim=64', '--model.init_args.attention_num_heads=8', '--model.init_args.label_smoothing=0.19365209170598277', '--model.lr=0.0008549720251132047', '--trainer.max_epochs=200', '--data.init_args.k', '5', '--data.init_args.fold_index', '1', '--data.init_args.k_test', '5', '--data.init_args.fold_index_test', '1', '--data.init_args.num_workers', '10', '--data.init_args.num_workers_saturated', '10'].\n",
      "  rank_zero_warn(\n",
      "Global seed set to 0\n",
      "/root/miniconda3/envs/visiomel-2023/lib/python3.10/site-packages/pytorch_lightning/loggers/wandb.py:395: UserWarning: There is a wandb run already in progress and newly created instances of `WandbLogger` will reuse this run. If this is not desired, call `wandb.finish()` before instantiating `WandbLogger`.\n",
      "  rank_zero_warn(\n",
      "Using 16bit Automatic Mixed Precision (AMP)\n",
      "GPU available: True (cuda), used: True\n",
      "TPU available: False, using: 0 TPU cores\n",
      "IPU available: False, using: 0 IPUs\n",
      "HPU available: False, using: 0 HPUs\n",
      "You are using a CUDA device ('NVIDIA GeForce RTX 3090') that has Tensor Cores. To properly utilize them, you should set `torch.set_float32_matmul_precision('medium' | 'high')` which will trade-off precision for performance. For more details, read https://pytorch.org/docs/stable/generated/torch.set_float32_matmul_precision.html#torch.set_float32_matmul_precision\n",
      "Restoring states from the checkpoint path at /workspace/visiomel-2023/visiomel/5d6hp2iy/checkpoints/epoch=31-step=7840.ckpt\n",
      "LOCAL_RANK: 0 - CUDA_VISIBLE_DEVICES: [0]\n",
      "Loaded model weights from the checkpoint at /workspace/visiomel-2023/visiomel/5d6hp2iy/checkpoints/epoch=31-step=7840.ckpt\n"
     ]
    },
    {
     "data": {
      "application/vnd.jupyter.widget-view+json": {
       "model_id": "ca654fbadfa44347b1e734e1023753d9",
       "version_major": 2,
       "version_minor": 0
      },
      "text/plain": [
       "Predicting: 0it [00:00, ?it/s]"
      ]
     },
     "metadata": {},
     "output_type": "display_data"
    },
    {
     "name": "stderr",
     "output_type": "stream",
     "text": [
      "/root/miniconda3/envs/visiomel-2023/lib/python3.10/site-packages/torch/nn/functional.py:4999: UserWarning: Support for mismatched key_padding_mask and attn_mask is deprecated. Use same type for both instead.\n",
      "  warnings.warn(\n",
      "/root/miniconda3/envs/visiomel-2023/lib/python3.10/site-packages/pytorch_lightning/cli.py:484: UserWarning: LightningCLI's args parameter is intended to run from within Python like if it were from the command line. To prevent mistakes it is not recommended to provide both args and command line arguments, got: sys.argv[1:]=['--ip=127.0.0.1', '--stdin=9003', '--control=9001', '--hb=9000', '--Session.signature_scheme=\"hmac-sha256\"', '--Session.key=b\"de075e14-9ad3-41b7-a5f2-5387e1eb72b5\"', '--shell=9002', '--transport=\"tcp\"', '--iopub=9004', '--f=/root/.local/share/jupyter/runtime/kernel-v2-2552482MB5ow10vQkDe.json'], args=['--config', '/workspace/visiomel-2023/run/configs/swin-patch-attention-classifier.yaml', '--data.init_args.batch_size=32', '--data.init_args.sampler=weighted_upsampling', '--model.init_args.attention_dropout=0.1101479509435598', '--model.init_args.attention_hidden_dim=64', '--model.init_args.attention_num_heads=8', '--model.init_args.label_smoothing=0.19365209170598277', '--model.lr=0.0008549720251132047', '--trainer.max_epochs=200', '--data.init_args.k', '5', '--data.init_args.fold_index', '2', '--data.init_args.k_test', '5', '--data.init_args.fold_index_test', '1', '--data.init_args.num_workers', '10', '--data.init_args.num_workers_saturated', '10'].\n",
      "  rank_zero_warn(\n",
      "Global seed set to 0\n",
      "/root/miniconda3/envs/visiomel-2023/lib/python3.10/site-packages/pytorch_lightning/loggers/wandb.py:395: UserWarning: There is a wandb run already in progress and newly created instances of `WandbLogger` will reuse this run. If this is not desired, call `wandb.finish()` before instantiating `WandbLogger`.\n",
      "  rank_zero_warn(\n",
      "Using 16bit Automatic Mixed Precision (AMP)\n",
      "GPU available: True (cuda), used: True\n",
      "TPU available: False, using: 0 TPU cores\n",
      "IPU available: False, using: 0 IPUs\n",
      "HPU available: False, using: 0 HPUs\n",
      "You are using a CUDA device ('NVIDIA GeForce RTX 3090') that has Tensor Cores. To properly utilize them, you should set `torch.set_float32_matmul_precision('medium' | 'high')` which will trade-off precision for performance. For more details, read https://pytorch.org/docs/stable/generated/torch.set_float32_matmul_precision.html#torch.set_float32_matmul_precision\n",
      "Restoring states from the checkpoint path at /workspace/visiomel-2023/visiomel/pxr2rx9l/checkpoints/epoch=95-step=23424.ckpt\n",
      "LOCAL_RANK: 0 - CUDA_VISIBLE_DEVICES: [0]\n",
      "Loaded model weights from the checkpoint at /workspace/visiomel-2023/visiomel/pxr2rx9l/checkpoints/epoch=95-step=23424.ckpt\n"
     ]
    },
    {
     "data": {
      "application/vnd.jupyter.widget-view+json": {
       "model_id": "a7189afffd2a4b4da67642d6758b6dba",
       "version_major": 2,
       "version_minor": 0
      },
      "text/plain": [
       "Predicting: 0it [00:00, ?it/s]"
      ]
     },
     "metadata": {},
     "output_type": "display_data"
    },
    {
     "name": "stderr",
     "output_type": "stream",
     "text": [
      "/root/miniconda3/envs/visiomel-2023/lib/python3.10/site-packages/torch/nn/functional.py:4999: UserWarning: Support for mismatched key_padding_mask and attn_mask is deprecated. Use same type for both instead.\n",
      "  warnings.warn(\n",
      "/root/miniconda3/envs/visiomel-2023/lib/python3.10/site-packages/pytorch_lightning/cli.py:484: UserWarning: LightningCLI's args parameter is intended to run from within Python like if it were from the command line. To prevent mistakes it is not recommended to provide both args and command line arguments, got: sys.argv[1:]=['--ip=127.0.0.1', '--stdin=9003', '--control=9001', '--hb=9000', '--Session.signature_scheme=\"hmac-sha256\"', '--Session.key=b\"de075e14-9ad3-41b7-a5f2-5387e1eb72b5\"', '--shell=9002', '--transport=\"tcp\"', '--iopub=9004', '--f=/root/.local/share/jupyter/runtime/kernel-v2-2552482MB5ow10vQkDe.json'], args=['--config', '/workspace/visiomel-2023/run/configs/swin-patch-attention-classifier.yaml', '--data.init_args.batch_size=32', '--data.init_args.sampler=weighted_upsampling', '--model.init_args.attention_dropout=0.1101479509435598', '--model.init_args.attention_hidden_dim=64', '--model.init_args.attention_num_heads=8', '--model.init_args.label_smoothing=0.19365209170598277', '--model.lr=0.0008549720251132047', '--trainer.max_epochs=200', '--data.init_args.k', '5', '--data.init_args.fold_index', '3', '--data.init_args.k_test', '5', '--data.init_args.fold_index_test', '1', '--data.init_args.num_workers', '10', '--data.init_args.num_workers_saturated', '10'].\n",
      "  rank_zero_warn(\n",
      "Global seed set to 0\n",
      "/root/miniconda3/envs/visiomel-2023/lib/python3.10/site-packages/pytorch_lightning/loggers/wandb.py:395: UserWarning: There is a wandb run already in progress and newly created instances of `WandbLogger` will reuse this run. If this is not desired, call `wandb.finish()` before instantiating `WandbLogger`.\n",
      "  rank_zero_warn(\n",
      "Using 16bit Automatic Mixed Precision (AMP)\n",
      "GPU available: True (cuda), used: True\n",
      "TPU available: False, using: 0 TPU cores\n",
      "IPU available: False, using: 0 IPUs\n",
      "HPU available: False, using: 0 HPUs\n",
      "You are using a CUDA device ('NVIDIA GeForce RTX 3090') that has Tensor Cores. To properly utilize them, you should set `torch.set_float32_matmul_precision('medium' | 'high')` which will trade-off precision for performance. For more details, read https://pytorch.org/docs/stable/generated/torch.set_float32_matmul_precision.html#torch.set_float32_matmul_precision\n",
      "Restoring states from the checkpoint path at /workspace/visiomel-2023/visiomel/l6n6w0mg/checkpoints/epoch=96-step=23668.ckpt\n",
      "LOCAL_RANK: 0 - CUDA_VISIBLE_DEVICES: [0]\n",
      "Loaded model weights from the checkpoint at /workspace/visiomel-2023/visiomel/l6n6w0mg/checkpoints/epoch=96-step=23668.ckpt\n"
     ]
    },
    {
     "data": {
      "application/vnd.jupyter.widget-view+json": {
       "model_id": "dc252178cce9435ba2066b6a0eb8a993",
       "version_major": 2,
       "version_minor": 0
      },
      "text/plain": [
       "Predicting: 0it [00:00, ?it/s]"
      ]
     },
     "metadata": {},
     "output_type": "display_data"
    },
    {
     "name": "stderr",
     "output_type": "stream",
     "text": [
      "/root/miniconda3/envs/visiomel-2023/lib/python3.10/site-packages/torch/nn/functional.py:4999: UserWarning: Support for mismatched key_padding_mask and attn_mask is deprecated. Use same type for both instead.\n",
      "  warnings.warn(\n",
      "/root/miniconda3/envs/visiomel-2023/lib/python3.10/site-packages/pytorch_lightning/cli.py:484: UserWarning: LightningCLI's args parameter is intended to run from within Python like if it were from the command line. To prevent mistakes it is not recommended to provide both args and command line arguments, got: sys.argv[1:]=['--ip=127.0.0.1', '--stdin=9003', '--control=9001', '--hb=9000', '--Session.signature_scheme=\"hmac-sha256\"', '--Session.key=b\"de075e14-9ad3-41b7-a5f2-5387e1eb72b5\"', '--shell=9002', '--transport=\"tcp\"', '--iopub=9004', '--f=/root/.local/share/jupyter/runtime/kernel-v2-2552482MB5ow10vQkDe.json'], args=['--config', '/workspace/visiomel-2023/run/configs/swin-patch-attention-classifier.yaml', '--data.init_args.batch_size=32', '--data.init_args.sampler=weighted_upsampling', '--model.init_args.attention_dropout=0.1101479509435598', '--model.init_args.attention_hidden_dim=64', '--model.init_args.attention_num_heads=8', '--model.init_args.label_smoothing=0.19365209170598277', '--model.lr=0.0008549720251132047', '--trainer.max_epochs=200', '--data.init_args.k', '5', '--data.init_args.fold_index', '4', '--data.init_args.k_test', '5', '--data.init_args.fold_index_test', '1', '--data.init_args.num_workers', '10', '--data.init_args.num_workers_saturated', '10'].\n",
      "  rank_zero_warn(\n",
      "Global seed set to 0\n",
      "/root/miniconda3/envs/visiomel-2023/lib/python3.10/site-packages/pytorch_lightning/loggers/wandb.py:395: UserWarning: There is a wandb run already in progress and newly created instances of `WandbLogger` will reuse this run. If this is not desired, call `wandb.finish()` before instantiating `WandbLogger`.\n",
      "  rank_zero_warn(\n",
      "Using 16bit Automatic Mixed Precision (AMP)\n",
      "GPU available: True (cuda), used: True\n",
      "TPU available: False, using: 0 TPU cores\n",
      "IPU available: False, using: 0 IPUs\n",
      "HPU available: False, using: 0 HPUs\n",
      "You are using a CUDA device ('NVIDIA GeForce RTX 3090') that has Tensor Cores. To properly utilize them, you should set `torch.set_float32_matmul_precision('medium' | 'high')` which will trade-off precision for performance. For more details, read https://pytorch.org/docs/stable/generated/torch.set_float32_matmul_precision.html#torch.set_float32_matmul_precision\n",
      "Restoring states from the checkpoint path at /workspace/visiomel-2023/visiomel/5o1q2zjf/checkpoints/epoch=13-step=3430.ckpt\n",
      "LOCAL_RANK: 0 - CUDA_VISIBLE_DEVICES: [0]\n",
      "Loaded model weights from the checkpoint at /workspace/visiomel-2023/visiomel/5o1q2zjf/checkpoints/epoch=13-step=3430.ckpt\n"
     ]
    },
    {
     "data": {
      "application/vnd.jupyter.widget-view+json": {
       "model_id": "59bfe805fd8b485592870b53343fcef7",
       "version_major": 2,
       "version_minor": 0
      },
      "text/plain": [
       "Predicting: 0it [00:00, ?it/s]"
      ]
     },
     "metadata": {},
     "output_type": "display_data"
    },
    {
     "name": "stderr",
     "output_type": "stream",
     "text": [
      "/root/miniconda3/envs/visiomel-2023/lib/python3.10/site-packages/torch/nn/functional.py:4999: UserWarning: Support for mismatched key_padding_mask and attn_mask is deprecated. Use same type for both instead.\n",
      "  warnings.warn(\n",
      "100%|██████████| 5/5 [00:24<00:00,  4.90s/it]\n",
      " 40%|████      | 2/5 [00:57<01:24, 28.01s/it]/root/miniconda3/envs/visiomel-2023/lib/python3.10/site-packages/pytorch_lightning/cli.py:484: UserWarning: LightningCLI's args parameter is intended to run from within Python like if it were from the command line. To prevent mistakes it is not recommended to provide both args and command line arguments, got: sys.argv[1:]=['--ip=127.0.0.1', '--stdin=9003', '--control=9001', '--hb=9000', '--Session.signature_scheme=\"hmac-sha256\"', '--Session.key=b\"de075e14-9ad3-41b7-a5f2-5387e1eb72b5\"', '--shell=9002', '--transport=\"tcp\"', '--iopub=9004', '--f=/root/.local/share/jupyter/runtime/kernel-v2-2552482MB5ow10vQkDe.json'], args=['--config', '/workspace/visiomel-2023/run/configs/swin-patch-attention-classifier.yaml', '--data.init_args.batch_size=32', '--data.init_args.sampler=weighted_upsampling', '--model.init_args.attention_dropout=0.1101479509435598', '--model.init_args.attention_hidden_dim=64', '--model.init_args.attention_num_heads=8', '--model.init_args.label_smoothing=0.19365209170598277', '--model.lr=0.0008549720251132047', '--trainer.max_epochs=200', '--data.init_args.k', '5', '--data.init_args.fold_index', '0', '--data.init_args.k_test', '5', '--data.init_args.fold_index_test', '2', '--data.init_args.num_workers', '10', '--data.init_args.num_workers_saturated', '10'].\n",
      "  rank_zero_warn(\n",
      "Global seed set to 0\n",
      "/root/miniconda3/envs/visiomel-2023/lib/python3.10/site-packages/pytorch_lightning/loggers/wandb.py:395: UserWarning: There is a wandb run already in progress and newly created instances of `WandbLogger` will reuse this run. If this is not desired, call `wandb.finish()` before instantiating `WandbLogger`.\n",
      "  rank_zero_warn(\n",
      "Using 16bit Automatic Mixed Precision (AMP)\n",
      "GPU available: True (cuda), used: True\n",
      "TPU available: False, using: 0 TPU cores\n",
      "IPU available: False, using: 0 IPUs\n",
      "HPU available: False, using: 0 HPUs\n",
      "You are using a CUDA device ('NVIDIA GeForce RTX 3090') that has Tensor Cores. To properly utilize them, you should set `torch.set_float32_matmul_precision('medium' | 'high')` which will trade-off precision for performance. For more details, read https://pytorch.org/docs/stable/generated/torch.set_float32_matmul_precision.html#torch.set_float32_matmul_precision\n",
      "Restoring states from the checkpoint path at /workspace/visiomel-2023/visiomel/zhfuvjzf/checkpoints/epoch=16-step=4148.ckpt\n",
      "LOCAL_RANK: 0 - CUDA_VISIBLE_DEVICES: [0]\n",
      "Loaded model weights from the checkpoint at /workspace/visiomel-2023/visiomel/zhfuvjzf/checkpoints/epoch=16-step=4148.ckpt\n"
     ]
    },
    {
     "data": {
      "application/vnd.jupyter.widget-view+json": {
       "model_id": "d57d47b3517440b9b700e55b1deece66",
       "version_major": 2,
       "version_minor": 0
      },
      "text/plain": [
       "Predicting: 0it [00:00, ?it/s]"
      ]
     },
     "metadata": {},
     "output_type": "display_data"
    },
    {
     "name": "stderr",
     "output_type": "stream",
     "text": [
      "/root/miniconda3/envs/visiomel-2023/lib/python3.10/site-packages/torch/nn/functional.py:4999: UserWarning: Support for mismatched key_padding_mask and attn_mask is deprecated. Use same type for both instead.\n",
      "  warnings.warn(\n",
      "/root/miniconda3/envs/visiomel-2023/lib/python3.10/site-packages/pytorch_lightning/cli.py:484: UserWarning: LightningCLI's args parameter is intended to run from within Python like if it were from the command line. To prevent mistakes it is not recommended to provide both args and command line arguments, got: sys.argv[1:]=['--ip=127.0.0.1', '--stdin=9003', '--control=9001', '--hb=9000', '--Session.signature_scheme=\"hmac-sha256\"', '--Session.key=b\"de075e14-9ad3-41b7-a5f2-5387e1eb72b5\"', '--shell=9002', '--transport=\"tcp\"', '--iopub=9004', '--f=/root/.local/share/jupyter/runtime/kernel-v2-2552482MB5ow10vQkDe.json'], args=['--config', '/workspace/visiomel-2023/run/configs/swin-patch-attention-classifier.yaml', '--data.init_args.batch_size=32', '--data.init_args.sampler=weighted_upsampling', '--model.init_args.attention_dropout=0.1101479509435598', '--model.init_args.attention_hidden_dim=64', '--model.init_args.attention_num_heads=8', '--model.init_args.label_smoothing=0.19365209170598277', '--model.lr=0.0008549720251132047', '--trainer.max_epochs=200', '--data.init_args.k', '5', '--data.init_args.fold_index', '1', '--data.init_args.k_test', '5', '--data.init_args.fold_index_test', '2', '--data.init_args.num_workers', '10', '--data.init_args.num_workers_saturated', '10'].\n",
      "  rank_zero_warn(\n",
      "Global seed set to 0\n",
      "/root/miniconda3/envs/visiomel-2023/lib/python3.10/site-packages/pytorch_lightning/loggers/wandb.py:395: UserWarning: There is a wandb run already in progress and newly created instances of `WandbLogger` will reuse this run. If this is not desired, call `wandb.finish()` before instantiating `WandbLogger`.\n",
      "  rank_zero_warn(\n",
      "Using 16bit Automatic Mixed Precision (AMP)\n",
      "GPU available: True (cuda), used: True\n",
      "TPU available: False, using: 0 TPU cores\n",
      "IPU available: False, using: 0 IPUs\n",
      "HPU available: False, using: 0 HPUs\n",
      "You are using a CUDA device ('NVIDIA GeForce RTX 3090') that has Tensor Cores. To properly utilize them, you should set `torch.set_float32_matmul_precision('medium' | 'high')` which will trade-off precision for performance. For more details, read https://pytorch.org/docs/stable/generated/torch.set_float32_matmul_precision.html#torch.set_float32_matmul_precision\n",
      "Restoring states from the checkpoint path at /workspace/visiomel-2023/visiomel/hxkqdhj3/checkpoints/epoch=31-step=7808.ckpt\n",
      "LOCAL_RANK: 0 - CUDA_VISIBLE_DEVICES: [0]\n",
      "Loaded model weights from the checkpoint at /workspace/visiomel-2023/visiomel/hxkqdhj3/checkpoints/epoch=31-step=7808.ckpt\n"
     ]
    },
    {
     "data": {
      "application/vnd.jupyter.widget-view+json": {
       "model_id": "734af18a47054183835da7a02f25fec3",
       "version_major": 2,
       "version_minor": 0
      },
      "text/plain": [
       "Predicting: 0it [00:00, ?it/s]"
      ]
     },
     "metadata": {},
     "output_type": "display_data"
    },
    {
     "name": "stderr",
     "output_type": "stream",
     "text": [
      "/root/miniconda3/envs/visiomel-2023/lib/python3.10/site-packages/torch/nn/functional.py:4999: UserWarning: Support for mismatched key_padding_mask and attn_mask is deprecated. Use same type for both instead.\n",
      "  warnings.warn(\n",
      "/root/miniconda3/envs/visiomel-2023/lib/python3.10/site-packages/pytorch_lightning/cli.py:484: UserWarning: LightningCLI's args parameter is intended to run from within Python like if it were from the command line. To prevent mistakes it is not recommended to provide both args and command line arguments, got: sys.argv[1:]=['--ip=127.0.0.1', '--stdin=9003', '--control=9001', '--hb=9000', '--Session.signature_scheme=\"hmac-sha256\"', '--Session.key=b\"de075e14-9ad3-41b7-a5f2-5387e1eb72b5\"', '--shell=9002', '--transport=\"tcp\"', '--iopub=9004', '--f=/root/.local/share/jupyter/runtime/kernel-v2-2552482MB5ow10vQkDe.json'], args=['--config', '/workspace/visiomel-2023/run/configs/swin-patch-attention-classifier.yaml', '--data.init_args.batch_size=32', '--data.init_args.sampler=weighted_upsampling', '--model.init_args.attention_dropout=0.1101479509435598', '--model.init_args.attention_hidden_dim=64', '--model.init_args.attention_num_heads=8', '--model.init_args.label_smoothing=0.19365209170598277', '--model.lr=0.0008549720251132047', '--trainer.max_epochs=200', '--data.init_args.k', '5', '--data.init_args.fold_index', '2', '--data.init_args.k_test', '5', '--data.init_args.fold_index_test', '2', '--data.init_args.num_workers', '10', '--data.init_args.num_workers_saturated', '10'].\n",
      "  rank_zero_warn(\n",
      "Global seed set to 0\n",
      "/root/miniconda3/envs/visiomel-2023/lib/python3.10/site-packages/pytorch_lightning/loggers/wandb.py:395: UserWarning: There is a wandb run already in progress and newly created instances of `WandbLogger` will reuse this run. If this is not desired, call `wandb.finish()` before instantiating `WandbLogger`.\n",
      "  rank_zero_warn(\n",
      "Using 16bit Automatic Mixed Precision (AMP)\n",
      "GPU available: True (cuda), used: True\n",
      "TPU available: False, using: 0 TPU cores\n",
      "IPU available: False, using: 0 IPUs\n",
      "HPU available: False, using: 0 HPUs\n",
      "You are using a CUDA device ('NVIDIA GeForce RTX 3090') that has Tensor Cores. To properly utilize them, you should set `torch.set_float32_matmul_precision('medium' | 'high')` which will trade-off precision for performance. For more details, read https://pytorch.org/docs/stable/generated/torch.set_float32_matmul_precision.html#torch.set_float32_matmul_precision\n",
      "Restoring states from the checkpoint path at /workspace/visiomel-2023/visiomel/dfmb9wnv/checkpoints/epoch=27-step=6832.ckpt\n",
      "LOCAL_RANK: 0 - CUDA_VISIBLE_DEVICES: [0]\n",
      "Loaded model weights from the checkpoint at /workspace/visiomel-2023/visiomel/dfmb9wnv/checkpoints/epoch=27-step=6832.ckpt\n"
     ]
    },
    {
     "data": {
      "application/vnd.jupyter.widget-view+json": {
       "model_id": "f8d220d1661749c99d8e94477a458e35",
       "version_major": 2,
       "version_minor": 0
      },
      "text/plain": [
       "Predicting: 0it [00:00, ?it/s]"
      ]
     },
     "metadata": {},
     "output_type": "display_data"
    },
    {
     "name": "stderr",
     "output_type": "stream",
     "text": [
      "/root/miniconda3/envs/visiomel-2023/lib/python3.10/site-packages/torch/nn/functional.py:4999: UserWarning: Support for mismatched key_padding_mask and attn_mask is deprecated. Use same type for both instead.\n",
      "  warnings.warn(\n",
      "/root/miniconda3/envs/visiomel-2023/lib/python3.10/site-packages/pytorch_lightning/cli.py:484: UserWarning: LightningCLI's args parameter is intended to run from within Python like if it were from the command line. To prevent mistakes it is not recommended to provide both args and command line arguments, got: sys.argv[1:]=['--ip=127.0.0.1', '--stdin=9003', '--control=9001', '--hb=9000', '--Session.signature_scheme=\"hmac-sha256\"', '--Session.key=b\"de075e14-9ad3-41b7-a5f2-5387e1eb72b5\"', '--shell=9002', '--transport=\"tcp\"', '--iopub=9004', '--f=/root/.local/share/jupyter/runtime/kernel-v2-2552482MB5ow10vQkDe.json'], args=['--config', '/workspace/visiomel-2023/run/configs/swin-patch-attention-classifier.yaml', '--data.init_args.batch_size=32', '--data.init_args.sampler=weighted_upsampling', '--model.init_args.attention_dropout=0.1101479509435598', '--model.init_args.attention_hidden_dim=64', '--model.init_args.attention_num_heads=8', '--model.init_args.label_smoothing=0.19365209170598277', '--model.lr=0.0008549720251132047', '--trainer.max_epochs=200', '--data.init_args.k', '5', '--data.init_args.fold_index', '3', '--data.init_args.k_test', '5', '--data.init_args.fold_index_test', '2', '--data.init_args.num_workers', '10', '--data.init_args.num_workers_saturated', '10'].\n",
      "  rank_zero_warn(\n",
      "Global seed set to 0\n",
      "/root/miniconda3/envs/visiomel-2023/lib/python3.10/site-packages/pytorch_lightning/loggers/wandb.py:395: UserWarning: There is a wandb run already in progress and newly created instances of `WandbLogger` will reuse this run. If this is not desired, call `wandb.finish()` before instantiating `WandbLogger`.\n",
      "  rank_zero_warn(\n",
      "Using 16bit Automatic Mixed Precision (AMP)\n",
      "GPU available: True (cuda), used: True\n",
      "TPU available: False, using: 0 TPU cores\n",
      "IPU available: False, using: 0 IPUs\n",
      "HPU available: False, using: 0 HPUs\n",
      "You are using a CUDA device ('NVIDIA GeForce RTX 3090') that has Tensor Cores. To properly utilize them, you should set `torch.set_float32_matmul_precision('medium' | 'high')` which will trade-off precision for performance. For more details, read https://pytorch.org/docs/stable/generated/torch.set_float32_matmul_precision.html#torch.set_float32_matmul_precision\n",
      "Restoring states from the checkpoint path at /workspace/visiomel-2023/visiomel/wdvth84p/checkpoints/epoch=3-step=972.ckpt\n",
      "LOCAL_RANK: 0 - CUDA_VISIBLE_DEVICES: [0]\n",
      "Loaded model weights from the checkpoint at /workspace/visiomel-2023/visiomel/wdvth84p/checkpoints/epoch=3-step=972.ckpt\n"
     ]
    },
    {
     "data": {
      "application/vnd.jupyter.widget-view+json": {
       "model_id": "278737e6e9ea412f803d77625b568569",
       "version_major": 2,
       "version_minor": 0
      },
      "text/plain": [
       "Predicting: 0it [00:00, ?it/s]"
      ]
     },
     "metadata": {},
     "output_type": "display_data"
    },
    {
     "name": "stderr",
     "output_type": "stream",
     "text": [
      "/root/miniconda3/envs/visiomel-2023/lib/python3.10/site-packages/torch/nn/functional.py:4999: UserWarning: Support for mismatched key_padding_mask and attn_mask is deprecated. Use same type for both instead.\n",
      "  warnings.warn(\n",
      "/root/miniconda3/envs/visiomel-2023/lib/python3.10/site-packages/pytorch_lightning/cli.py:484: UserWarning: LightningCLI's args parameter is intended to run from within Python like if it were from the command line. To prevent mistakes it is not recommended to provide both args and command line arguments, got: sys.argv[1:]=['--ip=127.0.0.1', '--stdin=9003', '--control=9001', '--hb=9000', '--Session.signature_scheme=\"hmac-sha256\"', '--Session.key=b\"de075e14-9ad3-41b7-a5f2-5387e1eb72b5\"', '--shell=9002', '--transport=\"tcp\"', '--iopub=9004', '--f=/root/.local/share/jupyter/runtime/kernel-v2-2552482MB5ow10vQkDe.json'], args=['--config', '/workspace/visiomel-2023/run/configs/swin-patch-attention-classifier.yaml', '--data.init_args.batch_size=32', '--data.init_args.sampler=weighted_upsampling', '--model.init_args.attention_dropout=0.1101479509435598', '--model.init_args.attention_hidden_dim=64', '--model.init_args.attention_num_heads=8', '--model.init_args.label_smoothing=0.19365209170598277', '--model.lr=0.0008549720251132047', '--trainer.max_epochs=200', '--data.init_args.k', '5', '--data.init_args.fold_index', '4', '--data.init_args.k_test', '5', '--data.init_args.fold_index_test', '2', '--data.init_args.num_workers', '10', '--data.init_args.num_workers_saturated', '10'].\n",
      "  rank_zero_warn(\n",
      "Global seed set to 0\n",
      "/root/miniconda3/envs/visiomel-2023/lib/python3.10/site-packages/pytorch_lightning/loggers/wandb.py:395: UserWarning: There is a wandb run already in progress and newly created instances of `WandbLogger` will reuse this run. If this is not desired, call `wandb.finish()` before instantiating `WandbLogger`.\n",
      "  rank_zero_warn(\n",
      "Using 16bit Automatic Mixed Precision (AMP)\n",
      "GPU available: True (cuda), used: True\n",
      "TPU available: False, using: 0 TPU cores\n",
      "IPU available: False, using: 0 IPUs\n",
      "HPU available: False, using: 0 HPUs\n",
      "You are using a CUDA device ('NVIDIA GeForce RTX 3090') that has Tensor Cores. To properly utilize them, you should set `torch.set_float32_matmul_precision('medium' | 'high')` which will trade-off precision for performance. For more details, read https://pytorch.org/docs/stable/generated/torch.set_float32_matmul_precision.html#torch.set_float32_matmul_precision\n",
      "Restoring states from the checkpoint path at /workspace/visiomel-2023/visiomel/f1zl4jdv/checkpoints/epoch=66-step=16348.ckpt\n",
      "LOCAL_RANK: 0 - CUDA_VISIBLE_DEVICES: [0]\n",
      "Loaded model weights from the checkpoint at /workspace/visiomel-2023/visiomel/f1zl4jdv/checkpoints/epoch=66-step=16348.ckpt\n"
     ]
    },
    {
     "data": {
      "application/vnd.jupyter.widget-view+json": {
       "model_id": "7eaf57ca07124f15b5a7cb8c0a814b65",
       "version_major": 2,
       "version_minor": 0
      },
      "text/plain": [
       "Predicting: 0it [00:00, ?it/s]"
      ]
     },
     "metadata": {},
     "output_type": "display_data"
    },
    {
     "name": "stderr",
     "output_type": "stream",
     "text": [
      "/root/miniconda3/envs/visiomel-2023/lib/python3.10/site-packages/torch/nn/functional.py:4999: UserWarning: Support for mismatched key_padding_mask and attn_mask is deprecated. Use same type for both instead.\n",
      "  warnings.warn(\n",
      "100%|██████████| 5/5 [00:24<00:00,  4.91s/it]\n",
      " 60%|██████    | 3/5 [01:22<00:52, 26.47s/it]/root/miniconda3/envs/visiomel-2023/lib/python3.10/site-packages/pytorch_lightning/cli.py:484: UserWarning: LightningCLI's args parameter is intended to run from within Python like if it were from the command line. To prevent mistakes it is not recommended to provide both args and command line arguments, got: sys.argv[1:]=['--ip=127.0.0.1', '--stdin=9003', '--control=9001', '--hb=9000', '--Session.signature_scheme=\"hmac-sha256\"', '--Session.key=b\"de075e14-9ad3-41b7-a5f2-5387e1eb72b5\"', '--shell=9002', '--transport=\"tcp\"', '--iopub=9004', '--f=/root/.local/share/jupyter/runtime/kernel-v2-2552482MB5ow10vQkDe.json'], args=['--config', '/workspace/visiomel-2023/run/configs/swin-patch-attention-classifier.yaml', '--data.init_args.batch_size=32', '--data.init_args.sampler=weighted_upsampling', '--model.init_args.attention_dropout=0.1101479509435598', '--model.init_args.attention_hidden_dim=64', '--model.init_args.attention_num_heads=8', '--model.init_args.label_smoothing=0.19365209170598277', '--model.lr=0.0008549720251132047', '--trainer.max_epochs=200', '--data.init_args.k', '5', '--data.init_args.fold_index', '0', '--data.init_args.k_test', '5', '--data.init_args.fold_index_test', '3', '--data.init_args.num_workers', '10', '--data.init_args.num_workers_saturated', '10'].\n",
      "  rank_zero_warn(\n",
      "Global seed set to 0\n",
      "/root/miniconda3/envs/visiomel-2023/lib/python3.10/site-packages/pytorch_lightning/loggers/wandb.py:395: UserWarning: There is a wandb run already in progress and newly created instances of `WandbLogger` will reuse this run. If this is not desired, call `wandb.finish()` before instantiating `WandbLogger`.\n",
      "  rank_zero_warn(\n",
      "Using 16bit Automatic Mixed Precision (AMP)\n",
      "GPU available: True (cuda), used: True\n",
      "TPU available: False, using: 0 TPU cores\n",
      "IPU available: False, using: 0 IPUs\n",
      "HPU available: False, using: 0 HPUs\n",
      "You are using a CUDA device ('NVIDIA GeForce RTX 3090') that has Tensor Cores. To properly utilize them, you should set `torch.set_float32_matmul_precision('medium' | 'high')` which will trade-off precision for performance. For more details, read https://pytorch.org/docs/stable/generated/torch.set_float32_matmul_precision.html#torch.set_float32_matmul_precision\n",
      "Restoring states from the checkpoint path at /workspace/visiomel-2023/visiomel/su0g5p0n/checkpoints/epoch=75-step=18620.ckpt\n",
      "LOCAL_RANK: 0 - CUDA_VISIBLE_DEVICES: [0]\n",
      "Loaded model weights from the checkpoint at /workspace/visiomel-2023/visiomel/su0g5p0n/checkpoints/epoch=75-step=18620.ckpt\n"
     ]
    },
    {
     "data": {
      "application/vnd.jupyter.widget-view+json": {
       "model_id": "60573bf2a2b64d6ebc1d0f546770da8e",
       "version_major": 2,
       "version_minor": 0
      },
      "text/plain": [
       "Predicting: 0it [00:00, ?it/s]"
      ]
     },
     "metadata": {},
     "output_type": "display_data"
    },
    {
     "name": "stderr",
     "output_type": "stream",
     "text": [
      "/root/miniconda3/envs/visiomel-2023/lib/python3.10/site-packages/torch/nn/functional.py:4999: UserWarning: Support for mismatched key_padding_mask and attn_mask is deprecated. Use same type for both instead.\n",
      "  warnings.warn(\n",
      "/root/miniconda3/envs/visiomel-2023/lib/python3.10/site-packages/pytorch_lightning/cli.py:484: UserWarning: LightningCLI's args parameter is intended to run from within Python like if it were from the command line. To prevent mistakes it is not recommended to provide both args and command line arguments, got: sys.argv[1:]=['--ip=127.0.0.1', '--stdin=9003', '--control=9001', '--hb=9000', '--Session.signature_scheme=\"hmac-sha256\"', '--Session.key=b\"de075e14-9ad3-41b7-a5f2-5387e1eb72b5\"', '--shell=9002', '--transport=\"tcp\"', '--iopub=9004', '--f=/root/.local/share/jupyter/runtime/kernel-v2-2552482MB5ow10vQkDe.json'], args=['--config', '/workspace/visiomel-2023/run/configs/swin-patch-attention-classifier.yaml', '--data.init_args.batch_size=32', '--data.init_args.sampler=weighted_upsampling', '--model.init_args.attention_dropout=0.1101479509435598', '--model.init_args.attention_hidden_dim=64', '--model.init_args.attention_num_heads=8', '--model.init_args.label_smoothing=0.19365209170598277', '--model.lr=0.0008549720251132047', '--trainer.max_epochs=200', '--data.init_args.k', '5', '--data.init_args.fold_index', '1', '--data.init_args.k_test', '5', '--data.init_args.fold_index_test', '3', '--data.init_args.num_workers', '10', '--data.init_args.num_workers_saturated', '10'].\n",
      "  rank_zero_warn(\n",
      "Global seed set to 0\n",
      "/root/miniconda3/envs/visiomel-2023/lib/python3.10/site-packages/pytorch_lightning/loggers/wandb.py:395: UserWarning: There is a wandb run already in progress and newly created instances of `WandbLogger` will reuse this run. If this is not desired, call `wandb.finish()` before instantiating `WandbLogger`.\n",
      "  rank_zero_warn(\n",
      "Using 16bit Automatic Mixed Precision (AMP)\n",
      "GPU available: True (cuda), used: True\n",
      "TPU available: False, using: 0 TPU cores\n",
      "IPU available: False, using: 0 IPUs\n",
      "HPU available: False, using: 0 HPUs\n",
      "You are using a CUDA device ('NVIDIA GeForce RTX 3090') that has Tensor Cores. To properly utilize them, you should set `torch.set_float32_matmul_precision('medium' | 'high')` which will trade-off precision for performance. For more details, read https://pytorch.org/docs/stable/generated/torch.set_float32_matmul_precision.html#torch.set_float32_matmul_precision\n",
      "Restoring states from the checkpoint path at /workspace/visiomel-2023/visiomel/v7pzxpsj/checkpoints/epoch=78-step=19276.ckpt\n",
      "LOCAL_RANK: 0 - CUDA_VISIBLE_DEVICES: [0]\n",
      "Loaded model weights from the checkpoint at /workspace/visiomel-2023/visiomel/v7pzxpsj/checkpoints/epoch=78-step=19276.ckpt\n"
     ]
    },
    {
     "data": {
      "application/vnd.jupyter.widget-view+json": {
       "model_id": "607cc2cd540b414b9fe69ecda26e1cff",
       "version_major": 2,
       "version_minor": 0
      },
      "text/plain": [
       "Predicting: 0it [00:00, ?it/s]"
      ]
     },
     "metadata": {},
     "output_type": "display_data"
    },
    {
     "name": "stderr",
     "output_type": "stream",
     "text": [
      "/root/miniconda3/envs/visiomel-2023/lib/python3.10/site-packages/torch/nn/functional.py:4999: UserWarning: Support for mismatched key_padding_mask and attn_mask is deprecated. Use same type for both instead.\n",
      "  warnings.warn(\n",
      "/root/miniconda3/envs/visiomel-2023/lib/python3.10/site-packages/pytorch_lightning/cli.py:484: UserWarning: LightningCLI's args parameter is intended to run from within Python like if it were from the command line. To prevent mistakes it is not recommended to provide both args and command line arguments, got: sys.argv[1:]=['--ip=127.0.0.1', '--stdin=9003', '--control=9001', '--hb=9000', '--Session.signature_scheme=\"hmac-sha256\"', '--Session.key=b\"de075e14-9ad3-41b7-a5f2-5387e1eb72b5\"', '--shell=9002', '--transport=\"tcp\"', '--iopub=9004', '--f=/root/.local/share/jupyter/runtime/kernel-v2-2552482MB5ow10vQkDe.json'], args=['--config', '/workspace/visiomel-2023/run/configs/swin-patch-attention-classifier.yaml', '--data.init_args.batch_size=32', '--data.init_args.sampler=weighted_upsampling', '--model.init_args.attention_dropout=0.1101479509435598', '--model.init_args.attention_hidden_dim=64', '--model.init_args.attention_num_heads=8', '--model.init_args.label_smoothing=0.19365209170598277', '--model.lr=0.0008549720251132047', '--trainer.max_epochs=200', '--data.init_args.k', '5', '--data.init_args.fold_index', '2', '--data.init_args.k_test', '5', '--data.init_args.fold_index_test', '3', '--data.init_args.num_workers', '10', '--data.init_args.num_workers_saturated', '10'].\n",
      "  rank_zero_warn(\n",
      "Global seed set to 0\n",
      "/root/miniconda3/envs/visiomel-2023/lib/python3.10/site-packages/pytorch_lightning/loggers/wandb.py:395: UserWarning: There is a wandb run already in progress and newly created instances of `WandbLogger` will reuse this run. If this is not desired, call `wandb.finish()` before instantiating `WandbLogger`.\n",
      "  rank_zero_warn(\n",
      "Using 16bit Automatic Mixed Precision (AMP)\n",
      "GPU available: True (cuda), used: True\n",
      "TPU available: False, using: 0 TPU cores\n",
      "IPU available: False, using: 0 IPUs\n",
      "HPU available: False, using: 0 HPUs\n",
      "You are using a CUDA device ('NVIDIA GeForce RTX 3090') that has Tensor Cores. To properly utilize them, you should set `torch.set_float32_matmul_precision('medium' | 'high')` which will trade-off precision for performance. For more details, read https://pytorch.org/docs/stable/generated/torch.set_float32_matmul_precision.html#torch.set_float32_matmul_precision\n",
      "Restoring states from the checkpoint path at /workspace/visiomel-2023/visiomel/rrrukjzu/checkpoints/epoch=45-step=11224.ckpt\n",
      "LOCAL_RANK: 0 - CUDA_VISIBLE_DEVICES: [0]\n",
      "Loaded model weights from the checkpoint at /workspace/visiomel-2023/visiomel/rrrukjzu/checkpoints/epoch=45-step=11224.ckpt\n"
     ]
    },
    {
     "data": {
      "application/vnd.jupyter.widget-view+json": {
       "model_id": "6411aa8374714a90b64283a07a121cd7",
       "version_major": 2,
       "version_minor": 0
      },
      "text/plain": [
       "Predicting: 0it [00:00, ?it/s]"
      ]
     },
     "metadata": {},
     "output_type": "display_data"
    },
    {
     "name": "stderr",
     "output_type": "stream",
     "text": [
      "/root/miniconda3/envs/visiomel-2023/lib/python3.10/site-packages/torch/nn/functional.py:4999: UserWarning: Support for mismatched key_padding_mask and attn_mask is deprecated. Use same type for both instead.\n",
      "  warnings.warn(\n",
      "/root/miniconda3/envs/visiomel-2023/lib/python3.10/site-packages/pytorch_lightning/cli.py:484: UserWarning: LightningCLI's args parameter is intended to run from within Python like if it were from the command line. To prevent mistakes it is not recommended to provide both args and command line arguments, got: sys.argv[1:]=['--ip=127.0.0.1', '--stdin=9003', '--control=9001', '--hb=9000', '--Session.signature_scheme=\"hmac-sha256\"', '--Session.key=b\"de075e14-9ad3-41b7-a5f2-5387e1eb72b5\"', '--shell=9002', '--transport=\"tcp\"', '--iopub=9004', '--f=/root/.local/share/jupyter/runtime/kernel-v2-2552482MB5ow10vQkDe.json'], args=['--config', '/workspace/visiomel-2023/run/configs/swin-patch-attention-classifier.yaml', '--data.init_args.batch_size=32', '--data.init_args.sampler=weighted_upsampling', '--model.init_args.attention_dropout=0.1101479509435598', '--model.init_args.attention_hidden_dim=64', '--model.init_args.attention_num_heads=8', '--model.init_args.label_smoothing=0.19365209170598277', '--model.lr=0.0008549720251132047', '--trainer.max_epochs=200', '--data.init_args.k', '5', '--data.init_args.fold_index', '3', '--data.init_args.k_test', '5', '--data.init_args.fold_index_test', '3', '--data.init_args.num_workers', '10', '--data.init_args.num_workers_saturated', '10'].\n",
      "  rank_zero_warn(\n",
      "Global seed set to 0\n",
      "/root/miniconda3/envs/visiomel-2023/lib/python3.10/site-packages/pytorch_lightning/loggers/wandb.py:395: UserWarning: There is a wandb run already in progress and newly created instances of `WandbLogger` will reuse this run. If this is not desired, call `wandb.finish()` before instantiating `WandbLogger`.\n",
      "  rank_zero_warn(\n",
      "Using 16bit Automatic Mixed Precision (AMP)\n",
      "GPU available: True (cuda), used: True\n",
      "TPU available: False, using: 0 TPU cores\n",
      "IPU available: False, using: 0 IPUs\n",
      "HPU available: False, using: 0 HPUs\n",
      "You are using a CUDA device ('NVIDIA GeForce RTX 3090') that has Tensor Cores. To properly utilize them, you should set `torch.set_float32_matmul_precision('medium' | 'high')` which will trade-off precision for performance. For more details, read https://pytorch.org/docs/stable/generated/torch.set_float32_matmul_precision.html#torch.set_float32_matmul_precision\n",
      "Restoring states from the checkpoint path at /workspace/visiomel-2023/visiomel/6cuv726l/checkpoints/epoch=26-step=6615.ckpt\n",
      "LOCAL_RANK: 0 - CUDA_VISIBLE_DEVICES: [0]\n",
      "Loaded model weights from the checkpoint at /workspace/visiomel-2023/visiomel/6cuv726l/checkpoints/epoch=26-step=6615.ckpt\n"
     ]
    },
    {
     "data": {
      "application/vnd.jupyter.widget-view+json": {
       "model_id": "72ec24a587554ca58f802e29a7ad80e8",
       "version_major": 2,
       "version_minor": 0
      },
      "text/plain": [
       "Predicting: 0it [00:00, ?it/s]"
      ]
     },
     "metadata": {},
     "output_type": "display_data"
    },
    {
     "name": "stderr",
     "output_type": "stream",
     "text": [
      "/root/miniconda3/envs/visiomel-2023/lib/python3.10/site-packages/torch/nn/functional.py:4999: UserWarning: Support for mismatched key_padding_mask and attn_mask is deprecated. Use same type for both instead.\n",
      "  warnings.warn(\n",
      "/root/miniconda3/envs/visiomel-2023/lib/python3.10/site-packages/pytorch_lightning/cli.py:484: UserWarning: LightningCLI's args parameter is intended to run from within Python like if it were from the command line. To prevent mistakes it is not recommended to provide both args and command line arguments, got: sys.argv[1:]=['--ip=127.0.0.1', '--stdin=9003', '--control=9001', '--hb=9000', '--Session.signature_scheme=\"hmac-sha256\"', '--Session.key=b\"de075e14-9ad3-41b7-a5f2-5387e1eb72b5\"', '--shell=9002', '--transport=\"tcp\"', '--iopub=9004', '--f=/root/.local/share/jupyter/runtime/kernel-v2-2552482MB5ow10vQkDe.json'], args=['--config', '/workspace/visiomel-2023/run/configs/swin-patch-attention-classifier.yaml', '--data.init_args.batch_size=32', '--data.init_args.sampler=weighted_upsampling', '--model.init_args.attention_dropout=0.1101479509435598', '--model.init_args.attention_hidden_dim=64', '--model.init_args.attention_num_heads=8', '--model.init_args.label_smoothing=0.19365209170598277', '--model.lr=0.0008549720251132047', '--trainer.max_epochs=200', '--data.init_args.k', '5', '--data.init_args.fold_index', '4', '--data.init_args.k_test', '5', '--data.init_args.fold_index_test', '3', '--data.init_args.num_workers', '10', '--data.init_args.num_workers_saturated', '10'].\n",
      "  rank_zero_warn(\n",
      "Global seed set to 0\n",
      "/root/miniconda3/envs/visiomel-2023/lib/python3.10/site-packages/pytorch_lightning/loggers/wandb.py:395: UserWarning: There is a wandb run already in progress and newly created instances of `WandbLogger` will reuse this run. If this is not desired, call `wandb.finish()` before instantiating `WandbLogger`.\n",
      "  rank_zero_warn(\n",
      "Using 16bit Automatic Mixed Precision (AMP)\n",
      "GPU available: True (cuda), used: True\n",
      "TPU available: False, using: 0 TPU cores\n",
      "IPU available: False, using: 0 IPUs\n",
      "HPU available: False, using: 0 HPUs\n",
      "You are using a CUDA device ('NVIDIA GeForce RTX 3090') that has Tensor Cores. To properly utilize them, you should set `torch.set_float32_matmul_precision('medium' | 'high')` which will trade-off precision for performance. For more details, read https://pytorch.org/docs/stable/generated/torch.set_float32_matmul_precision.html#torch.set_float32_matmul_precision\n",
      "Restoring states from the checkpoint path at /workspace/visiomel-2023/visiomel/wy1l7ly2/checkpoints/epoch=10-step=2684.ckpt\n",
      "LOCAL_RANK: 0 - CUDA_VISIBLE_DEVICES: [0]\n",
      "Loaded model weights from the checkpoint at /workspace/visiomel-2023/visiomel/wy1l7ly2/checkpoints/epoch=10-step=2684.ckpt\n"
     ]
    },
    {
     "data": {
      "application/vnd.jupyter.widget-view+json": {
       "model_id": "46daa2cdfa63429490e7111963819e3e",
       "version_major": 2,
       "version_minor": 0
      },
      "text/plain": [
       "Predicting: 0it [00:00, ?it/s]"
      ]
     },
     "metadata": {},
     "output_type": "display_data"
    },
    {
     "name": "stderr",
     "output_type": "stream",
     "text": [
      "/root/miniconda3/envs/visiomel-2023/lib/python3.10/site-packages/torch/nn/functional.py:4999: UserWarning: Support for mismatched key_padding_mask and attn_mask is deprecated. Use same type for both instead.\n",
      "  warnings.warn(\n",
      "100%|██████████| 5/5 [00:24<00:00,  4.89s/it]\n",
      " 80%|████████  | 4/5 [01:46<00:25, 25.71s/it]/root/miniconda3/envs/visiomel-2023/lib/python3.10/site-packages/pytorch_lightning/cli.py:484: UserWarning: LightningCLI's args parameter is intended to run from within Python like if it were from the command line. To prevent mistakes it is not recommended to provide both args and command line arguments, got: sys.argv[1:]=['--ip=127.0.0.1', '--stdin=9003', '--control=9001', '--hb=9000', '--Session.signature_scheme=\"hmac-sha256\"', '--Session.key=b\"de075e14-9ad3-41b7-a5f2-5387e1eb72b5\"', '--shell=9002', '--transport=\"tcp\"', '--iopub=9004', '--f=/root/.local/share/jupyter/runtime/kernel-v2-2552482MB5ow10vQkDe.json'], args=['--config', '/workspace/visiomel-2023/run/configs/swin-patch-attention-classifier.yaml', '--data.init_args.batch_size=32', '--data.init_args.sampler=weighted_upsampling', '--model.init_args.attention_dropout=0.1101479509435598', '--model.init_args.attention_hidden_dim=64', '--model.init_args.attention_num_heads=8', '--model.init_args.label_smoothing=0.19365209170598277', '--model.lr=0.0008549720251132047', '--trainer.max_epochs=200', '--data.init_args.k', '5', '--data.init_args.fold_index', '0', '--data.init_args.k_test', '5', '--data.init_args.fold_index_test', '4', '--data.init_args.num_workers', '10', '--data.init_args.num_workers_saturated', '10'].\n",
      "  rank_zero_warn(\n",
      "Global seed set to 0\n",
      "/root/miniconda3/envs/visiomel-2023/lib/python3.10/site-packages/pytorch_lightning/loggers/wandb.py:395: UserWarning: There is a wandb run already in progress and newly created instances of `WandbLogger` will reuse this run. If this is not desired, call `wandb.finish()` before instantiating `WandbLogger`.\n",
      "  rank_zero_warn(\n",
      "Using 16bit Automatic Mixed Precision (AMP)\n",
      "GPU available: True (cuda), used: True\n",
      "TPU available: False, using: 0 TPU cores\n",
      "IPU available: False, using: 0 IPUs\n",
      "HPU available: False, using: 0 HPUs\n",
      "You are using a CUDA device ('NVIDIA GeForce RTX 3090') that has Tensor Cores. To properly utilize them, you should set `torch.set_float32_matmul_precision('medium' | 'high')` which will trade-off precision for performance. For more details, read https://pytorch.org/docs/stable/generated/torch.set_float32_matmul_precision.html#torch.set_float32_matmul_precision\n",
      "Restoring states from the checkpoint path at /workspace/visiomel-2023/visiomel/yvtlj7ne/checkpoints/epoch=90-step=22204.ckpt\n",
      "LOCAL_RANK: 0 - CUDA_VISIBLE_DEVICES: [0]\n",
      "Loaded model weights from the checkpoint at /workspace/visiomel-2023/visiomel/yvtlj7ne/checkpoints/epoch=90-step=22204.ckpt\n"
     ]
    },
    {
     "data": {
      "application/vnd.jupyter.widget-view+json": {
       "model_id": "7ba59362ae9e44ac82f38f4a40b01651",
       "version_major": 2,
       "version_minor": 0
      },
      "text/plain": [
       "Predicting: 0it [00:00, ?it/s]"
      ]
     },
     "metadata": {},
     "output_type": "display_data"
    },
    {
     "name": "stderr",
     "output_type": "stream",
     "text": [
      "/root/miniconda3/envs/visiomel-2023/lib/python3.10/site-packages/torch/nn/functional.py:4999: UserWarning: Support for mismatched key_padding_mask and attn_mask is deprecated. Use same type for both instead.\n",
      "  warnings.warn(\n",
      "/root/miniconda3/envs/visiomel-2023/lib/python3.10/site-packages/pytorch_lightning/cli.py:484: UserWarning: LightningCLI's args parameter is intended to run from within Python like if it were from the command line. To prevent mistakes it is not recommended to provide both args and command line arguments, got: sys.argv[1:]=['--ip=127.0.0.1', '--stdin=9003', '--control=9001', '--hb=9000', '--Session.signature_scheme=\"hmac-sha256\"', '--Session.key=b\"de075e14-9ad3-41b7-a5f2-5387e1eb72b5\"', '--shell=9002', '--transport=\"tcp\"', '--iopub=9004', '--f=/root/.local/share/jupyter/runtime/kernel-v2-2552482MB5ow10vQkDe.json'], args=['--config', '/workspace/visiomel-2023/run/configs/swin-patch-attention-classifier.yaml', '--data.init_args.batch_size=32', '--data.init_args.sampler=weighted_upsampling', '--model.init_args.attention_dropout=0.1101479509435598', '--model.init_args.attention_hidden_dim=64', '--model.init_args.attention_num_heads=8', '--model.init_args.label_smoothing=0.19365209170598277', '--model.lr=0.0008549720251132047', '--trainer.max_epochs=200', '--data.init_args.k', '5', '--data.init_args.fold_index', '1', '--data.init_args.k_test', '5', '--data.init_args.fold_index_test', '4', '--data.init_args.num_workers', '10', '--data.init_args.num_workers_saturated', '10'].\n",
      "  rank_zero_warn(\n",
      "Global seed set to 0\n",
      "/root/miniconda3/envs/visiomel-2023/lib/python3.10/site-packages/pytorch_lightning/loggers/wandb.py:395: UserWarning: There is a wandb run already in progress and newly created instances of `WandbLogger` will reuse this run. If this is not desired, call `wandb.finish()` before instantiating `WandbLogger`.\n",
      "  rank_zero_warn(\n",
      "Using 16bit Automatic Mixed Precision (AMP)\n",
      "GPU available: True (cuda), used: True\n",
      "TPU available: False, using: 0 TPU cores\n",
      "IPU available: False, using: 0 IPUs\n",
      "HPU available: False, using: 0 HPUs\n",
      "You are using a CUDA device ('NVIDIA GeForce RTX 3090') that has Tensor Cores. To properly utilize them, you should set `torch.set_float32_matmul_precision('medium' | 'high')` which will trade-off precision for performance. For more details, read https://pytorch.org/docs/stable/generated/torch.set_float32_matmul_precision.html#torch.set_float32_matmul_precision\n",
      "Restoring states from the checkpoint path at /workspace/visiomel-2023/visiomel/35ydq6gj/checkpoints/epoch=112-step=27459.ckpt\n",
      "LOCAL_RANK: 0 - CUDA_VISIBLE_DEVICES: [0]\n",
      "Loaded model weights from the checkpoint at /workspace/visiomel-2023/visiomel/35ydq6gj/checkpoints/epoch=112-step=27459.ckpt\n"
     ]
    },
    {
     "data": {
      "application/vnd.jupyter.widget-view+json": {
       "model_id": "70470ce57762458bb8f256cd9e9cab61",
       "version_major": 2,
       "version_minor": 0
      },
      "text/plain": [
       "Predicting: 0it [00:00, ?it/s]"
      ]
     },
     "metadata": {},
     "output_type": "display_data"
    },
    {
     "name": "stderr",
     "output_type": "stream",
     "text": [
      "/root/miniconda3/envs/visiomel-2023/lib/python3.10/site-packages/torch/nn/functional.py:4999: UserWarning: Support for mismatched key_padding_mask and attn_mask is deprecated. Use same type for both instead.\n",
      "  warnings.warn(\n",
      "/root/miniconda3/envs/visiomel-2023/lib/python3.10/site-packages/pytorch_lightning/cli.py:484: UserWarning: LightningCLI's args parameter is intended to run from within Python like if it were from the command line. To prevent mistakes it is not recommended to provide both args and command line arguments, got: sys.argv[1:]=['--ip=127.0.0.1', '--stdin=9003', '--control=9001', '--hb=9000', '--Session.signature_scheme=\"hmac-sha256\"', '--Session.key=b\"de075e14-9ad3-41b7-a5f2-5387e1eb72b5\"', '--shell=9002', '--transport=\"tcp\"', '--iopub=9004', '--f=/root/.local/share/jupyter/runtime/kernel-v2-2552482MB5ow10vQkDe.json'], args=['--config', '/workspace/visiomel-2023/run/configs/swin-patch-attention-classifier.yaml', '--data.init_args.batch_size=32', '--data.init_args.sampler=weighted_upsampling', '--model.init_args.attention_dropout=0.1101479509435598', '--model.init_args.attention_hidden_dim=64', '--model.init_args.attention_num_heads=8', '--model.init_args.label_smoothing=0.19365209170598277', '--model.lr=0.0008549720251132047', '--trainer.max_epochs=200', '--data.init_args.k', '5', '--data.init_args.fold_index', '2', '--data.init_args.k_test', '5', '--data.init_args.fold_index_test', '4', '--data.init_args.num_workers', '10', '--data.init_args.num_workers_saturated', '10'].\n",
      "  rank_zero_warn(\n",
      "Global seed set to 0\n",
      "/root/miniconda3/envs/visiomel-2023/lib/python3.10/site-packages/pytorch_lightning/loggers/wandb.py:395: UserWarning: There is a wandb run already in progress and newly created instances of `WandbLogger` will reuse this run. If this is not desired, call `wandb.finish()` before instantiating `WandbLogger`.\n",
      "  rank_zero_warn(\n",
      "Using 16bit Automatic Mixed Precision (AMP)\n",
      "GPU available: True (cuda), used: True\n",
      "TPU available: False, using: 0 TPU cores\n",
      "IPU available: False, using: 0 IPUs\n",
      "HPU available: False, using: 0 HPUs\n",
      "You are using a CUDA device ('NVIDIA GeForce RTX 3090') that has Tensor Cores. To properly utilize them, you should set `torch.set_float32_matmul_precision('medium' | 'high')` which will trade-off precision for performance. For more details, read https://pytorch.org/docs/stable/generated/torch.set_float32_matmul_precision.html#torch.set_float32_matmul_precision\n",
      "Restoring states from the checkpoint path at /workspace/visiomel-2023/visiomel/whlkst2o/checkpoints/epoch=65-step=16038.ckpt\n",
      "LOCAL_RANK: 0 - CUDA_VISIBLE_DEVICES: [0]\n",
      "Loaded model weights from the checkpoint at /workspace/visiomel-2023/visiomel/whlkst2o/checkpoints/epoch=65-step=16038.ckpt\n"
     ]
    },
    {
     "data": {
      "application/vnd.jupyter.widget-view+json": {
       "model_id": "63064d4f0d384e11ae19b5670c2e05a1",
       "version_major": 2,
       "version_minor": 0
      },
      "text/plain": [
       "Predicting: 0it [00:00, ?it/s]"
      ]
     },
     "metadata": {},
     "output_type": "display_data"
    },
    {
     "name": "stderr",
     "output_type": "stream",
     "text": [
      "/root/miniconda3/envs/visiomel-2023/lib/python3.10/site-packages/torch/nn/functional.py:4999: UserWarning: Support for mismatched key_padding_mask and attn_mask is deprecated. Use same type for both instead.\n",
      "  warnings.warn(\n",
      "/root/miniconda3/envs/visiomel-2023/lib/python3.10/site-packages/pytorch_lightning/cli.py:484: UserWarning: LightningCLI's args parameter is intended to run from within Python like if it were from the command line. To prevent mistakes it is not recommended to provide both args and command line arguments, got: sys.argv[1:]=['--ip=127.0.0.1', '--stdin=9003', '--control=9001', '--hb=9000', '--Session.signature_scheme=\"hmac-sha256\"', '--Session.key=b\"de075e14-9ad3-41b7-a5f2-5387e1eb72b5\"', '--shell=9002', '--transport=\"tcp\"', '--iopub=9004', '--f=/root/.local/share/jupyter/runtime/kernel-v2-2552482MB5ow10vQkDe.json'], args=['--config', '/workspace/visiomel-2023/run/configs/swin-patch-attention-classifier.yaml', '--data.init_args.batch_size=32', '--data.init_args.sampler=weighted_upsampling', '--model.init_args.attention_dropout=0.1101479509435598', '--model.init_args.attention_hidden_dim=64', '--model.init_args.attention_num_heads=8', '--model.init_args.label_smoothing=0.19365209170598277', '--model.lr=0.0008549720251132047', '--trainer.max_epochs=200', '--data.init_args.k', '5', '--data.init_args.fold_index', '3', '--data.init_args.k_test', '5', '--data.init_args.fold_index_test', '4', '--data.init_args.num_workers', '10', '--data.init_args.num_workers_saturated', '10'].\n",
      "  rank_zero_warn(\n",
      "Global seed set to 0\n",
      "/root/miniconda3/envs/visiomel-2023/lib/python3.10/site-packages/pytorch_lightning/loggers/wandb.py:395: UserWarning: There is a wandb run already in progress and newly created instances of `WandbLogger` will reuse this run. If this is not desired, call `wandb.finish()` before instantiating `WandbLogger`.\n",
      "  rank_zero_warn(\n",
      "Using 16bit Automatic Mixed Precision (AMP)\n",
      "GPU available: True (cuda), used: True\n",
      "TPU available: False, using: 0 TPU cores\n",
      "IPU available: False, using: 0 IPUs\n",
      "HPU available: False, using: 0 HPUs\n",
      "You are using a CUDA device ('NVIDIA GeForce RTX 3090') that has Tensor Cores. To properly utilize them, you should set `torch.set_float32_matmul_precision('medium' | 'high')` which will trade-off precision for performance. For more details, read https://pytorch.org/docs/stable/generated/torch.set_float32_matmul_precision.html#torch.set_float32_matmul_precision\n",
      "Restoring states from the checkpoint path at /workspace/visiomel-2023/visiomel/6jzenwr6/checkpoints/epoch=4-step=1215.ckpt\n",
      "LOCAL_RANK: 0 - CUDA_VISIBLE_DEVICES: [0]\n",
      "Loaded model weights from the checkpoint at /workspace/visiomel-2023/visiomel/6jzenwr6/checkpoints/epoch=4-step=1215.ckpt\n"
     ]
    },
    {
     "data": {
      "application/vnd.jupyter.widget-view+json": {
       "model_id": "bffb2587048f461ba2a53376c334e003",
       "version_major": 2,
       "version_minor": 0
      },
      "text/plain": [
       "Predicting: 0it [00:00, ?it/s]"
      ]
     },
     "metadata": {},
     "output_type": "display_data"
    },
    {
     "name": "stderr",
     "output_type": "stream",
     "text": [
      "/root/miniconda3/envs/visiomel-2023/lib/python3.10/site-packages/torch/nn/functional.py:4999: UserWarning: Support for mismatched key_padding_mask and attn_mask is deprecated. Use same type for both instead.\n",
      "  warnings.warn(\n",
      "/root/miniconda3/envs/visiomel-2023/lib/python3.10/site-packages/pytorch_lightning/cli.py:484: UserWarning: LightningCLI's args parameter is intended to run from within Python like if it were from the command line. To prevent mistakes it is not recommended to provide both args and command line arguments, got: sys.argv[1:]=['--ip=127.0.0.1', '--stdin=9003', '--control=9001', '--hb=9000', '--Session.signature_scheme=\"hmac-sha256\"', '--Session.key=b\"de075e14-9ad3-41b7-a5f2-5387e1eb72b5\"', '--shell=9002', '--transport=\"tcp\"', '--iopub=9004', '--f=/root/.local/share/jupyter/runtime/kernel-v2-2552482MB5ow10vQkDe.json'], args=['--config', '/workspace/visiomel-2023/run/configs/swin-patch-attention-classifier.yaml', '--data.init_args.batch_size=32', '--data.init_args.sampler=weighted_upsampling', '--model.init_args.attention_dropout=0.1101479509435598', '--model.init_args.attention_hidden_dim=64', '--model.init_args.attention_num_heads=8', '--model.init_args.label_smoothing=0.19365209170598277', '--model.lr=0.0008549720251132047', '--trainer.max_epochs=200', '--data.init_args.k', '5', '--data.init_args.fold_index', '4', '--data.init_args.k_test', '5', '--data.init_args.fold_index_test', '4', '--data.init_args.num_workers', '10', '--data.init_args.num_workers_saturated', '10'].\n",
      "  rank_zero_warn(\n",
      "Global seed set to 0\n",
      "/root/miniconda3/envs/visiomel-2023/lib/python3.10/site-packages/pytorch_lightning/loggers/wandb.py:395: UserWarning: There is a wandb run already in progress and newly created instances of `WandbLogger` will reuse this run. If this is not desired, call `wandb.finish()` before instantiating `WandbLogger`.\n",
      "  rank_zero_warn(\n",
      "Using 16bit Automatic Mixed Precision (AMP)\n",
      "GPU available: True (cuda), used: True\n",
      "TPU available: False, using: 0 TPU cores\n",
      "IPU available: False, using: 0 IPUs\n",
      "HPU available: False, using: 0 HPUs\n",
      "You are using a CUDA device ('NVIDIA GeForce RTX 3090') that has Tensor Cores. To properly utilize them, you should set `torch.set_float32_matmul_precision('medium' | 'high')` which will trade-off precision for performance. For more details, read https://pytorch.org/docs/stable/generated/torch.set_float32_matmul_precision.html#torch.set_float32_matmul_precision\n",
      "Restoring states from the checkpoint path at /workspace/visiomel-2023/visiomel/6d4yat82/checkpoints/epoch=22-step=5589.ckpt\n",
      "LOCAL_RANK: 0 - CUDA_VISIBLE_DEVICES: [0]\n",
      "Loaded model weights from the checkpoint at /workspace/visiomel-2023/visiomel/6d4yat82/checkpoints/epoch=22-step=5589.ckpt\n"
     ]
    },
    {
     "data": {
      "application/vnd.jupyter.widget-view+json": {
       "model_id": "051a7ec7638346d1a1afc3d4b3d31f03",
       "version_major": 2,
       "version_minor": 0
      },
      "text/plain": [
       "Predicting: 0it [00:00, ?it/s]"
      ]
     },
     "metadata": {},
     "output_type": "display_data"
    },
    {
     "name": "stderr",
     "output_type": "stream",
     "text": [
      "/root/miniconda3/envs/visiomel-2023/lib/python3.10/site-packages/torch/nn/functional.py:4999: UserWarning: Support for mismatched key_padding_mask and attn_mask is deprecated. Use same type for both instead.\n",
      "  warnings.warn(\n",
      "100%|██████████| 5/5 [00:24<00:00,  4.92s/it]\n",
      "100%|██████████| 5/5 [02:11<00:00, 26.27s/it]\n"
     ]
    }
   ],
   "source": [
    "outer_cv_results = defaultdict(dict)\n",
    "for outer_fold_index in tqdm(range(5)):\n",
    "    data = defaultdict(dict)\n",
    "    for inner_fold_index in tqdm(range(5)):\n",
    "        cli = MyLightningCLI(\n",
    "            trainer_class=TrainerWandb, \n",
    "            save_config_kwargs={\n",
    "                'config_filename': 'config_pl.yaml',\n",
    "                'overwrite': True,\n",
    "            },\n",
    "            args=[\n",
    "                '--config', '/workspace/visiomel-2023/run/configs/swin-patch-attention-classifier.yaml',\n",
    "                *best_pac_params.split(),\n",
    "                '--data.init_args.k', '5',\n",
    "                '--data.init_args.fold_index', f'{inner_fold_index}',\n",
    "                '--data.init_args.k_test', '5',\n",
    "                '--data.init_args.fold_index_test', f'{outer_fold_index}',\n",
    "                '--data.init_args.num_workers', '10',\n",
    "                '--data.init_args.num_workers_saturated', '10',\n",
    "            ],\n",
    "            run=False,\n",
    "        )\n",
    "\n",
    "        # Patch attention model\n",
    "        y_proba = torch.softmax(\n",
    "            torch.concat(\n",
    "                cli.trainer.predict(\n",
    "                    model=cli.model,\n",
    "                    datamodule=cli.datamodule, \n",
    "                    return_predictions=True,\n",
    "                    ckpt_path=fold_to_ckpt_path[outer_fold_index][inner_fold_index],\n",
    "                ), \n",
    "                dim=0\n",
    "            ).float(), \n",
    "            dim=1\n",
    "        ).numpy()\n",
    "        data['pac'][inner_fold_index] = y_proba[:, 1]\n",
    "\n",
    "    # Single SVC model on embeddings on outer train data\n",
    "    clf = SVC(kernel='linear', C=0.01, probability=True, class_weight='balanced', random_state=0)\n",
    "    # train + val & test are same for each inner fold, so just use last cli here\n",
    "    X, y, _ = get_X_y_groups(pd.concat([cli.datamodule.train_dataset.data, cli.datamodule.val_dataset.data]))\n",
    "    X_test, y_test, _ = get_X_y_groups(cli.datamodule.test_dataset.data)\n",
    "    clf.fit(X, y)\n",
    "    y_proba = clf.predict_proba(X_test)\n",
    "    data['svc'][-1] = y_proba[:, 1]\n",
    "\n",
    "    # Ground truth\n",
    "    data['gt'][-1] = y_test\n",
    "\n",
    "    # Ensemble\n",
    "    df = pd.DataFrame(\n",
    "        {\n",
    "            'pac': sum(data['pac'].values()) / len(data['pac']),\n",
    "            'svc': data['svc'][-1],\n",
    "            'gt': data['gt'][-1],\n",
    "        }\n",
    "    )\n",
    "    max_score, argmax_score_w = optimize_weights(df[['pac', 'svc']].values, df['gt'].values)\n",
    "    outer_cv_results[outer_fold_index]['max_score'] = max_score\n",
    "    outer_cv_results[outer_fold_index]['argmax_score_w'] = argmax_score_w\n",
    "    outer_cv_results[outer_fold_index]['df'] = df\n",
    "    outer_cv_results[outer_fold_index]['data'] = data"
   ]
  },
  {
   "cell_type": "code",
   "execution_count": 7,
   "metadata": {},
   "outputs": [],
   "source": [
    "import pickle"
   ]
  },
  {
   "cell_type": "code",
   "execution_count": 8,
   "metadata": {},
   "outputs": [],
   "source": [
    "with open('outer_cv_results.pkl', 'rb') as f:\n",
    "    outer_cv_results = pickle.load(f)"
   ]
  },
  {
   "cell_type": "code",
   "execution_count": 10,
   "metadata": {},
   "outputs": [
    {
     "data": {
      "text/plain": [
       "array([0.5051878 , 0.4889849 , 0.52375525, 0.37196323, 0.45208988,\n",
       "       0.45508513, 0.31547233, 0.49707034, 0.50985587, 0.49211186,\n",
       "       0.34745404, 0.4964295 , 0.5554691 , 0.70952255, 0.56685793,\n",
       "       0.49827576, 0.4678788 , 0.4584093 , 0.33657634, 0.47704402,\n",
       "       0.46962664, 0.46691018, 0.4919746 , 0.70755625, 0.6637507 ,\n",
       "       0.4870787 , 0.41332912, 0.71133065, 0.49432397, 0.45872372,\n",
       "       0.70288706, 0.51299757, 0.55433476, 0.69551903, 0.5151016 ,\n",
       "       0.49523938, 0.4291303 , 0.59927994, 0.47951126, 0.5068355 ,\n",
       "       0.48896208, 0.6245512 , 0.49705505, 0.50314325, 0.47452465,\n",
       "       0.690246  , 0.44943795, 0.49853516, 0.3406017 , 0.7061904 ,\n",
       "       0.6859495 , 0.69029814, 0.4144007 , 0.35919464, 0.5784929 ,\n",
       "       0.24673748, 0.22177178, 0.22901753, 0.26623803, 0.6797902 ,\n",
       "       0.409944  , 0.47597066, 0.6709857 , 0.22644134, 0.361538  ,\n",
       "       0.56132007, 0.25893456, 0.51363796, 0.303706  , 0.24558224,\n",
       "       0.5581765 , 0.62981063, 0.23014024, 0.66285104, 0.48136237,\n",
       "       0.34836102, 0.61369246, 0.339523  , 0.65748346, 0.40253887,\n",
       "       0.17770381, 0.32922995, 0.20850107, 0.35206604, 0.23524012,\n",
       "       0.30167055, 0.6075322 , 0.2218982 , 0.2509128 , 0.42073345,\n",
       "       0.3562297 , 0.3254803 , 0.35399327, 0.31348544, 0.35264054,\n",
       "       0.31584147, 0.33810103, 0.3502217 , 0.30453268, 0.35647812,\n",
       "       0.6504118 , 0.6951958 , 0.36612839, 0.22394937, 0.28584516,\n",
       "       0.3092616 , 0.7073542 , 0.5410451 , 0.31724116, 0.5966388 ,\n",
       "       0.74316794, 0.3139191 , 0.7062664 , 0.37310994, 0.6234485 ,\n",
       "       0.43986762, 0.34936625, 0.2970492 , 0.62861407, 0.61207783,\n",
       "       0.31818053, 0.7794478 , 0.28654343, 0.8095773 , 0.32696947,\n",
       "       0.42106077, 0.631502  , 0.33376107, 0.33052522, 0.5960658 ,\n",
       "       0.34466398, 0.77475387, 0.7186438 , 0.35043094, 0.6099889 ,\n",
       "       0.2691575 , 0.31872365, 0.2780607 , 0.21663235, 0.40458095,\n",
       "       0.32611045, 0.36125627, 0.67980343, 0.3570069 , 0.276886  ,\n",
       "       0.31017175, 0.29489985, 0.2675517 , 0.36113656, 0.73163426,\n",
       "       0.8221177 , 0.32987726, 0.3469353 , 0.48209384, 0.70545536,\n",
       "       0.8168451 , 0.7318738 , 0.55818117, 0.7237978 , 0.25344506,\n",
       "       0.37366155, 0.31843215, 0.3685655 , 0.26702574, 0.36414135,\n",
       "       0.5521171 , 0.29792932, 0.36006704, 0.7604283 , 0.30733204,\n",
       "       0.3110605 , 0.33775625, 0.3429428 , 0.43738788, 0.32354036,\n",
       "       0.28572062, 0.45418468, 0.50746095, 0.7017131 , 0.34912005,\n",
       "       0.39581272, 0.34541914, 0.3346693 , 0.39239505, 0.4513492 ,\n",
       "       0.35217047, 0.32614398, 0.40248016, 0.23667057, 0.37762672,\n",
       "       0.32865736, 0.38546863, 0.38851652, 0.24220563, 0.7643643 ,\n",
       "       0.7301937 , 0.41358078, 0.6840266 , 0.22996725, 0.22970796,\n",
       "       0.32800454, 0.27512974, 0.2789192 , 0.6371719 , 0.34826407,\n",
       "       0.29315147, 0.44810924, 0.27158967, 0.3997018 , 0.4282035 ,\n",
       "       0.46208996, 0.72279614, 0.64055157, 0.3869951 , 0.74312145,\n",
       "       0.3979969 , 0.20838022, 0.3477309 , 0.27759534, 0.15259965,\n",
       "       0.37139305, 0.60437703, 0.45144552, 0.42046198, 0.21174262,\n",
       "       0.22126654, 0.32636535, 0.58483446, 0.38789317, 0.39090446,\n",
       "       0.39338505, 0.17116506, 0.35507315, 0.82318634, 0.33864033,\n",
       "       0.5020752 , 0.17043896, 0.8176473 , 0.3323646 , 0.49600232,\n",
       "       0.39872834, 0.37013644, 0.45032915, 0.70914507, 0.3527991 ,\n",
       "       0.4292476 , 0.62653846, 0.6234279 , 0.5086966 , 0.6744794 ,\n",
       "       0.44997603, 0.3470978 , 0.28343415, 0.6071392 , 0.7593147 ,\n",
       "       0.3279642 , 0.36895975, 0.47597066, 0.51802045, 0.38651738,\n",
       "       0.35979986, 0.7748816 , 0.41347715, 0.57969785, 0.8311431 ,\n",
       "       0.77050793, 0.8365546 , 0.7069497 , 0.6803479 ], dtype=float32)"
      ]
     },
     "execution_count": 10,
     "metadata": {},
     "output_type": "execute_result"
    }
   ],
   "source": [
    "outer_cv_results[3]['data']['pac'][3]"
   ]
  },
  {
   "cell_type": "code",
   "execution_count": 11,
   "metadata": {},
   "outputs": [],
   "source": [
    "with open('outer_cv_results.pkl', 'wb') as f:\n",
    "    pickle.dump(outer_cv_results, f)"
   ]
  },
  {
   "cell_type": "code",
   "execution_count": 12,
   "metadata": {},
   "outputs": [
    {
     "name": "stdout",
     "output_type": "stream",
     "text": [
      "0.43609023094177246 [1.002375]\n",
      "0.4521739184856415 [0.9440625]\n",
      "0.2885153889656067 [0.95]\n",
      "0.4188494384288788 [0.7850625]\n",
      "0.49056604504585266 [0.96]\n"
     ]
    }
   ],
   "source": [
    "for outer_fold_index in range(5):\n",
    "    print(outer_cv_results[outer_fold_index]['max_score'], outer_cv_results[outer_fold_index]['argmax_score_w'])"
   ]
  },
  {
   "attachments": {},
   "cell_type": "markdown",
   "metadata": {},
   "source": [
    "# Final train"
   ]
  },
  {
   "cell_type": "code",
   "execution_count": 18,
   "metadata": {},
   "outputs": [
    {
     "name": "stderr",
     "output_type": "stream",
     "text": [
      "100%|██████████| 5/5 [00:00<00:00, 10.27it/s]\n"
     ]
    }
   ],
   "source": [
    "for outer_fold_index in tqdm(range(5)):\n",
    "    # Ensemble\n",
    "    df = outer_cv_results[outer_fold_index]['df']\n",
    "    max_score, argmax_score_w = optimize_weights(df[['pac', 'svc']].values, df['gt'].values)\n",
    "    outer_cv_results[outer_fold_index]['max_score'] = max_score\n",
    "    outer_cv_results[outer_fold_index]['argmax_score_w'] = argmax_score_w"
   ]
  },
  {
   "cell_type": "code",
   "execution_count": 19,
   "metadata": {},
   "outputs": [
    {
     "name": "stdout",
     "output_type": "stream",
     "text": [
      "0.43609023094177246 [1.002375]\n",
      "0.4521739184856415 [0.9440625]\n",
      "0.2885153889656067 [0.95]\n",
      "0.4188494384288788 [0.7850625]\n",
      "0.49056604504585266 [0.96]\n"
     ]
    }
   ],
   "source": [
    "for outer_fold_index in range(5):\n",
    "    print(outer_cv_results[outer_fold_index]['max_score'], outer_cv_results[outer_fold_index]['argmax_score_w'])"
   ]
  },
  {
   "cell_type": "code",
   "execution_count": 15,
   "metadata": {},
   "outputs": [],
   "source": [
    "from sklearn.metrics import log_loss, f1_score\n",
    "import matplotlib.pyplot as plt"
   ]
  },
  {
   "cell_type": "code",
   "execution_count": 23,
   "metadata": {},
   "outputs": [
    {
     "data": {
      "image/png": "[encoded data removed]",
      "text/plain": [
       "<Figure size 1000x500 with 3 Axes>"
      ]
     },
     "metadata": {},
     "output_type": "display_data"
    },
    {
     "data": {
      "image/png": "[encoded data removed]",
      "text/plain": [
       "<Figure size 1000x500 with 3 Axes>"
      ]
     },
     "metadata": {},
     "output_type": "display_data"
    },
    {
     "data": {
      "image/png": "[encoded data removed]",
      "text/plain": [
       "<Figure size 1000x500 with 3 Axes>"
      ]
     },
     "metadata": {},
     "output_type": "display_data"
    },
    {
     "data": {
      "image/png": "[encoded data removed]",
      "text/plain": [
       "<Figure size 1000x500 with 3 Axes>"
      ]
     },
     "metadata": {},
     "output_type": "display_data"
    },
    {
     "data": {
      "image/png": "[encoded data removed]",
      "text/plain": [
       "<Figure size 1000x500 with 3 Axes>"
      ]
     },
     "metadata": {},
     "output_type": "display_data"
    }
   ],
   "source": [
    "# plot hist of probas for each fold for each model for each class\n",
    "for outer_fold_index in range(5):\n",
    "    df = outer_cv_results[outer_fold_index]['df']\n",
    "    fig, axes = plt.subplots(1, 3, figsize=(10, 5))\n",
    "    for model in ['pac', 'svc']:\n",
    "        for i in [0, 1]:\n",
    "            axes[i].hist(\n",
    "                df[df['gt'] == i][model],\n",
    "                bins=50,\n",
    "                alpha=0.5,\n",
    "                label=f'fold={outer_fold_index}, model={model}, class={i}',\n",
    "            )\n",
    "            axes[i].vlines([0.5], 0, axes[i].get_ylim()[1], color='red')\n",
    "            axes[i].set_xlim(0, 1)\n",
    "            axes[i].legend()\n",
    "        \n",
    "        axes[2].hist(\n",
    "            df[model],\n",
    "            bins=50,\n",
    "            alpha=0.5,\n",
    "            label=f'fold={outer_fold_index}, model={model}',\n",
    "        )\n",
    "        axes[2].vlines([0.5], 0, axes[2].get_ylim()[1], color='red')\n",
    "        axes[2].set_xlim(0, 1)\n",
    "        axes[2].legend()"
   ]
  },
  {
   "cell_type": "code",
   "execution_count": 16,
   "metadata": {},
   "outputs": [],
   "source": [
    "for outer_fold_index in range(5):\n",
    "    df = outer_cv_results[outer_fold_index]['df']\n",
    "    df['pac_neg'] = 1 - df['pac']"
   ]
  },
  {
   "cell_type": "code",
   "execution_count": 28,
   "metadata": {},
   "outputs": [
    {
     "name": "stdout",
     "output_type": "stream",
     "text": [
      "          pac       svc  gt   pac_neg\n",
      "0    0.782891  0.343748   0  0.217109\n",
      "1    0.787114  0.101692   0  0.212886\n",
      "2    0.787523  0.086199   0  0.212477\n",
      "3    0.786950  0.097094   0  0.213050\n",
      "4    0.785884  0.128088   0  0.214116\n",
      "5    0.787850  0.104050   0  0.212150\n",
      "6    0.790369  0.081114   0  0.209631\n",
      "7    0.791741  0.395411   0  0.208259\n",
      "8    0.787931  0.155225   0  0.212069\n",
      "9    0.825414  0.209803   0  0.174586\n",
      "10   0.785720  0.085553   0  0.214280\n",
      "11   0.786049  0.087314   0  0.213951\n",
      "12   0.794305  0.075260   0  0.205695\n",
      "13   0.786377  0.093350   0  0.213623\n",
      "14   0.788094  0.099419   0  0.211906\n",
      "15   0.786295  0.088760   0  0.213705\n",
      "16   0.786131  0.109962   0  0.213869\n",
      "17   0.722282  0.500000   0  0.277718\n",
      "18   0.788339  0.130171   0  0.211661\n",
      "19   0.773388  0.295812   0  0.226612\n",
      "20   0.785391  0.115076   0  0.214609\n",
      "21   0.775392  0.381578   0  0.224608\n",
      "22   0.790894  0.060070   0  0.209106\n",
      "23   0.790288  0.096865   0  0.209712\n",
      "24   0.791982  0.068321   0  0.208018\n",
      "25   0.789802  0.091082   0  0.210198\n",
      "26   0.789883  0.188428   0  0.210117\n",
      "27   0.786295  0.093924   0  0.213705\n",
      "28   0.794106  0.299835   0  0.205894\n",
      "29   0.785144  0.104036   0  0.214856\n",
      "30   0.785309  0.083888   0  0.214691\n",
      "31   0.786787  0.089322   0  0.213213\n",
      "32   0.773388  0.531767   0  0.226612\n",
      "33   0.788420  0.084042   0  0.211580\n",
      "34   0.788990  0.146525   0  0.211010\n",
      "35   0.786787  0.075427   0  0.213213\n",
      "36   0.785884  0.200037   0  0.214116\n",
      "37   0.793026  0.299349   0  0.206974\n",
      "38   0.785473  0.084460   0  0.214527\n",
      "39   0.788746  0.104080   0  0.211254\n",
      "40   0.797162  0.118348   0  0.202838\n",
      "41   0.783077  0.530679   0  0.216923\n",
      "42   0.793106  0.091165   0  0.206894\n",
      "43   0.791982  0.087533   0  0.208018\n",
      "44   0.785802  0.138500   0  0.214198\n",
      "45   0.787359  0.102088   0  0.212641\n",
      "46   0.778397  0.259042   0  0.221603\n",
      "47   0.780997  0.174673   0  0.219003\n",
      "48   0.784814  0.113223   0  0.215186\n",
      "49   0.785802  0.094211   0  0.214198\n",
      "50   0.786131  0.145467   0  0.213869\n",
      "51   0.820865  0.241781   0  0.179135\n",
      "52   0.800146  0.089972   0  0.199854\n",
      "53   0.790126  0.191482   0  0.209874\n",
      "54   0.788990  0.145040   0  0.211010\n",
      "55   0.784814  0.153472   0  0.215186\n",
      "56   0.786787  0.095102   0  0.213213\n",
      "57   0.794465  0.245666   1  0.205535\n",
      "58   0.797241  0.196018   1  0.202759\n",
      "59   0.787196  0.142526   1  0.212804\n",
      "60   0.787768  0.101774   1  0.212232\n",
      "61   0.785802  0.207354   1  0.214198\n",
      "62   0.383425  0.353392   0  0.616575\n",
      "63   0.330120  0.067689   0  0.669880\n",
      "64   0.521273  0.935624   0  0.478727\n",
      "65   0.321673  0.083970   0  0.678327\n",
      "66   0.515681  0.132421   0  0.484319\n",
      "67   0.329338  0.127762   0  0.670662\n",
      "68   0.321673  0.116756   0  0.678327\n",
      "69   0.332907  0.086742   0  0.667093\n",
      "70   0.321353  0.096148   0  0.678647\n",
      "71   0.523207  0.175275   0  0.476793\n",
      "72   0.401233  0.087936   0  0.598767\n",
      "73   0.327883  0.103750   0  0.672117\n",
      "74   0.326164  0.083310   0  0.673836\n",
      "75   0.319095  0.244811   0  0.680905\n",
      "76   0.342187  0.171849   0  0.657813\n",
      "77   0.317083  0.111280   0  0.682917\n",
      "78   0.322019  0.090190   0  0.677981\n",
      "79   0.364071  0.102029   0  0.635929\n",
      "80   0.435316  0.646072   0  0.564684\n",
      "81   0.320236  0.118484   0  0.679764\n",
      "82   0.331661  0.099540   0  0.668339\n",
      "83   0.324235  0.135519   0  0.675765\n",
      "84   0.319599  0.151932   0  0.680401\n",
      "85   0.319121  0.144199   0  0.680879\n",
      "86   0.333313  0.092177   0  0.666687\n",
      "87   0.327104  0.085299   0  0.672896\n",
      "88   0.317215  0.082240   0  0.682785\n",
      "89   0.375978  0.237572   0  0.624022\n",
      "90   0.324289  0.131892   0  0.675711\n",
      "91   0.324316  0.098025   0  0.675684\n",
      "92   0.319281  0.096006   0  0.680719\n",
      "93   0.327426  0.081896   0  0.672574\n",
      "94   0.429250  0.083576   0  0.570750\n",
      "95   0.333503  0.085274   0  0.666497\n",
      "96   0.497223  0.101687   0  0.502777\n",
      "97   0.497131  0.122567   0  0.502869\n",
      "98   0.403831  0.291501   0  0.596169\n",
      "99   0.317453  0.159860   0  0.682547\n",
      "100  0.316422  0.088951   0  0.683578\n",
      "101  0.338405  0.101378   0  0.661595\n",
      "102  0.329985  0.106768   0  0.670015\n",
      "103  0.337449  0.199415   0  0.662551\n",
      "104  0.337995  0.807003   1  0.662005\n",
      "105  0.371464  0.287163   1  0.628536\n",
      "106  0.353400  0.167564   1  0.646600\n",
      "107  0.337149  0.077336   1  0.662851\n",
      "108  0.521319  0.094309   1  0.478681\n",
      "109  0.523283  0.089793   1  0.476717\n",
      "110  0.326379  0.115200   1  0.673621\n",
      "111  0.351534  0.116422   1  0.648466\n",
      "112  0.312842  0.115666   1  0.687158\n",
      "113  0.319811  0.102255   1  0.680189\n",
      "114  0.417657  0.117763   0  0.582343\n",
      "115  0.347357  0.277233   0  0.652643\n",
      "116  0.430387  0.907634   0  0.569613\n",
      "117  0.333042  0.100096   0  0.666958\n",
      "118  0.359350  0.076767   0  0.640650\n",
      "119  0.376723  0.122868   0  0.623277\n",
      "120  0.355719  0.592762   0  0.644281\n",
      "121  0.505981  0.108118   0  0.494019\n",
      "122  0.346970  0.104855   0  0.653030\n",
      "123  0.337859  0.078719   0  0.662141\n",
      "124  0.373076  0.116198   0  0.626924\n",
      "125  0.332283  0.122535   0  0.667717\n",
      "126  0.363619  0.168702   0  0.636381\n",
      "127  0.317850  0.097913   0  0.682150\n",
      "128  0.351607  0.162822   0  0.648393\n",
      "129  0.339581  0.156974   0  0.660419\n",
      "130  0.409132  0.607399   0  0.590868\n",
      "131  0.550577  0.086306   0  0.449423\n",
      "132  0.374701  0.128805   0  0.625299\n",
      "133  0.321194  0.091491   0  0.678806\n",
      "134  0.331039  0.107937   0  0.668961\n",
      "135  0.341363  0.141300   0  0.658637\n",
      "136  0.449196  0.084564   0  0.550804\n",
      "137  0.564204  0.071409   0  0.435796\n",
      "138  0.331715  0.101049   0  0.668285\n",
      "139  0.407009  0.100265   0  0.592991\n",
      "140  0.342819  0.113747   0  0.657181\n",
      "141  0.375535  0.117213   0  0.624465\n",
      "142  0.323540  0.090583   0  0.676460\n",
      "143  0.383122  0.132137   0  0.616878\n",
      "144  0.341939  0.129048   0  0.658061\n",
      "145  0.334916  0.084535   0  0.665084\n",
      "146  0.317400  0.098358   0  0.682600\n",
      "147  0.433622  0.890122   0  0.566378\n",
      "148  0.323380  0.102339   0  0.676620\n",
      "149  0.321327  0.107789   0  0.678673\n",
      "150  0.317479  0.094124   0  0.682521\n",
      "151  0.321353  0.084181   0  0.678647\n",
      "152  0.330660  0.087403   0  0.669340\n",
      "153  0.333666  0.075659   0  0.666334\n",
      "154  0.339335  0.349224   0  0.660665\n",
      "155  0.332202  0.442889   0  0.667798\n",
      "156  0.372591  0.181132   0  0.627409\n",
      "157  0.324342  0.086522   0  0.675658\n",
      "158  0.351033  0.094333   0  0.648967\n",
      "159  0.367923  0.336119   1  0.632077\n",
      "160  0.323220  0.157284   1  0.676780\n",
      "161  0.329176  0.129089   1  0.670824\n",
      "162  0.373547  0.799210   1  0.626453\n",
      "163  0.341459  0.448600   1  0.658541\n",
      "164  0.378158  0.570526   1  0.621842\n",
      "165  0.326191  0.113800   1  0.673809\n",
      "166  0.369049  0.738368   1  0.630951\n",
      "167  0.440770  0.742751   1  0.559230\n",
      "168  0.331580  0.468871   1  0.668420\n",
      "169  0.324102  0.337675   1  0.675898\n",
      "170  0.378631  0.199408   0  0.621369\n",
      "171  0.423038  0.105898   0  0.576962\n",
      "172  0.354643  0.219421   0  0.645357\n",
      "173  0.322233  0.214057   0  0.677767\n",
      "174  0.341637  0.100001   0  0.658363\n",
      "175  0.405684  0.442431   0  0.594316\n",
      "176  0.574275  0.088221   0  0.425725\n",
      "177  0.449921  0.133708   0  0.550079\n",
      "178  0.316316  0.097683   0  0.683684\n",
      "179  0.542469  0.095838   0  0.457531\n",
      "180  0.328072  0.108106   0  0.671928\n",
      "181  0.356923  0.088058   0  0.643077\n",
      "182  0.333313  0.110448   0  0.666687\n",
      "183  0.317585  0.092870   0  0.682415\n",
      "184  0.318008  0.099219   0  0.681992\n",
      "185  0.397880  0.117136   0  0.602120\n",
      "186  0.525536  0.099677   0  0.474464\n",
      "187  0.387850  0.072344   0  0.612150\n",
      "188  0.367033  0.453042   0  0.632967\n",
      "189  0.332040  0.103037   0  0.667960\n",
      "190  0.526541  0.084054   0  0.473459\n",
      "191  0.363184  0.131537   0  0.636816\n",
      "192  0.569134  0.102083   0  0.430866\n",
      "193  0.335351  0.101732   0  0.664649\n",
      "194  0.379321  0.079849   0  0.620679\n",
      "195  0.319493  0.267805   0  0.680507\n",
      "196  0.367589  0.195086   0  0.632411\n",
      "197  0.314656  0.110720   0  0.685344\n",
      "198  0.322766  0.160919   0  0.677234\n",
      "199  0.359146  0.222304   0  0.640854\n",
      "200  0.339335  0.322815   0  0.660665\n",
      "201  0.318803  0.090720   0  0.681197\n",
      "202  0.323647  0.104260   0  0.676353\n",
      "203  0.322366  0.111292   0  0.677634\n",
      "204  0.415699  0.379968   1  0.584301\n",
      "205  0.423935  0.280548   1  0.576065\n",
      "206  0.407333  0.102008   1  0.592667\n",
      "207  0.438966  0.704884   1  0.561034\n",
      "208  0.364516  0.457513   1  0.635484\n",
      "209  0.381133  0.540052   1  0.618867\n",
      "210  0.334128  0.135363   1  0.665872\n",
      "211  0.317982  0.152118   1  0.682018\n",
      "212  0.328045  0.131819   1  0.671955\n",
      "213  0.347592  0.109680   0  0.652408\n",
      "214  0.316581  0.100432   0  0.683419\n",
      "215  0.341157  0.490909   0  0.658843\n",
      "216  0.316105  0.146325   0  0.683895\n",
      "217  0.314629  0.090256   0  0.685371\n",
      "218  0.319705  0.087357   0  0.680295\n",
      "219  0.325253  0.081664   0  0.674747\n",
      "220  0.319281  0.131927   0  0.680719\n",
      "221  0.319785  0.090897   0  0.680215\n",
      "222  0.321993  0.089390   0  0.678007\n",
      "223  0.322366  0.083634   0  0.677634\n",
      "224  0.406803  0.319229   0  0.593197\n",
      "225  0.400691  0.265403   0  0.599309\n",
      "226  0.334508  0.110086   0  0.665492\n",
      "227  0.328610  0.083032   0  0.671390\n",
      "228  0.333815  0.258702   0  0.666185\n",
      "229  0.317903  0.099855   0  0.682097\n",
      "230  0.510680  0.088088   0  0.489320\n",
      "231  0.492066  0.094281   0  0.507934\n",
      "232  0.313840  0.097935   0  0.686160\n",
      "233  0.312606  0.127830   0  0.687394\n",
      "234  0.316950  0.102800   0  0.683050\n",
      "235  0.328691  0.086282   0  0.671309\n",
      "236  0.640706  0.094348   0  0.359294\n",
      "237  0.325869  0.122317   0  0.674131\n",
      "238  0.318803  0.084800   0  0.681197\n",
      "239  0.321886  0.089297   0  0.678114\n",
      "240  0.320502  0.097172   0  0.679498\n",
      "241  0.332202  0.137445   0  0.667798\n",
      "242  0.497925  0.095345   0  0.502075\n",
      "243  0.318803  0.088165   0  0.681197\n",
      "244  0.330633  0.111051   0  0.669367\n",
      "245  0.491547  0.102659   0  0.508453\n",
      "246  0.316528  0.078740   0  0.683472\n",
      "247  0.315420  0.092962   0  0.684580\n",
      "248  0.337531  0.093516   0  0.662469\n",
      "249  0.323060  0.089618   0  0.676940\n",
      "250  0.361837  0.162439   0  0.638163\n",
      "251  0.320183  0.096126   0  0.679817\n",
      "252  0.320609  0.100688   0  0.679392\n",
      "253  0.513211  0.096950   0  0.486789\n",
      "254  0.327883  0.096682   0  0.672117\n",
      "255  0.350060  0.130656   0  0.649940\n",
      "256  0.393210  0.140841   0  0.606790\n",
      "257  0.372377  0.086668   0  0.627623\n",
      "258  0.350644  0.114730   0  0.649356\n",
      "259  0.315525  0.099169   0  0.684475\n",
      "260  0.346956  0.191064   0  0.653044\n",
      "261  0.312842  0.099044   1  0.687158\n",
      "262  0.321567  0.296591   1  0.678433\n",
      "263  0.356755  0.236860   1  0.643245\n",
      "264  0.392162  0.334666   1  0.607838\n",
      "265  0.340156  0.081097   1  0.659844\n",
      "266  0.349214  0.121025   1  0.650786\n",
      "267  0.313315  0.234247   1  0.686685\n",
      "268  0.385664  0.176196   1  0.614336\n"
     ]
    }
   ],
   "source": [
    "# remove rows print limit\n",
    "pd.set_option('display.max_rows', None)\n",
    "print(outer_cv_results[0]['df'])\n",
    "# reset rows print limit\n",
    "pd.reset_option('display.max_rows')"
   ]
  },
  {
   "cell_type": "code",
   "execution_count": 20,
   "metadata": {},
   "outputs": [
    {
     "name": "stdout",
     "output_type": "stream",
     "text": [
      "model pac, fold 0, ll 0.6485946023663692, f1 0.43609022556390975\n",
      "model svc, fold 0, ll 0.40909862772899597, f1 0.24137931034482765\n",
      "model pac_neg, fold 0, ll 0.7940875976431103, f1 0.12612612612612611\n",
      "model mean, fold 0, ll 1.522271166736635, f1 0.3928571428571429\n",
      "\n",
      "model pac, fold 1, ll 0.5942741333010809, f1 0.43333333333333335\n",
      "model svc, fold 1, ll 0.382830275362918, f1 0.19607843137254904\n",
      "model pac_neg, fold 1, ll 0.9289063334980087, f1 0.1452991452991453\n",
      "model mean, fold 1, ll 0.6991741654075277, f1 0.4055944055944056\n",
      "\n",
      "model pac, fold 2, ll 0.653945816823709, f1 0.3125\n",
      "model svc, fold 2, ll 0.4185942367242228, f1 0.15384615384615385\n",
      "model pac_neg, fold 2, ll 0.824606565901812, f1 0.19642857142857142\n",
      "model mean, fold 2, ll 1.5285589351353717, f1 0.31205673758865243\n",
      "\n",
      "model pac, fold 3, ll 0.5904455317895762, f1 0.4132231404958678\n",
      "model svc, fold 3, ll 0.3853786820808771, f1 0.16326530612244897\n",
      "model pac_neg, fold 3, ll 0.9055068655856917, f1 0.15384615384615383\n",
      "model mean, fold 3, ll 0.6813300756752733, f1 0.41791044776119407\n",
      "\n",
      "model pac, fold 4, ll 0.5651109866297652, f1 0.47706422018348627\n",
      "model svc, fold 4, ll 0.3707692686419194, f1 0.20833333333333331\n",
      "model pac_neg, fold 4, ll 0.9209929722782086, f1 0.13168724279835392\n",
      "model mean, fold 4, ll 0.7548024926293454, f1 0.4148148148148148\n",
      "\n"
     ]
    }
   ],
   "source": [
    "for outer_fold_index in range(5):\n",
    "    for model_name in ['pac', 'svc', 'pac_neg']:\n",
    "        ll = log_loss(outer_cv_results[outer_fold_index]['df']['gt'], outer_cv_results[outer_fold_index]['df'][model_name], eps=1e-16)\n",
    "        f1 = f1_score(outer_cv_results[outer_fold_index]['df']['gt'], outer_cv_results[outer_fold_index]['df'][model_name] > 0.5)\n",
    "        print(f'model {model_name}, fold {outer_fold_index}, ll {ll}, f1 {f1}')\n",
    "    \n",
    "    wm_proba = (0.95 * outer_cv_results[outer_fold_index]['df']['pac'] + 0.5 * outer_cv_results[outer_fold_index]['df']['svc'])\n",
    "    ll = log_loss(\n",
    "        outer_cv_results[outer_fold_index]['df']['gt'], \n",
    "        wm_proba, \n",
    "        eps=1e-16\n",
    "    )\n",
    "    f1 = f1_score(\n",
    "        outer_cv_results[outer_fold_index]['df']['gt'], \n",
    "        wm_proba > 0.5\n",
    "    )\n",
    "    print(f'model mean, fold {outer_fold_index}, ll {ll}, f1 {f1}')\n",
    "    print()"
   ]
  },
  {
   "cell_type": "code",
   "execution_count": null,
   "metadata": {},
   "outputs": [],
   "source": []
  }
 ],
 "metadata": {
  "kernelspec": {
   "display_name": "visiomel-2023",
   "language": "python",
   "name": "python3"
  },
  "language_info": {
   "codemirror_mode": {
    "name": "ipython",
    "version": 3
   },
   "file_extension": ".py",
   "mimetype": "text/x-python",
   "name": "python",
   "nbconvert_exporter": "python",
   "pygments_lexer": "ipython3",
   "version": "3.10.10"
  },
  "orig_nbformat": 4
 },
 "nbformat": 4,
 "nbformat_minor": 2
}
