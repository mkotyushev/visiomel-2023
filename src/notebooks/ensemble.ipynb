{
 "cells": [
  {
   "cell_type": "code",
   "execution_count": 1,
   "metadata": {},
   "outputs": [],
   "source": [
    "%load_ext autoreload\n",
    "%autoreload 2"
   ]
  },
  {
   "cell_type": "code",
   "execution_count": 2,
   "metadata": {},
   "outputs": [],
   "source": [
    "import numpy as np\n",
    "import pandas as pd\n",
    "import torch\n",
    "from collections import defaultdict\n",
    "from sklearn.svm import SVC\n",
    "from tqdm import tqdm\n",
    "from scipy.optimize import brute, fmin\n",
    "\n",
    "from src.utils.utils import MyLightningCLI, TrainerWandb, get_X_y_groups, PenalizedBinaryFBetaScore\n",
    "from src.scripts.runs_info import get_runs_info"
   ]
  },
  {
   "cell_type": "code",
   "execution_count": 3,
   "metadata": {},
   "outputs": [],
   "source": [
    "max_epochs = 200\n",
    "best_pac_params = f'--data.init_args.batch_size=32 --data.init_args.sampler=weighted_upsampling --model.init_args.attention_dropout=0.1101479509435598 --model.init_args.attention_hidden_dim=64 --model.init_args.attention_num_heads=8 --model.init_args.label_smoothing=0.19365209170598277 --model.lr=0.0008549720251132047 --trainer.max_epochs={max_epochs}'"
   ]
  },
  {
   "cell_type": "code",
   "execution_count": 4,
   "metadata": {},
   "outputs": [],
   "source": [
    "def optimize_weights(probas: np.ndarray, target: np.ndarray, step=0.01):\n",
    "    \"\"\"\"Maximize the penalized F1 score of weighted average of probas\"\"\"\n",
    "    \n",
    "    def f(weights):\n",
    "        weights = np.append(weights, 1 - weights.sum())\n",
    "        scorer = PenalizedBinaryFBetaScore('soft', beta=1.0)\n",
    "        wa_proba = (torch.tensor(probas) * torch.tensor(weights)[None, :]).sum(1)\n",
    "        scorer.update(wa_proba, torch.tensor(target))\n",
    "        return -scorer.compute().item()\n",
    "    \n",
    "    ranges = (slice(0, 1, step),) * (probas.shape[1] - 1)\n",
    "    argmax_score_w, max_score, *_ = brute(f, ranges=ranges, finish=fmin, full_output=True)\n",
    "    \n",
    "    return -max_score, argmax_score_w"
   ]
  },
  {
   "cell_type": "code",
   "execution_count": null,
   "metadata": {},
   "outputs": [],
   "source": [
    "def oldest_checkpoint(filenames):\n",
    "    # format is epoch={epoch}-step={step}.ckpt\n",
    "    # get path with largest step\n",
    "    return sorted(filenames, key=lambda x: int(x.split('=')[2].split('.')[0]))[-1]\n",
    "\n",
    "runs_info = get_runs_info('./visiomel', './wandb')\n",
    "fold_to_ckpt_path = defaultdict(dict)\n",
    "for run_info in runs_info:\n",
    "    fold_to_ckpt_path[run_info['fold_index_test']][run_info['fold_index']] = oldest_checkpoint(\n",
    "        run_info['checkpoint_paths']\n",
    "    )"
   ]
  },
  {
   "cell_type": "code",
   "execution_count": null,
   "metadata": {},
   "outputs": [],
   "source": [
    "outer_cv_results = defaultdict(dict)\n",
    "for outer_fold_index in tqdm(range(5)):\n",
    "    data = defaultdict(dict)\n",
    "    for inner_fold_index in tqdm(range(5)):\n",
    "        cli = MyLightningCLI(\n",
    "            trainer_class=TrainerWandb, \n",
    "            save_config_kwargs={\n",
    "                'config_filename': 'config_pl.yaml',\n",
    "                'overwrite': True,\n",
    "            },\n",
    "            args=[\n",
    "                '--config', '/workspace/visiomel-2023/run/configs/swin-patch-attention-classifier.yaml',\n",
    "                *best_pac_params.split(),\n",
    "                '--data.init_args.k', '5',\n",
    "                '--data.init_args.fold_index', f'{inner_fold_index}',\n",
    "                '--data.init_args.k_test', '5',\n",
    "                '--data.init_args.fold_index_test', f'{outer_fold_index}',\n",
    "                '--data.init_args.num_workers', '10',\n",
    "                '--data.init_args.num_workers_saturated', '10',\n",
    "                '--ckpt_path', fold_to_ckpt_path[outer_fold_index][inner_fold_index],\n",
    "            ],\n",
    "            run=False,\n",
    "        )\n",
    "\n",
    "        # Patch attention model\n",
    "        y_proba = torch.softmax(\n",
    "            torch.concat(\n",
    "                cli.trainer.predict(\n",
    "                    datamodule=cli.datamodule, \n",
    "                    return_predictions=True\n",
    "                ), \n",
    "                dim=0\n",
    "            ).float(), \n",
    "            dim=1\n",
    "        ).numpy()\n",
    "        data['pac'][inner_fold_index] = y_proba[:, 1]\n",
    "\n",
    "    # Single SVC model on embeddings on outer train data\n",
    "    clf = SVC(kernel='linear', C=0.01, probability=True, class_weight='balanced', random_state=0)\n",
    "    # train + val & test are same for each inner fold, so just use last cli here\n",
    "    X, y, _ = get_X_y_groups(pd.concat([cli.datamodule.train_dataset.data, cli.datamodule.val_dataset.data]))\n",
    "    X_test, y_test, _ = get_X_y_groups(cli.datamodule.test_dataset.data)\n",
    "    clf.fit(X, y)\n",
    "    y_proba = clf.predict_proba(X_test)\n",
    "    data['svc'][-1] = y_proba[:, 1]\n",
    "\n",
    "    # Ground truth\n",
    "    data['gt'][-1] = y_test\n",
    "\n",
    "    # Ensemble\n",
    "    df = pd.DataFrame(\n",
    "        {\n",
    "            'pac': sum(data['pac'].values()) / len(data['pac']),\n",
    "            'svc': data['svc'][-1],\n",
    "            'gt': data['gt'][-1],\n",
    "        }\n",
    "    )\n",
    "    max_score, argmax_score_w = optimize_weights(df[['pac', 'svc']].values, df['gt'].values)\n",
    "    outer_cv_results[outer_fold_index]['max_score'] = max_score\n",
    "    outer_cv_results[outer_fold_index]['argmax_score_w'] = argmax_score_w\n",
    "    outer_cv_results[outer_fold_index]['df'] = df\n",
    "    outer_cv_results[outer_fold_index]['data'] = data"
   ]
  },
  {
   "cell_type": "code",
   "execution_count": null,
   "metadata": {},
   "outputs": [
    {
     "name": "stdout",
     "output_type": "stream",
     "text": [
      "0.42307692766189575 0.8888888888888888\n"
     ]
    }
   ],
   "source": [
    "for outer_fold_index in range(1):\n",
    "    print(outer_cv_results[outer_fold_index]['max_score'], outer_cv_results[outer_fold_index]['argmax_score_w'])"
   ]
  },
  {
   "cell_type": "code",
   "execution_count": null,
   "metadata": {},
   "outputs": [],
   "source": []
  }
 ],
 "metadata": {
  "kernelspec": {
   "display_name": "visiomel-2023",
   "language": "python",
   "name": "python3"
  },
  "language_info": {
   "codemirror_mode": {
    "name": "ipython",
    "version": 3
   },
   "file_extension": ".py",
   "mimetype": "text/x-python",
   "name": "python",
   "nbconvert_exporter": "python",
   "pygments_lexer": "ipython3",
   "version": "3.10.10"
  },
  "orig_nbformat": 4
 },
 "nbformat": 4,
 "nbformat_minor": 2
}
