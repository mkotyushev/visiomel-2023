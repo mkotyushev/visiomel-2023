{
 "cells": [
  {
   "cell_type": "code",
   "execution_count": 1,
   "metadata": {},
   "outputs": [],
   "source": [
    "%load_ext autoreload\n",
    "%autoreload 2"
   ]
  },
  {
   "cell_type": "code",
   "execution_count": 2,
   "metadata": {},
   "outputs": [],
   "source": [
    "import numpy as np\n",
    "import pandas as pd\n",
    "import pickle\n",
    "import timm\n",
    "import torch\n",
    "from sklearn.model_selection import StratifiedGroupKFold, StratifiedKFold, GridSearchCV, cross_validate\n",
    "from sklearn.svm import SVC\n",
    "from sklearn.metrics import log_loss, roc_auc_score, f1_score, confusion_matrix\n",
    "from sklearn.preprocessing import StandardScaler, Normalizer\n",
    "from sklearn.pipeline import Pipeline\n",
    "\n",
    "from src.data.visiomel_datamodule import VisiomelDatamodule\n",
    "from src.data.visiomel_datamodule_emb import VisiomelDatamoduleEmb\n",
    "from src.utils.utils import extract_features_patches, load_embeddings, check_unique_pathes_same, get_X_y_groups\n",
    "from src.utils.validation_upsampled import cross_validate_upsampled"
   ]
  },
  {
   "attachments": {},
   "cell_type": "markdown",
   "metadata": {},
   "source": [
    "# Pretrained + SVC"
   ]
  },
  {
   "cell_type": "code",
   "execution_count": 3,
   "metadata": {},
   "outputs": [
    {
     "name": "stderr",
     "output_type": "stream",
     "text": [
      "/root/miniconda3/envs/visiomel-2023/lib/python3.10/site-packages/torch/functional.py:504: UserWarning: torch.meshgrid: in an upcoming release, it will be required to pass the indexing argument. (Triggered internally at ../aten/src/ATen/native/TensorShape.cpp:3483.)\n",
      "  return _VF.meshgrid(tensors, **kwargs)  # type: ignore[attr-defined]\n"
     ]
    }
   ],
   "source": [
    "model = timm.create_model(\n",
    "    'swinv2_large_window12to24_192to384_22kft1k', \n",
    "    pretrained=True, \n",
    "    num_classes=0\n",
    ").cuda().eval()"
   ]
  },
  {
   "cell_type": "code",
   "execution_count": 34,
   "metadata": {},
   "outputs": [],
   "source": [
    "datamodule = VisiomelDatamodule(\n",
    "    task='raw',\n",
    "    data_dir_train = '/workspace/data/images_page_4/',\t\n",
    "    k = None,\n",
    "    fold_index = 0,\n",
    "    data_dir_test = None,\n",
    "    img_size = 384 * 4,\n",
    "    shrink_preview_scale = 8,\n",
    "    batch_size = 1,\n",
    "    split_seed = 0,\n",
    "    num_workers = 4,\n",
    "    pin_memory = False,\n",
    "    prefetch_factor = None,\n",
    "    persistent_workers = False,\n",
    "    sampler = None,\n",
    "    data_shrinked=False,\n",
    "    num_workers_saturated=4,\n",
    "    enable_caching=False,\n",
    "    train_resize_type='resize',\n",
    "    train_transform_n_repeats=1,\n",
    ")\n",
    "datamodule.setup()\n",
    "train_dataloader = datamodule.train_dataloader()"
   ]
  },
  {
   "cell_type": "code",
   "execution_count": 5,
   "metadata": {},
   "outputs": [
    {
     "name": "stderr",
     "output_type": "stream",
     "text": [
      "100%|██████████| 1342/1342 [28:28<00:00,  1.27s/it]\n"
     ]
    }
   ],
   "source": [
    "X, y = extract_features_patches(model, train_dataloader)"
   ]
  },
  {
   "cell_type": "code",
   "execution_count": 6,
   "metadata": {},
   "outputs": [],
   "source": [
    "X, y = X.numpy(), y.numpy()"
   ]
  },
  {
   "cell_type": "code",
   "execution_count": 35,
   "metadata": {},
   "outputs": [],
   "source": [
    "pathes = np.array([sample[0] for sample in train_dataloader.dataset.samples])\n",
    "pathes = pathes[np.array(list(train_dataloader.sampler))]"
   ]
  },
  {
   "cell_type": "code",
   "execution_count": 36,
   "metadata": {},
   "outputs": [
    {
     "data": {
      "text/plain": [
       "((1342, 110400), (1342,), (1342,))"
      ]
     },
     "execution_count": 36,
     "metadata": {},
     "output_type": "execute_result"
    }
   ],
   "source": [
    "X.shape, y.shape, pathes.shape"
   ]
  },
  {
   "cell_type": "code",
   "execution_count": 47,
   "metadata": {},
   "outputs": [],
   "source": [
    "df = pd.DataFrame(\n",
    "    {\n",
    "        'path': pathes, \n",
    "        'label': y,\n",
    "        'features': list(X.reshape(y.shape[0], 25, -1)),\n",
    "    }\n",
    ")\n",
    "df['label'] = df['label'].apply(torch.tensor)\n",
    "df['features'] = df['features'].apply(torch.tensor)"
   ]
  },
  {
   "cell_type": "code",
   "execution_count": 48,
   "metadata": {},
   "outputs": [
    {
     "data": {
      "text/html": [
       "<div>\n",
       "<style scoped>\n",
       "    .dataframe tbody tr th:only-of-type {\n",
       "        vertical-align: middle;\n",
       "    }\n",
       "\n",
       "    .dataframe tbody tr th {\n",
       "        vertical-align: top;\n",
       "    }\n",
       "\n",
       "    .dataframe thead th {\n",
       "        text-align: right;\n",
       "    }\n",
       "</style>\n",
       "<table border=\"1\" class=\"dataframe\">\n",
       "  <thead>\n",
       "    <tr style=\"text-align: right;\">\n",
       "      <th></th>\n",
       "      <th>path</th>\n",
       "      <th>label</th>\n",
       "      <th>features</th>\n",
       "    </tr>\n",
       "  </thead>\n",
       "  <tbody>\n",
       "    <tr>\n",
       "      <th>0</th>\n",
       "      <td>/workspace/data/images_page_4/0/8l601uzw.png</td>\n",
       "      <td>tensor(0)</td>\n",
       "      <td>[[tensor(0.0155), tensor(0.0167), tensor(-0.08...</td>\n",
       "    </tr>\n",
       "    <tr>\n",
       "      <th>1</th>\n",
       "      <td>/workspace/data/images_page_4/1/qdgmoqgg.png</td>\n",
       "      <td>tensor(0)</td>\n",
       "      <td>[[tensor(0.0182), tensor(0.0942), tensor(-0.07...</td>\n",
       "    </tr>\n",
       "    <tr>\n",
       "      <th>2</th>\n",
       "      <td>/workspace/data/images_page_4/0/uf0adhgl.png</td>\n",
       "      <td>tensor(0)</td>\n",
       "      <td>[[tensor(0.0146), tensor(0.0736), tensor(-0.08...</td>\n",
       "    </tr>\n",
       "    <tr>\n",
       "      <th>3</th>\n",
       "      <td>/workspace/data/images_page_4/0/6t5gt51a.png</td>\n",
       "      <td>tensor(0)</td>\n",
       "      <td>[[tensor(0.0040), tensor(0.0237), tensor(-0.09...</td>\n",
       "    </tr>\n",
       "    <tr>\n",
       "      <th>4</th>\n",
       "      <td>/workspace/data/images_page_4/0/ltr6slec.png</td>\n",
       "      <td>tensor(0)</td>\n",
       "      <td>[[tensor(0.0189), tensor(0.0700), tensor(-0.07...</td>\n",
       "    </tr>\n",
       "  </tbody>\n",
       "</table>\n",
       "</div>"
      ],
      "text/plain": [
       "                                           path      label  \\\n",
       "0  /workspace/data/images_page_4/0/8l601uzw.png  tensor(0)   \n",
       "1  /workspace/data/images_page_4/1/qdgmoqgg.png  tensor(0)   \n",
       "2  /workspace/data/images_page_4/0/uf0adhgl.png  tensor(0)   \n",
       "3  /workspace/data/images_page_4/0/6t5gt51a.png  tensor(0)   \n",
       "4  /workspace/data/images_page_4/0/ltr6slec.png  tensor(0)   \n",
       "\n",
       "                                            features  \n",
       "0  [[tensor(0.0155), tensor(0.0167), tensor(-0.08...  \n",
       "1  [[tensor(0.0182), tensor(0.0942), tensor(-0.07...  \n",
       "2  [[tensor(0.0146), tensor(0.0736), tensor(-0.08...  \n",
       "3  [[tensor(0.0040), tensor(0.0237), tensor(-0.09...  \n",
       "4  [[tensor(0.0189), tensor(0.0700), tensor(-0.07...  "
      ]
     },
     "execution_count": 48,
     "metadata": {},
     "output_type": "execute_result"
    }
   ],
   "source": [
    "df.head()"
   ]
  },
  {
   "cell_type": "code",
   "execution_count": 49,
   "metadata": {},
   "outputs": [],
   "source": [
    "df.to_pickle('/workspace/visiomel-2023/weights/pretrained/embeddings/all.pkl')"
   ]
  },
  {
   "cell_type": "code",
   "execution_count": 46,
   "metadata": {},
   "outputs": [
    {
     "data": {
      "text/plain": [
       "(1342, 25, 4416)"
      ]
     },
     "execution_count": 46,
     "metadata": {},
     "output_type": "execute_result"
    }
   ],
   "source": [
    "X.reshape(y.shape[0], 25, -1).shape"
   ]
  },
  {
   "cell_type": "code",
   "execution_count": 18,
   "metadata": {},
   "outputs": [],
   "source": [
    "X = X.reshape(y.shape[0], -1)"
   ]
  },
  {
   "cell_type": "code",
   "execution_count": 20,
   "metadata": {},
   "outputs": [
    {
     "data": {
      "text/plain": [
       "(1342, 110400)"
      ]
     },
     "execution_count": 20,
     "metadata": {},
     "output_type": "execute_result"
    }
   ],
   "source": [
    "X.shape"
   ]
  },
  {
   "cell_type": "code",
   "execution_count": null,
   "metadata": {},
   "outputs": [],
   "source": [
    "df = pd.DataFrame(X)"
   ]
  },
  {
   "cell_type": "code",
   "execution_count": 19,
   "metadata": {},
   "outputs": [
    {
     "name": "stdout",
     "output_type": "stream",
     "text": [
      "fold: 0, logloss: 0.42887709268732954, roc_auc: 0.6718460588598477, f1: 0.28169014084507044\n",
      "fold: 1, logloss: 0.39648552544221144, roc_auc: 0.7126980860259313, f1: 0.3\n"
     ]
    }
   ],
   "source": [
    "kfold = StratifiedKFold(n_splits=5, shuffle=True, random_state=0)\n",
    "for fold_index, (train_index, val_index) in enumerate(kfold.split(X, y)):\n",
    "    X_train, X_val = X[train_index], X[val_index]\n",
    "    y_train, y_val = y[train_index], y[val_index]\n",
    "    clf = SVC(kernel='linear', C=1, probability=True)\n",
    "    clf.fit(X_train, y_train)\n",
    "    y_val_pred = clf.predict_proba(X_val)\n",
    "    print(\n",
    "        f'fold: {fold_index}, '\n",
    "        f'logloss: {log_loss(y_val, y_val_pred, eps=1e-16)}, '\n",
    "        f'roc_auc: {roc_auc_score(y_val, y_val_pred[:, 1])}, '\n",
    "        f'f1: {f1_score(y_val, clf.predict(X_val))}'\n",
    "    )"
   ]
  },
  {
   "cell_type": "code",
   "execution_count": null,
   "metadata": {},
   "outputs": [],
   "source": [
    "clf = SVC(probability=True)\n",
    "param_grid = {\n",
    "    'kernel': ['linear', 'rbf'],\n",
    "    'C': [0.1, 1, 10],\n",
    "    'class_weight': [None, 'balanced'],\n",
    "    'gamma': ['scale', 'auto'],\n",
    "}\n",
    "kfold = StratifiedKFold(n_splits=5, shuffle=True, random_state=0)\n",
    "grid = GridSearchCV(clf, param_grid, scoring='neg_log_loss', n_jobs=10, cv=kfold.split(X, y), verbose=10)"
   ]
  },
  {
   "attachments": {},
   "cell_type": "markdown",
   "metadata": {},
   "source": [
    "# SSUP + SVC + fold 0 train and val"
   ]
  },
  {
   "cell_type": "code",
   "execution_count": 14,
   "metadata": {},
   "outputs": [],
   "source": [
    "train_path = '/workspace/visiomel-2023/weights/val_ssup_patches_aug_fold_0/embeddings/train.pkl'\n",
    "val_path = '/workspace/visiomel-2023/weights/val_ssup_patches_aug_fold_0/embeddings/val_aug.pkl'"
   ]
  },
  {
   "attachments": {},
   "cell_type": "markdown",
   "metadata": {},
   "source": [
    "### Train + val"
   ]
  },
  {
   "cell_type": "code",
   "execution_count": 15,
   "metadata": {},
   "outputs": [],
   "source": [
    "with open(train_path, 'rb') as f:\n",
    "    df_train = pickle.load(f)\n",
    "with open(val_path, 'rb') as f:\n",
    "    df_val = pickle.load(f)"
   ]
  },
  {
   "cell_type": "code",
   "execution_count": 20,
   "metadata": {},
   "outputs": [
    {
     "data": {
      "text/plain": [
       "True"
      ]
     },
     "execution_count": 20,
     "metadata": {},
     "output_type": "execute_result"
    }
   ],
   "source": [
    "np.allclose(\n",
    "    df_train.path.str.split('/').apply(lambda x: x[-2]).astype(int), \n",
    "    df_train.label.apply(lambda x: x.item()).astype(int))"
   ]
  },
  {
   "cell_type": "code",
   "execution_count": null,
   "metadata": {},
   "outputs": [
    {
     "data": {
      "text/html": [
       "<div>\n",
       "<style scoped>\n",
       "    .dataframe tbody tr th:only-of-type {\n",
       "        vertical-align: middle;\n",
       "    }\n",
       "\n",
       "    .dataframe tbody tr th {\n",
       "        vertical-align: top;\n",
       "    }\n",
       "\n",
       "    .dataframe thead th {\n",
       "        text-align: right;\n",
       "    }\n",
       "</style>\n",
       "<table border=\"1\" class=\"dataframe\">\n",
       "  <thead>\n",
       "    <tr style=\"text-align: right;\">\n",
       "      <th></th>\n",
       "      <th>path</th>\n",
       "      <th>label</th>\n",
       "      <th>features</th>\n",
       "    </tr>\n",
       "  </thead>\n",
       "  <tbody>\n",
       "    <tr>\n",
       "      <th>0</th>\n",
       "      <td>/workspace/data/images_page_4_shrink/1/hzkjmsp...</td>\n",
       "      <td>tensor(1)</td>\n",
       "      <td>[[[tensor(-0.1717), tensor(0.1906), tensor(-0....</td>\n",
       "    </tr>\n",
       "    <tr>\n",
       "      <th>1</th>\n",
       "      <td>/workspace/data/images_page_4_shrink/1/hzkjmsp...</td>\n",
       "      <td>tensor(1)</td>\n",
       "      <td>[[[tensor(-0.9721), tensor(-0.4099), tensor(-1...</td>\n",
       "    </tr>\n",
       "    <tr>\n",
       "      <th>2</th>\n",
       "      <td>/workspace/data/images_page_4_shrink/1/hzkjmsp...</td>\n",
       "      <td>tensor(1)</td>\n",
       "      <td>[[[tensor(-0.9645), tensor(-0.4061), tensor(-1...</td>\n",
       "    </tr>\n",
       "    <tr>\n",
       "      <th>3</th>\n",
       "      <td>/workspace/data/images_page_4_shrink/1/hzkjmsp...</td>\n",
       "      <td>tensor(1)</td>\n",
       "      <td>[[[tensor(-0.9717), tensor(-0.4100), tensor(-1...</td>\n",
       "    </tr>\n",
       "    <tr>\n",
       "      <th>4</th>\n",
       "      <td>/workspace/data/images_page_4_shrink/1/hzkjmsp...</td>\n",
       "      <td>tensor(1)</td>\n",
       "      <td>[[[tensor(-0.9721), tensor(-0.4099), tensor(-1...</td>\n",
       "    </tr>\n",
       "  </tbody>\n",
       "</table>\n",
       "</div>"
      ],
      "text/plain": [
       "                                                path  ...                                           features\n",
       "0  /workspace/data/images_page_4_shrink/1/hzkjmsp...  ...  [[[tensor(-0.1717), tensor(0.1906), tensor(-0....\n",
       "1  /workspace/data/images_page_4_shrink/1/hzkjmsp...  ...  [[[tensor(-0.9721), tensor(-0.4099), tensor(-1...\n",
       "2  /workspace/data/images_page_4_shrink/1/hzkjmsp...  ...  [[[tensor(-0.9645), tensor(-0.4061), tensor(-1...\n",
       "3  /workspace/data/images_page_4_shrink/1/hzkjmsp...  ...  [[[tensor(-0.9717), tensor(-0.4100), tensor(-1...\n",
       "4  /workspace/data/images_page_4_shrink/1/hzkjmsp...  ...  [[[tensor(-0.9721), tensor(-0.4099), tensor(-1...\n",
       "\n",
       "[5 rows x 3 columns]"
      ]
     },
     "execution_count": 7,
     "metadata": {},
     "output_type": "execute_result"
    }
   ],
   "source": [
    "df_train.head()"
   ]
  },
  {
   "cell_type": "code",
   "execution_count": null,
   "metadata": {},
   "outputs": [
    {
     "data": {
      "text/html": [
       "<div>\n",
       "<style scoped>\n",
       "    .dataframe tbody tr th:only-of-type {\n",
       "        vertical-align: middle;\n",
       "    }\n",
       "\n",
       "    .dataframe tbody tr th {\n",
       "        vertical-align: top;\n",
       "    }\n",
       "\n",
       "    .dataframe thead th {\n",
       "        text-align: right;\n",
       "    }\n",
       "</style>\n",
       "<table border=\"1\" class=\"dataframe\">\n",
       "  <thead>\n",
       "    <tr style=\"text-align: right;\">\n",
       "      <th></th>\n",
       "      <th>path</th>\n",
       "      <th>label</th>\n",
       "      <th>features</th>\n",
       "    </tr>\n",
       "  </thead>\n",
       "  <tbody>\n",
       "    <tr>\n",
       "      <th>0</th>\n",
       "      <td>/workspace/data/images_page_4_shrink/0/09lh5ig...</td>\n",
       "      <td>tensor(0)</td>\n",
       "      <td>[[[tensor(-0.0191), tensor(0.1667), tensor(-1....</td>\n",
       "    </tr>\n",
       "    <tr>\n",
       "      <th>1</th>\n",
       "      <td>/workspace/data/images_page_4_shrink/0/09lh5ig...</td>\n",
       "      <td>tensor(0)</td>\n",
       "      <td>[[[tensor(0.0051), tensor(0.1823), tensor(-1.3...</td>\n",
       "    </tr>\n",
       "    <tr>\n",
       "      <th>2</th>\n",
       "      <td>/workspace/data/images_page_4_shrink/0/09lh5ig...</td>\n",
       "      <td>tensor(0)</td>\n",
       "      <td>[[[tensor(0.0060), tensor(0.1814), tensor(-1.3...</td>\n",
       "    </tr>\n",
       "    <tr>\n",
       "      <th>3</th>\n",
       "      <td>/workspace/data/images_page_4_shrink/0/09lh5ig...</td>\n",
       "      <td>tensor(0)</td>\n",
       "      <td>[[[tensor(-0.0298), tensor(0.1509), tensor(-1....</td>\n",
       "    </tr>\n",
       "    <tr>\n",
       "      <th>4</th>\n",
       "      <td>/workspace/data/images_page_4_shrink/0/09lh5ig...</td>\n",
       "      <td>tensor(0)</td>\n",
       "      <td>[[[tensor(0.0051), tensor(0.1823), tensor(-1.3...</td>\n",
       "    </tr>\n",
       "  </tbody>\n",
       "</table>\n",
       "</div>"
      ],
      "text/plain": [
       "                                                path  ...                                           features\n",
       "0  /workspace/data/images_page_4_shrink/0/09lh5ig...  ...  [[[tensor(-0.0191), tensor(0.1667), tensor(-1....\n",
       "1  /workspace/data/images_page_4_shrink/0/09lh5ig...  ...  [[[tensor(0.0051), tensor(0.1823), tensor(-1.3...\n",
       "2  /workspace/data/images_page_4_shrink/0/09lh5ig...  ...  [[[tensor(0.0060), tensor(0.1814), tensor(-1.3...\n",
       "3  /workspace/data/images_page_4_shrink/0/09lh5ig...  ...  [[[tensor(-0.0298), tensor(0.1509), tensor(-1....\n",
       "4  /workspace/data/images_page_4_shrink/0/09lh5ig...  ...  [[[tensor(0.0051), tensor(0.1823), tensor(-1.3...\n",
       "\n",
       "[5 rows x 3 columns]"
      ]
     },
     "execution_count": 8,
     "metadata": {},
     "output_type": "execute_result"
    }
   ],
   "source": [
    "df_val.head()"
   ]
  },
  {
   "cell_type": "code",
   "execution_count": null,
   "metadata": {},
   "outputs": [
    {
     "data": {
      "text/plain": [
       "torch.Size([1, 4, 1024])"
      ]
     },
     "execution_count": 10,
     "metadata": {},
     "output_type": "execute_result"
    }
   ],
   "source": [
    "df_val['features'].iloc[0].shape"
   ]
  },
  {
   "cell_type": "code",
   "execution_count": null,
   "metadata": {},
   "outputs": [
    {
     "data": {
      "text/plain": [
       "(1024,)"
      ]
     },
     "execution_count": 13,
     "metadata": {},
     "output_type": "execute_result"
    }
   ],
   "source": [
    "np.mean(df_val['features'].iloc[0].squeeze().numpy(), axis=0)"
   ]
  },
  {
   "cell_type": "code",
   "execution_count": null,
   "metadata": {},
   "outputs": [],
   "source": [
    "X, y, groups = get_X_y_groups(pd.concat([df_train, df_val], axis=0))"
   ]
  },
  {
   "cell_type": "code",
   "execution_count": null,
   "metadata": {},
   "outputs": [
    {
     "name": "stdout",
     "output_type": "stream",
     "text": [
      "0.3619276913635527\n",
      "0.36976809121450593\n",
      "0.3678880951683179\n",
      "0.42685247488728684\n",
      "0.3686381290056779\n"
     ]
    }
   ],
   "source": [
    "kfold = StratifiedGroupKFold(n_splits=5, shuffle=True, random_state=0)\n",
    "for train_index, val_index in kfold.split(X, y, groups):\n",
    "    X_train, X_val = X[train_index], X[val_index]\n",
    "    y_train, y_val = y[train_index], y[val_index]\n",
    "    clf = SVC(kernel='linear', C=1, probability=True)\n",
    "    clf.fit(X_train, y_train)\n",
    "    print(log_loss(y_val, clf.predict_proba(X_val), eps=1e-16))"
   ]
  },
  {
   "attachments": {},
   "cell_type": "markdown",
   "metadata": {},
   "source": [
    "### Train only + val as test"
   ]
  },
  {
   "cell_type": "code",
   "execution_count": null,
   "metadata": {},
   "outputs": [
    {
     "name": "stdout",
     "output_type": "stream",
     "text": [
      "0.423128091028227\n"
     ]
    }
   ],
   "source": [
    "X_train, y_train, _ = get_X_y_groups(df_train)\n",
    "X_val, y_val, _ = get_X_y_groups(df_val)\n",
    "\n",
    "clf = SVC(kernel='linear', C=1, probability=True)\n",
    "clf.fit(X_train, y_train)\n",
    "print(log_loss(y_val, clf.predict_proba(X_val), eps=1e-16))"
   ]
  },
  {
   "attachments": {},
   "cell_type": "markdown",
   "metadata": {},
   "source": [
    "### Pretrained"
   ]
  },
  {
   "cell_type": "code",
   "execution_count": 3,
   "metadata": {},
   "outputs": [],
   "source": [
    "all_path = '/workspace/visiomel-2023/weights/pretrained/embeddings/all.pkl'\n",
    "with open(all_path, 'rb') as f:\n",
    "    df_all = pickle.load(f)"
   ]
  },
  {
   "cell_type": "code",
   "execution_count": 21,
   "metadata": {},
   "outputs": [
    {
     "data": {
      "text/plain": [
       "False"
      ]
     },
     "execution_count": 21,
     "metadata": {},
     "output_type": "execute_result"
    }
   ],
   "source": [
    "np.allclose(\n",
    "    df_all.path.str.split('/').apply(lambda x: x[-2]).astype(int), \n",
    "    df_all.label.apply(lambda x: x.item()).astype(int))"
   ]
  },
  {
   "cell_type": "code",
   "execution_count": 25,
   "metadata": {},
   "outputs": [
    {
     "data": {
      "text/plain": [
       "0    1129\n",
       "1     213\n",
       "Name: label, dtype: int64"
      ]
     },
     "execution_count": 25,
     "metadata": {},
     "output_type": "execute_result"
    }
   ],
   "source": [
    "df_all.label.apply(lambda x: x.item()).astype(int).value_counts()"
   ]
  },
  {
   "cell_type": "code",
   "execution_count": 22,
   "metadata": {},
   "outputs": [
    {
     "data": {
      "text/plain": [
       "0       0\n",
       "1       1\n",
       "2       0\n",
       "3       0\n",
       "4       0\n",
       "       ..\n",
       "1337    1\n",
       "1338    0\n",
       "1339    0\n",
       "1340    0\n",
       "1341    0\n",
       "Name: path, Length: 1342, dtype: int64"
      ]
     },
     "execution_count": 22,
     "metadata": {},
     "output_type": "execute_result"
    }
   ],
   "source": [
    "df_all.path.str.split('/').apply(lambda x: x[-2]).astype(int)"
   ]
  },
  {
   "cell_type": "code",
   "execution_count": 9,
   "metadata": {},
   "outputs": [
    {
     "data": {
      "text/plain": [
       "torch.Size([25, 4416])"
      ]
     },
     "execution_count": 9,
     "metadata": {},
     "output_type": "execute_result"
    }
   ],
   "source": [
    "df_all['features'].iloc[0].shape"
   ]
  },
  {
   "cell_type": "code",
   "execution_count": 6,
   "metadata": {},
   "outputs": [],
   "source": [
    "X, y, _ = get_X_y_groups(df_all)"
   ]
  },
  {
   "cell_type": "code",
   "execution_count": 7,
   "metadata": {},
   "outputs": [
    {
     "data": {
      "text/plain": [
       "((1342, 22080), (1342,), (1342,))"
      ]
     },
     "execution_count": 7,
     "metadata": {},
     "output_type": "execute_result"
    }
   ],
   "source": [
    "X.shape, y.shape"
   ]
  },
  {
   "cell_type": "code",
   "execution_count": 10,
   "metadata": {},
   "outputs": [
    {
     "name": "stdout",
     "output_type": "stream",
     "text": [
      "0.4502000067627272\n",
      "0.3465960954837472\n",
      "0.3939392515828534\n",
      "0.4786956632502816\n",
      "0.3685360498213115\n"
     ]
    }
   ],
   "source": [
    "kfold = StratifiedKFold(n_splits=5, shuffle=True, random_state=0)\n",
    "for train_index, val_index in kfold.split(X, y):\n",
    "    X_train, X_val = X[train_index], X[val_index]\n",
    "    y_train, y_val = y[train_index], y[val_index]\n",
    "    clf = SVC(kernel='linear', C=1, probability=True)\n",
    "    clf.fit(X_train, y_train)\n",
    "    print(log_loss(y_val, clf.predict_proba(X_val), eps=1e-16))"
   ]
  },
  {
   "attachments": {},
   "cell_type": "markdown",
   "metadata": {},
   "source": [
    "# SSUP + SVC + folds 0-4 out-of-fold features"
   ]
  },
  {
   "attachments": {},
   "cell_type": "markdown",
   "metadata": {},
   "source": [
    "**Note**: fold 3 model is selected by SSUP val metric (possible overfitting)"
   ]
  },
  {
   "attachments": {},
   "cell_type": "markdown",
   "metadata": {},
   "source": [
    "### Image features"
   ]
  },
  {
   "cell_type": "code",
   "execution_count": 5,
   "metadata": {},
   "outputs": [
    {
     "name": "stdout",
     "output_type": "stream",
     "text": [
      "path: /workspace/visiomel-2023/weights/val_ssup_patches_aug_fold_0/embeddings/val.pkl\n",
      "\traw shape: (269, 3)\n",
      "\tdeduplicated shape: (269, 3)\n",
      "path: /workspace/visiomel-2023/weights/val_ssup_patches_aug_fold_1/embeddings/val.pkl\n",
      "\traw shape: (269, 3)\n",
      "\tdeduplicated shape: (269, 3)\n",
      "path: /workspace/visiomel-2023/weights/val_ssup_patches_aug_fold_2/embeddings/val.pkl\n",
      "\traw shape: (268, 3)\n",
      "\tdeduplicated shape: (268, 3)\n",
      "path: /workspace/visiomel-2023/weights/val_ssup_patches_aug_fold_3/embeddings/val.pkl\n",
      "\traw shape: (268, 3)\n",
      "\tdeduplicated shape: (268, 3)\n",
      "path: /workspace/visiomel-2023/weights/val_ssup_patches_aug_fold_4/embeddings/val.pkl\n",
      "\traw shape: (268, 3)\n",
      "\tdeduplicated shape: (268, 3)\n",
      "path: /workspace/visiomel-2023/weights/val_ssup_patches_aug_fold_0/embeddings/val_aug.pkl\n",
      "\traw shape: (1345, 3)\n",
      "\tdeduplicated shape: (1180, 3)\n",
      "path: /workspace/visiomel-2023/weights/val_ssup_patches_aug_fold_1/embeddings/val_aug.pkl\n",
      "\traw shape: (1345, 3)\n",
      "\tdeduplicated shape: (1179, 3)\n",
      "path: /workspace/visiomel-2023/weights/val_ssup_patches_aug_fold_2/embeddings/val_aug.pkl\n",
      "\traw shape: (1340, 3)\n",
      "\tdeduplicated shape: (1177, 3)\n",
      "path: /workspace/visiomel-2023/weights/val_ssup_patches_aug_fold_3/embeddings/val_aug.pkl\n",
      "\traw shape: (1340, 3)\n",
      "\tdeduplicated shape: (1179, 3)\n"
     ]
    }
   ],
   "source": [
    "all_pathes = [\n",
    "    '/workspace/visiomel-2023/weights/val_ssup_patches_aug_fold_0/embeddings/val.pkl',\n",
    "    '/workspace/visiomel-2023/weights/val_ssup_patches_aug_fold_1/embeddings/val.pkl',\n",
    "    '/workspace/visiomel-2023/weights/val_ssup_patches_aug_fold_2/embeddings/val.pkl',\n",
    "    '/workspace/visiomel-2023/weights/val_ssup_patches_aug_fold_3/embeddings/val.pkl',\n",
    "    '/workspace/visiomel-2023/weights/val_ssup_patches_aug_fold_4/embeddings/val.pkl',\n",
    "]\n",
    "all_pathes_upsampled = [\n",
    "    '/workspace/visiomel-2023/weights/val_ssup_patches_aug_fold_0/embeddings/val_aug.pkl',\n",
    "    '/workspace/visiomel-2023/weights/val_ssup_patches_aug_fold_1/embeddings/val_aug.pkl',\n",
    "    '/workspace/visiomel-2023/weights/val_ssup_patches_aug_fold_2/embeddings/val_aug.pkl',\n",
    "    '/workspace/visiomel-2023/weights/val_ssup_patches_aug_fold_3/embeddings/val_aug.pkl',\n",
    "    # '/workspace/visiomel-2023/weights/val_ssup_patches_aug_fold_4/embeddings/val_aug.pkl',\n",
    "]\n",
    "\n",
    "dfs = load_embeddings(all_pathes)\n",
    "df_all = pd.concat(list(dfs.values()), axis=0)\n",
    "\n",
    "dfs_upsampled = load_embeddings(all_pathes_upsampled)\n",
    "df_upsampled_all = pd.concat(list(dfs_upsampled.values()), axis=0)\n",
    "\n",
    "for path, path_upsampled in zip(all_pathes, all_pathes_upsampled):\n",
    "    check_unique_pathes_same(dfs[path], dfs_upsampled[path_upsampled])"
   ]
  },
  {
   "cell_type": "code",
   "execution_count": 6,
   "metadata": {},
   "outputs": [
    {
     "data": {
      "text/plain": [
       "(1074, 1342, (4715,), (1342,))"
      ]
     },
     "execution_count": 6,
     "metadata": {},
     "output_type": "execute_result"
    }
   ],
   "source": [
    "df_upsampled_all['path'].nunique(), df_all['path'].nunique(), df_upsampled_all['path'].shape, df_all['path'].shape"
   ]
  },
  {
   "cell_type": "code",
   "execution_count": 7,
   "metadata": {},
   "outputs": [
    {
     "data": {
      "text/plain": [
       "(True, True)"
      ]
     },
     "execution_count": 7,
     "metadata": {},
     "output_type": "execute_result"
    }
   ],
   "source": [
    "np.allclose(\n",
    "    df_all.path.str.split('/').apply(lambda x: x[-2]).astype(int), \n",
    "    df_all.label.apply(lambda x: x.item()).astype(int)), \\\n",
    "np.allclose(\n",
    "    df_upsampled_all.path.str.split('/').apply(lambda x: x[-2]).astype(int),\n",
    "    df_upsampled_all.label.apply(lambda x: x.item()).astype(int))"
   ]
  },
  {
   "cell_type": "code",
   "execution_count": 10,
   "metadata": {},
   "outputs": [],
   "source": [
    "path = df_upsampled_all.sample(1)['path'].iloc[0]"
   ]
  },
  {
   "cell_type": "code",
   "execution_count": 11,
   "metadata": {},
   "outputs": [
    {
     "data": {
      "text/html": [
       "<div>\n",
       "<style scoped>\n",
       "    .dataframe tbody tr th:only-of-type {\n",
       "        vertical-align: middle;\n",
       "    }\n",
       "\n",
       "    .dataframe tbody tr th {\n",
       "        vertical-align: top;\n",
       "    }\n",
       "\n",
       "    .dataframe thead th {\n",
       "        text-align: right;\n",
       "    }\n",
       "</style>\n",
       "<table border=\"1\" class=\"dataframe\">\n",
       "  <thead>\n",
       "    <tr style=\"text-align: right;\">\n",
       "      <th></th>\n",
       "      <th>path</th>\n",
       "      <th>label</th>\n",
       "      <th>features</th>\n",
       "    </tr>\n",
       "  </thead>\n",
       "  <tbody>\n",
       "    <tr>\n",
       "      <th>995</th>\n",
       "      <td>/workspace/data/images_page_4_shrink/0/v52wl5q...</td>\n",
       "      <td>tensor(0)</td>\n",
       "      <td>[[[tensor(-0.8763), tensor(-0.2675), tensor(-1...</td>\n",
       "    </tr>\n",
       "    <tr>\n",
       "      <th>996</th>\n",
       "      <td>/workspace/data/images_page_4_shrink/0/v52wl5q...</td>\n",
       "      <td>tensor(0)</td>\n",
       "      <td>[[[tensor(-0.7644), tensor(-0.1519), tensor(-1...</td>\n",
       "    </tr>\n",
       "    <tr>\n",
       "      <th>997</th>\n",
       "      <td>/workspace/data/images_page_4_shrink/0/v52wl5q...</td>\n",
       "      <td>tensor(0)</td>\n",
       "      <td>[[[tensor(0.9339), tensor(0.2271), tensor(1.81...</td>\n",
       "    </tr>\n",
       "  </tbody>\n",
       "</table>\n",
       "</div>"
      ],
      "text/plain": [
       "                                                  path      label  \\\n",
       "995  /workspace/data/images_page_4_shrink/0/v52wl5q...  tensor(0)   \n",
       "996  /workspace/data/images_page_4_shrink/0/v52wl5q...  tensor(0)   \n",
       "997  /workspace/data/images_page_4_shrink/0/v52wl5q...  tensor(0)   \n",
       "\n",
       "                                              features  \n",
       "995  [[[tensor(-0.8763), tensor(-0.2675), tensor(-1...  \n",
       "996  [[[tensor(-0.7644), tensor(-0.1519), tensor(-1...  \n",
       "997  [[[tensor(0.9339), tensor(0.2271), tensor(1.81...  "
      ]
     },
     "execution_count": 11,
     "metadata": {},
     "output_type": "execute_result"
    }
   ],
   "source": [
    "df_upsampled_all[df_upsampled_all['path'] == path]"
   ]
  },
  {
   "cell_type": "code",
   "execution_count": 12,
   "metadata": {},
   "outputs": [
    {
     "data": {
      "text/html": [
       "<div>\n",
       "<style scoped>\n",
       "    .dataframe tbody tr th:only-of-type {\n",
       "        vertical-align: middle;\n",
       "    }\n",
       "\n",
       "    .dataframe tbody tr th {\n",
       "        vertical-align: top;\n",
       "    }\n",
       "\n",
       "    .dataframe thead th {\n",
       "        text-align: right;\n",
       "    }\n",
       "</style>\n",
       "<table border=\"1\" class=\"dataframe\">\n",
       "  <thead>\n",
       "    <tr style=\"text-align: right;\">\n",
       "      <th></th>\n",
       "      <th>path</th>\n",
       "      <th>label</th>\n",
       "      <th>features</th>\n",
       "    </tr>\n",
       "  </thead>\n",
       "  <tbody>\n",
       "    <tr>\n",
       "      <th>995</th>\n",
       "      <td>/workspace/data/images_page_4_shrink/0/v52wl5q...</td>\n",
       "      <td>tensor(0)</td>\n",
       "      <td>[[[tensor(-0.8763), tensor(-0.2675), tensor(-1...</td>\n",
       "    </tr>\n",
       "    <tr>\n",
       "      <th>996</th>\n",
       "      <td>/workspace/data/images_page_4_shrink/0/v52wl5q...</td>\n",
       "      <td>tensor(0)</td>\n",
       "      <td>[[[tensor(-0.7644), tensor(-0.1519), tensor(-1...</td>\n",
       "    </tr>\n",
       "    <tr>\n",
       "      <th>997</th>\n",
       "      <td>/workspace/data/images_page_4_shrink/0/v52wl5q...</td>\n",
       "      <td>tensor(0)</td>\n",
       "      <td>[[[tensor(0.9339), tensor(0.2271), tensor(1.81...</td>\n",
       "    </tr>\n",
       "  </tbody>\n",
       "</table>\n",
       "</div>"
      ],
      "text/plain": [
       "                                                  path      label  \\\n",
       "995  /workspace/data/images_page_4_shrink/0/v52wl5q...  tensor(0)   \n",
       "996  /workspace/data/images_page_4_shrink/0/v52wl5q...  tensor(0)   \n",
       "997  /workspace/data/images_page_4_shrink/0/v52wl5q...  tensor(0)   \n",
       "\n",
       "                                              features  \n",
       "995  [[[tensor(-0.8763), tensor(-0.2675), tensor(-1...  \n",
       "996  [[[tensor(-0.7644), tensor(-0.1519), tensor(-1...  \n",
       "997  [[[tensor(0.9339), tensor(0.2271), tensor(1.81...  "
      ]
     },
     "execution_count": 12,
     "metadata": {},
     "output_type": "execute_result"
    }
   ],
   "source": [
    "df_upsampled_all[df_upsampled_all['path'] == path]"
   ]
  },
  {
   "cell_type": "code",
   "execution_count": 13,
   "metadata": {},
   "outputs": [
    {
     "data": {
      "text/plain": [
       "(0    1129\n",
       " 1     213\n",
       " Name: label, dtype: int64,\n",
       " 0    3968\n",
       " 1     747\n",
       " Name: label, dtype: int64)"
      ]
     },
     "execution_count": 13,
     "metadata": {},
     "output_type": "execute_result"
    }
   ],
   "source": [
    "df_all.label.apply(lambda x: x.item()).astype(int).value_counts(), \\\n",
    "df_upsampled_all.label.apply(lambda x: x.item()).astype(int).value_counts()"
   ]
  },
  {
   "cell_type": "code",
   "execution_count": 14,
   "metadata": {},
   "outputs": [
    {
     "data": {
      "text/plain": [
       "0      0\n",
       "1      0\n",
       "2      0\n",
       "3      0\n",
       "4      0\n",
       "      ..\n",
       "263    1\n",
       "264    1\n",
       "265    1\n",
       "266    1\n",
       "267    1\n",
       "Name: path, Length: 1342, dtype: int64"
      ]
     },
     "execution_count": 14,
     "metadata": {},
     "output_type": "execute_result"
    }
   ],
   "source": [
    "df_all.path.str.split('/').apply(lambda x: x[-2]).astype(int)"
   ]
  },
  {
   "cell_type": "code",
   "execution_count": 15,
   "metadata": {},
   "outputs": [
    {
     "data": {
      "text/plain": [
       "torch.Size([1, 4, 1024])"
      ]
     },
     "execution_count": 15,
     "metadata": {},
     "output_type": "execute_result"
    }
   ],
   "source": [
    "df_all['features'].iloc[0].shape"
   ]
  },
  {
   "cell_type": "code",
   "execution_count": 16,
   "metadata": {},
   "outputs": [],
   "source": [
    "X_upsampled, y_upsampled, groups_upsampled = get_X_y_groups(df_upsampled_all)\n",
    "X, y, groups = get_X_y_groups(df_all)"
   ]
  },
  {
   "cell_type": "code",
   "execution_count": 17,
   "metadata": {},
   "outputs": [
    {
     "data": {
      "text/plain": [
       "(1342,)"
      ]
     },
     "execution_count": 17,
     "metadata": {},
     "output_type": "execute_result"
    }
   ],
   "source": [
    "np.unique(groups).shape"
   ]
  },
  {
   "cell_type": "code",
   "execution_count": 18,
   "metadata": {},
   "outputs": [
    {
     "data": {
      "text/plain": [
       "array(['/workspace/data/images_page_4_shrink/0/09lh5igz.png',\n",
       "       '/workspace/data/images_page_4_shrink/0/0ezpjmed.png',\n",
       "       '/workspace/data/images_page_4_shrink/0/1fzfhtcc.png',\n",
       "       '/workspace/data/images_page_4_shrink/0/1njoi9iq.png',\n",
       "       '/workspace/data/images_page_4_shrink/0/1ojip5y7.png',\n",
       "       '/workspace/data/images_page_4_shrink/0/1qvd8x3f.png',\n",
       "       '/workspace/data/images_page_4_shrink/0/1vig9enh.png',\n",
       "       '/workspace/data/images_page_4_shrink/0/22it8737.png',\n",
       "       '/workspace/data/images_page_4_shrink/0/24xxi0a4.png',\n",
       "       '/workspace/data/images_page_4_shrink/0/2fee9717.png'],\n",
       "      dtype=object)"
      ]
     },
     "execution_count": 18,
     "metadata": {},
     "output_type": "execute_result"
    }
   ],
   "source": [
    "groups[:10]"
   ]
  },
  {
   "cell_type": "code",
   "execution_count": 19,
   "metadata": {},
   "outputs": [
    {
     "data": {
      "text/plain": [
       "((1342, 5120), (1342,))"
      ]
     },
     "execution_count": 19,
     "metadata": {},
     "output_type": "execute_result"
    }
   ],
   "source": [
    "X.shape, y.shape"
   ]
  },
  {
   "cell_type": "code",
   "execution_count": 20,
   "metadata": {},
   "outputs": [],
   "source": [
    "SEED = 0"
   ]
  },
  {
   "cell_type": "code",
   "execution_count": 21,
   "metadata": {},
   "outputs": [
    {
     "data": {
      "text/plain": [
       "{'fit_time': array([24.89175677, 24.64705157, 23.77119088, 24.51277971, 24.5971911 ]),\n",
       " 'score_time': array([2.85961413, 2.93563032, 2.98725462, 2.9428854 , 2.92034864]),\n",
       " 'test_roc_auc': array([0.75684297, 0.73963824, 0.68531395, 0.70487755, 0.75726928]),\n",
       " 'test_f1': array([0.43396226, 0.44      , 0.28828829, 0.34862385, 0.42696629]),\n",
       " 'test_neg_log_loss': array([-0.4044415 , -0.38590334, -0.41210887, -0.39244217, -0.37741521])}"
      ]
     },
     "execution_count": 21,
     "metadata": {},
     "output_type": "execute_result"
    }
   ],
   "source": [
    "kfold = StratifiedGroupKFold(n_splits=5, shuffle=True, random_state=SEED)\n",
    "clf = SVC(kernel='linear', C=0.01, probability=True, class_weight='balanced', random_state=SEED)\n",
    "cross_validate(clf, X, y, cv=kfold.split(X, y, groups), scoring=('roc_auc', 'f1', 'neg_log_loss'), n_jobs=5)"
   ]
  },
  {
   "cell_type": "code",
   "execution_count": 22,
   "metadata": {},
   "outputs": [
    {
     "data": {
      "text/plain": [
       "{'fit_time': array([311.44477391, 309.35402966, 299.99684381, 306.87008071,\n",
       "        306.6387558 ]),\n",
       " 'score_time': array([ 7.13330197,  8.21358943, 10.42922854,  9.74982119,  9.9295752 ]),\n",
       " 'test_roc_auc': array([0.73441037, 0.72516796, 0.63600927, 0.74315703, 0.77907712]),\n",
       " 'test_f1': array([0.40776699, 0.41818182, 0.30188679, 0.38461538, 0.45238095]),\n",
       " 'test_neg_log_loss': array([-0.40407843, -0.39303692, -0.41443596, -0.38737243, -0.37379449])}"
      ]
     },
     "execution_count": 22,
     "metadata": {},
     "output_type": "execute_result"
    }
   ],
   "source": [
    "kfold = StratifiedGroupKFold(n_splits=5, shuffle=True, random_state=SEED)\n",
    "clf = SVC(kernel='linear', C=0.01, probability=True, class_weight='balanced', random_state=SEED)\n",
    "cross_validate_upsampled(\n",
    "    clf, \n",
    "    X, \n",
    "    X_upsampled,\n",
    "    y, \n",
    "    y_upsampled,\n",
    "    groups=groups, \n",
    "    groups_upsampled=groups_upsampled,\n",
    "    cv=kfold.split(X, y, groups), \n",
    "    scoring=('roc_auc', 'f1', 'neg_log_loss'), \n",
    "    n_jobs=5\n",
    ")"
   ]
  },
  {
   "attachments": {},
   "cell_type": "markdown",
   "metadata": {},
   "source": [
    "### Metadata features"
   ]
  },
  {
   "cell_type": "code",
   "execution_count": null,
   "metadata": {},
   "outputs": [],
   "source": []
  },
  {
   "attachments": {},
   "cell_type": "markdown",
   "metadata": {},
   "source": [
    "### HPO"
   ]
  },
  {
   "cell_type": "code",
   "execution_count": 51,
   "metadata": {},
   "outputs": [
    {
     "name": "stdout",
     "output_type": "stream",
     "text": [
      "Fitting 5 folds for each of 85 candidates, totalling 425 fits\n",
      "[CV 2/5] END svc__C=0.01, svc__kernel=linear; f1: (test=0.327) neg_log_loss: (test=-0.420) roc_auc: (test=0.642) total time= 3.3min\n",
      "[CV 3/5] END svc__C=0.01, svc__kernel=linear; f1: (test=0.287) neg_log_loss: (test=-0.420) roc_auc: (test=0.656) total time= 3.3min\n",
      "[CV 4/5] END svc__C=0.01, svc__kernel=linear; f1: (test=0.358) neg_log_loss: (test=-0.410) roc_auc: (test=0.702) total time= 3.4min\n",
      "[CV 5/5] END svc__C=0.01, svc__kernel=linear; f1: (test=0.352) neg_log_loss: (test=-0.397) roc_auc: (test=0.711) total time= 3.4min\n",
      "[CV 1/5] END svc__C=0.01, svc__kernel=linear; f1: (test=0.507) neg_log_loss: (test=-0.393) roc_auc: (test=0.766) total time= 3.4min\n",
      "[CV 1/5] END svc__C=0.1, svc__kernel=linear; f1: (test=0.516) neg_log_loss: (test=-0.392) roc_auc: (test=0.770) total time= 2.4min\n",
      "[CV 2/5] END svc__C=0.1, svc__kernel=linear; f1: (test=0.342) neg_log_loss: (test=-0.425) roc_auc: (test=0.637) total time= 2.4min\n",
      "[CV 3/5] END svc__C=0.1, svc__kernel=linear; f1: (test=0.320) neg_log_loss: (test=-0.415) roc_auc: (test=0.641) total time= 2.6min\n",
      "[CV 4/5] END svc__C=0.1, svc__kernel=linear; f1: (test=0.376) neg_log_loss: (test=-0.402) roc_auc: (test=0.698) total time= 2.6min\n",
      "[CV 5/5] END svc__C=0.1, svc__kernel=linear; f1: (test=0.350) neg_log_loss: (test=-0.405) roc_auc: (test=0.697) total time= 2.6min\n",
      "[CV 2/5] END svc__C=1, svc__kernel=linear; f1: (test=0.310) neg_log_loss: (test=-0.443) roc_auc: (test=0.630) total time= 2.8min\n",
      "[CV 1/5] END svc__C=1, svc__kernel=linear; f1: (test=0.387) neg_log_loss: (test=-0.419) roc_auc: (test=0.720) total time= 2.9min\n",
      "[CV 3/5] END svc__C=1, svc__kernel=linear; f1: (test=0.297) neg_log_loss: (test=-0.423) roc_auc: (test=0.629) total time= 3.0min\n",
      "[CV 5/5] END svc__C=1, svc__kernel=linear; f1: (test=0.311) neg_log_loss: (test=-0.425) roc_auc: (test=0.673) total time= 3.0min\n",
      "[CV 4/5] END svc__C=1, svc__kernel=linear; f1: (test=0.326) neg_log_loss: (test=-0.426) roc_auc: (test=0.648) total time= 3.0min\n",
      "[CV 2/5] END svc__C=10, svc__kernel=linear; f1: (test=0.250) neg_log_loss: (test=-0.521) roc_auc: (test=0.584) total time= 2.6min\n",
      "[CV 1/5] END svc__C=10, svc__kernel=linear; f1: (test=0.328) neg_log_loss: (test=-0.453) roc_auc: (test=0.604) total time= 2.7min\n",
      "[CV 3/5] END svc__C=10, svc__kernel=linear; f1: (test=0.331) neg_log_loss: (test=-0.466) roc_auc: (test=0.592) total time= 2.4min\n",
      "[CV 4/5] END svc__C=10, svc__kernel=linear; f1: (test=0.310) neg_log_loss: (test=-0.448) roc_auc: (test=0.638) total time= 2.5min\n",
      "[CV 5/5] END svc__C=10, svc__kernel=linear; f1: (test=0.281) neg_log_loss: (test=-0.445) roc_auc: (test=0.633) total time= 2.6min\n",
      "[CV 2/5] END svc__C=100, svc__kernel=linear; f1: (test=0.215) neg_log_loss: (test=-0.552) roc_auc: (test=0.504) total time= 2.1min\n",
      "[CV 1/5] END svc__C=100, svc__kernel=linear; f1: (test=0.280) neg_log_loss: (test=-0.491) roc_auc: (test=0.544) total time= 2.2min\n",
      "[CV 3/5] END svc__C=100, svc__kernel=linear; f1: (test=0.252) neg_log_loss: (test=-0.510) roc_auc: (test=0.551) total time= 2.2min\n",
      "[CV 4/5] END svc__C=100, svc__kernel=linear; f1: (test=0.280) neg_log_loss: (test=-0.480) roc_auc: (test=0.596) total time= 2.1min\n",
      "[CV 5/5] END svc__C=100, svc__kernel=linear; f1: (test=0.320) neg_log_loss: (test=-0.458) roc_auc: (test=0.596) total time= 2.3min\n",
      "[CV 1/5] END svc__C=0.01, svc__gamma=scale, svc__kernel=rbf; f1: (test=0.272) neg_log_loss: (test=-0.436) roc_auc: (test=0.699) total time= 2.9min\n",
      "[CV 2/5] END svc__C=0.01, svc__gamma=scale, svc__kernel=rbf; f1: (test=0.000) neg_log_loss: (test=-0.451) roc_auc: (test=0.609) total time= 3.2min\n",
      "[CV 3/5] END svc__C=0.01, svc__gamma=scale, svc__kernel=rbf; f1: (test=0.274) neg_log_loss: (test=-0.438) roc_auc: (test=0.610) total time= 3.2min\n",
      "[CV 4/5] END svc__C=0.01, svc__gamma=scale, svc__kernel=rbf; f1: (test=0.272) neg_log_loss: (test=-0.435) roc_auc: (test=0.550) total time= 3.4min\n",
      "[CV 5/5] END svc__C=0.01, svc__gamma=scale, svc__kernel=rbf; f1: (test=0.274) neg_log_loss: (test=-0.438) roc_auc: (test=0.595) total time= 3.4min\n",
      "[CV 1/5] END svc__C=0.01, svc__gamma=scale, svc__kernel=sigmoid; f1: (test=0.272) neg_log_loss: (test=-0.436) roc_auc: (test=0.670) total time= 3.3min\n",
      "[CV 2/5] END svc__C=0.01, svc__gamma=scale, svc__kernel=sigmoid; f1: (test=0.000) neg_log_loss: (test=-0.451) roc_auc: (test=0.589) total time= 3.4min\n",
      "[CV 3/5] END svc__C=0.01, svc__gamma=scale, svc__kernel=sigmoid; f1: (test=0.274) neg_log_loss: (test=-0.438) roc_auc: (test=0.589) total time= 3.3min\n",
      "[CV 4/5] END svc__C=0.01, svc__gamma=scale, svc__kernel=sigmoid; f1: (test=0.272) neg_log_loss: (test=-0.435) roc_auc: (test=0.556) total time= 3.4min\n",
      "[CV 5/5] END svc__C=0.01, svc__gamma=scale, svc__kernel=sigmoid; f1: (test=0.274) neg_log_loss: (test=-0.438) roc_auc: (test=0.563) total time= 3.3min\n",
      "[CV 1/5] END svc__C=0.01, svc__gamma=auto, svc__kernel=rbf; f1: (test=0.272) neg_log_loss: (test=-0.436) roc_auc: (test=0.687) total time= 3.5min\n",
      "[CV 2/5] END svc__C=0.01, svc__gamma=auto, svc__kernel=rbf; f1: (test=0.000) neg_log_loss: (test=-0.451) roc_auc: (test=0.600) total time= 3.7min\n",
      "[CV 3/5] END svc__C=0.01, svc__gamma=auto, svc__kernel=rbf; f1: (test=0.274) neg_log_loss: (test=-0.438) roc_auc: (test=0.611) total time= 3.6min\n",
      "[CV 4/5] END svc__C=0.01, svc__gamma=auto, svc__kernel=rbf; f1: (test=0.272) neg_log_loss: (test=-0.435) roc_auc: (test=0.555) total time= 3.7min\n",
      "[CV 5/5] END svc__C=0.01, svc__gamma=auto, svc__kernel=rbf; f1: (test=0.274) neg_log_loss: (test=-0.438) roc_auc: (test=0.583) total time= 3.7min\n",
      "[CV 1/5] END svc__C=0.01, svc__gamma=auto, svc__kernel=sigmoid; f1: (test=0.272) neg_log_loss: (test=-0.436) roc_auc: (test=0.667) total time= 3.3min\n",
      "[CV 2/5] END svc__C=0.01, svc__gamma=auto, svc__kernel=sigmoid; f1: (test=0.000) neg_log_loss: (test=-0.451) roc_auc: (test=0.587) total time= 3.4min\n",
      "[CV 3/5] END svc__C=0.01, svc__gamma=auto, svc__kernel=sigmoid; f1: (test=0.274) neg_log_loss: (test=-0.438) roc_auc: (test=0.588) total time= 3.4min\n",
      "[CV 4/5] END svc__C=0.01, svc__gamma=auto, svc__kernel=sigmoid; f1: (test=0.272) neg_log_loss: (test=-0.435) roc_auc: (test=0.579) total time= 3.4min\n",
      "[CV 5/5] END svc__C=0.01, svc__gamma=auto, svc__kernel=sigmoid; f1: (test=0.274) neg_log_loss: (test=-0.438) roc_auc: (test=0.560) total time= 3.4min\n",
      "[CV 1/5] END svc__C=0.01, svc__gamma=0.001, svc__kernel=rbf; f1: (test=0.363) neg_log_loss: (test=-0.430) roc_auc: (test=0.708) total time= 3.4min\n",
      "[CV 2/5] END svc__C=0.01, svc__gamma=0.001, svc__kernel=rbf; f1: (test=0.281) neg_log_loss: (test=-0.448) roc_auc: (test=0.625) total time= 3.4min\n",
      "[CV 3/5] END svc__C=0.01, svc__gamma=0.001, svc__kernel=rbf; f1: (test=0.304) neg_log_loss: (test=-0.435) roc_auc: (test=0.597) total time= 3.4min\n",
      "[CV 4/5] END svc__C=0.01, svc__gamma=0.001, svc__kernel=rbf; f1: (test=0.167) neg_log_loss: (test=-0.434) roc_auc: (test=0.559) total time= 3.3min\n",
      "[CV 5/5] END svc__C=0.01, svc__gamma=0.001, svc__kernel=rbf; f1: (test=0.266) neg_log_loss: (test=-0.434) roc_auc: (test=0.605) total time= 3.3min\n",
      "[CV 1/5] END svc__C=0.01, svc__gamma=0.001, svc__kernel=sigmoid; f1: (test=0.156) neg_log_loss: (test=-0.436) roc_auc: (test=0.610) total time= 3.1min\n",
      "[CV 2/5] END svc__C=0.01, svc__gamma=0.001, svc__kernel=sigmoid; f1: (test=0.000) neg_log_loss: (test=-0.451) roc_auc: (test=0.587) total time= 3.3min\n",
      "[CV 3/5] END svc__C=0.01, svc__gamma=0.001, svc__kernel=sigmoid; f1: (test=0.245) neg_log_loss: (test=-0.439) roc_auc: (test=0.551) total time= 3.4min\n",
      "[CV 4/5] END svc__C=0.01, svc__gamma=0.001, svc__kernel=sigmoid; f1: (test=0.036) neg_log_loss: (test=-0.435) roc_auc: (test=0.545) total time= 3.3min\n",
      "[CV 5/5] END svc__C=0.01, svc__gamma=0.001, svc__kernel=sigmoid; f1: (test=0.169) neg_log_loss: (test=-0.438) roc_auc: (test=0.535) total time= 3.4min\n",
      "[CV 1/5] END svc__C=0.01, svc__gamma=0.0001, svc__kernel=rbf; f1: (test=0.272) neg_log_loss: (test=-0.436) roc_auc: (test=0.673) total time= 3.5min\n",
      "[CV 2/5] END svc__C=0.01, svc__gamma=0.0001, svc__kernel=rbf; f1: (test=0.000) neg_log_loss: (test=-0.451) roc_auc: (test=0.595) total time= 3.4min\n",
      "[CV 3/5] END svc__C=0.01, svc__gamma=0.0001, svc__kernel=rbf; f1: (test=0.274) neg_log_loss: (test=-0.438) roc_auc: (test=0.606) total time= 3.4min\n",
      "[CV 4/5] END svc__C=0.01, svc__gamma=0.0001, svc__kernel=rbf; f1: (test=0.272) neg_log_loss: (test=-0.435) roc_auc: (test=0.566) total time= 3.4min\n",
      "[CV 5/5] END svc__C=0.01, svc__gamma=0.0001, svc__kernel=rbf; f1: (test=0.274) neg_log_loss: (test=-0.438) roc_auc: (test=0.569) total time= 3.4min\n",
      "[CV 1/5] END svc__C=0.01, svc__gamma=0.0001, svc__kernel=sigmoid; f1: (test=0.272) neg_log_loss: (test=-0.436) roc_auc: (test=0.664) total time= 3.2min\n",
      "[CV 2/5] END svc__C=0.01, svc__gamma=0.0001, svc__kernel=sigmoid; f1: (test=0.000) neg_log_loss: (test=-0.451) roc_auc: (test=0.588) total time= 3.3min\n",
      "[CV 3/5] END svc__C=0.01, svc__gamma=0.0001, svc__kernel=sigmoid; f1: (test=0.274) neg_log_loss: (test=-0.438) roc_auc: (test=0.586) total time= 3.4min\n",
      "[CV 4/5] END svc__C=0.01, svc__gamma=0.0001, svc__kernel=sigmoid; f1: (test=0.272) neg_log_loss: (test=-0.435) roc_auc: (test=0.572) total time= 3.4min\n",
      "[CV 5/5] END svc__C=0.01, svc__gamma=0.0001, svc__kernel=sigmoid; f1: (test=0.274) neg_log_loss: (test=-0.438) roc_auc: (test=0.558) total time= 3.4min\n",
      "[CV 1/5] END svc__C=0.1, svc__gamma=scale, svc__kernel=rbf; f1: (test=0.342) neg_log_loss: (test=-0.405) roc_auc: (test=0.749) total time= 3.6min\n",
      "[CV 2/5] END svc__C=0.1, svc__gamma=scale, svc__kernel=rbf; f1: (test=0.353) neg_log_loss: (test=-0.422) roc_auc: (test=0.645) total time= 3.5min\n",
      "[CV 3/5] END svc__C=0.1, svc__gamma=scale, svc__kernel=rbf; f1: (test=0.279) neg_log_loss: (test=-0.426) roc_auc: (test=0.619) total time= 3.4min\n",
      "[CV 4/5] END svc__C=0.1, svc__gamma=scale, svc__kernel=rbf; f1: (test=0.168) neg_log_loss: (test=-0.435) roc_auc: (test=0.580) total time= 3.3min\n",
      "[CV 5/5] END svc__C=0.1, svc__gamma=scale, svc__kernel=rbf; f1: (test=0.341) neg_log_loss: (test=-0.411) roc_auc: (test=0.653) total time= 3.4min\n",
      "[CV 1/5] END svc__C=0.1, svc__gamma=scale, svc__kernel=sigmoid; f1: (test=0.199) neg_log_loss: (test=-0.427) roc_auc: (test=0.685) total time= 3.2min\n",
      "[CV 2/5] END svc__C=0.1, svc__gamma=scale, svc__kernel=sigmoid; f1: (test=0.146) neg_log_loss: (test=-0.451) roc_auc: (test=0.602) total time= 3.3min\n",
      "[CV 3/5] END svc__C=0.1, svc__gamma=scale, svc__kernel=sigmoid; f1: (test=0.210) neg_log_loss: (test=-0.436) roc_auc: (test=0.607) total time= 3.3min\n",
      "[CV 4/5] END svc__C=0.1, svc__gamma=scale, svc__kernel=sigmoid; f1: (test=0.130) neg_log_loss: (test=-0.435) roc_auc: (test=0.603) total time= 3.3min\n",
      "[CV 5/5] END svc__C=0.1, svc__gamma=scale, svc__kernel=sigmoid; f1: (test=0.184) neg_log_loss: (test=-0.433) roc_auc: (test=0.597) total time= 3.3min\n",
      "[CV 1/5] END svc__C=0.1, svc__gamma=auto, svc__kernel=rbf; f1: (test=0.314) neg_log_loss: (test=-0.408) roc_auc: (test=0.744) total time= 3.3min\n",
      "[CV 2/5] END svc__C=0.1, svc__gamma=auto, svc__kernel=rbf; f1: (test=0.348) neg_log_loss: (test=-0.426) roc_auc: (test=0.634) total time= 3.2min\n",
      "[CV 3/5] END svc__C=0.1, svc__gamma=auto, svc__kernel=rbf; f1: (test=0.298) neg_log_loss: (test=-0.422) roc_auc: (test=0.611) total time= 3.3min\n",
      "[CV 4/5] END svc__C=0.1, svc__gamma=auto, svc__kernel=rbf; f1: (test=0.137) neg_log_loss: (test=-0.438) roc_auc: (test=0.571) total time= 3.2min\n",
      "[CV 5/5] END svc__C=0.1, svc__gamma=auto, svc__kernel=rbf; f1: (test=0.350) neg_log_loss: (test=-0.413) roc_auc: (test=0.652) total time= 3.2min\n",
      "[CV 1/5] END svc__C=0.1, svc__gamma=auto, svc__kernel=sigmoid; f1: (test=0.225) neg_log_loss: (test=-0.425) roc_auc: (test=0.721) total time= 3.0min\n",
      "[CV 2/5] END svc__C=0.1, svc__gamma=auto, svc__kernel=sigmoid; f1: (test=0.258) neg_log_loss: (test=-0.444) roc_auc: (test=0.608) total time= 3.0min\n",
      "[CV 3/5] END svc__C=0.1, svc__gamma=auto, svc__kernel=sigmoid; f1: (test=0.209) neg_log_loss: (test=-0.432) roc_auc: (test=0.616) total time= 3.0min\n",
      "[CV 4/5] END svc__C=0.1, svc__gamma=auto, svc__kernel=sigmoid; f1: (test=0.129) neg_log_loss: (test=-0.436) roc_auc: (test=0.599) total time= 3.0min\n",
      "[CV 5/5] END svc__C=0.1, svc__gamma=auto, svc__kernel=sigmoid; f1: (test=0.221) neg_log_loss: (test=-0.432) roc_auc: (test=0.586) total time= 2.9min\n",
      "[CV 1/5] END svc__C=0.1, svc__gamma=0.001, svc__kernel=rbf; f1: (test=0.373) neg_log_loss: (test=-0.404) roc_auc: (test=0.719) total time= 2.4min\n",
      "[CV 2/5] END svc__C=0.1, svc__gamma=0.001, svc__kernel=rbf; f1: (test=0.323) neg_log_loss: (test=-0.423) roc_auc: (test=0.640) total time= 2.1min\n",
      "[CV 3/5] END svc__C=0.1, svc__gamma=0.001, svc__kernel=rbf; f1: (test=0.323) neg_log_loss: (test=-0.425) roc_auc: (test=0.627) total time= 2.1min\n",
      "[CV 4/5] END svc__C=0.1, svc__gamma=0.001, svc__kernel=rbf; f1: (test=0.254) neg_log_loss: (test=-0.433) roc_auc: (test=0.604) total time= 2.0min\n",
      "[CV 5/5] END svc__C=0.1, svc__gamma=0.001, svc__kernel=rbf; f1: (test=0.271) neg_log_loss: (test=-0.413) roc_auc: (test=0.656) total time= 2.0min\n",
      "[CV 1/5] END svc__C=0.1, svc__gamma=0.001, svc__kernel=sigmoid; f1: (test=0.072) neg_log_loss: (test=-0.435) roc_auc: (test=0.307) total time= 1.9min\n",
      "[CV 2/5] END svc__C=0.1, svc__gamma=0.001, svc__kernel=sigmoid; f1: (test=0.116) neg_log_loss: (test=-0.446) roc_auc: (test=0.336) total time= 1.9min\n",
      "[CV 4/5] END svc__C=0.1, svc__gamma=0.001, svc__kernel=sigmoid; f1: (test=0.248) neg_log_loss: (test=-0.440) roc_auc: (test=0.435) total time= 1.9min\n",
      "[CV 3/5] END svc__C=0.1, svc__gamma=0.001, svc__kernel=sigmoid; f1: (test=0.201) neg_log_loss: (test=-0.442) roc_auc: (test=0.429) total time= 1.9min\n",
      "[CV 5/5] END svc__C=0.1, svc__gamma=0.001, svc__kernel=sigmoid; f1: (test=0.225) neg_log_loss: (test=-0.439) roc_auc: (test=0.428) total time= 1.9min\n",
      "[CV 1/5] END svc__C=0.1, svc__gamma=0.0001, svc__kernel=rbf; f1: (test=0.258) neg_log_loss: (test=-0.419) roc_auc: (test=0.725) total time= 2.1min\n",
      "[CV 2/5] END svc__C=0.1, svc__gamma=0.0001, svc__kernel=rbf; f1: (test=0.250) neg_log_loss: (test=-0.437) roc_auc: (test=0.609) total time= 2.1min\n",
      "[CV 3/5] END svc__C=0.1, svc__gamma=0.0001, svc__kernel=rbf; f1: (test=0.301) neg_log_loss: (test=-0.427) roc_auc: (test=0.608) total time= 2.1min\n",
      "[CV 4/5] END svc__C=0.1, svc__gamma=0.0001, svc__kernel=rbf; f1: (test=0.153) neg_log_loss: (test=-0.438) roc_auc: (test=0.563) total time= 2.1min\n",
      "[CV 5/5] END svc__C=0.1, svc__gamma=0.0001, svc__kernel=rbf; f1: (test=0.306) neg_log_loss: (test=-0.425) roc_auc: (test=0.606) total time= 2.0min\n",
      "[CV 1/5] END svc__C=0.1, svc__gamma=0.0001, svc__kernel=sigmoid; f1: (test=0.236) neg_log_loss: (test=-0.434) roc_auc: (test=0.664) total time= 1.9min\n",
      "[CV 2/5] END svc__C=0.1, svc__gamma=0.0001, svc__kernel=sigmoid; f1: (test=0.284) neg_log_loss: (test=-0.449) roc_auc: (test=0.594) total time= 2.0min\n",
      "[CV 4/5] END svc__C=0.1, svc__gamma=0.0001, svc__kernel=sigmoid; f1: (test=0.129) neg_log_loss: (test=-0.436) roc_auc: (test=0.572) total time= 2.0min\n",
      "[CV 3/5] END svc__C=0.1, svc__gamma=0.0001, svc__kernel=sigmoid; f1: (test=0.229) neg_log_loss: (test=-0.437) roc_auc: (test=0.587) total time= 2.0min\n",
      "[CV 5/5] END svc__C=0.1, svc__gamma=0.0001, svc__kernel=sigmoid; f1: (test=0.230) neg_log_loss: (test=-0.435) roc_auc: (test=0.571) total time= 2.0min\n",
      "[CV 1/5] END svc__C=1, svc__gamma=scale, svc__kernel=rbf; f1: (test=0.418) neg_log_loss: (test=-0.397) roc_auc: (test=0.737) total time= 1.9min\n",
      "[CV 2/5] END svc__C=1, svc__gamma=scale, svc__kernel=rbf; f1: (test=0.287) neg_log_loss: (test=-0.427) roc_auc: (test=0.624) total time= 1.8min\n",
      "[CV 3/5] END svc__C=1, svc__gamma=scale, svc__kernel=rbf; f1: (test=0.314) neg_log_loss: (test=-0.428) roc_auc: (test=0.626) total time= 1.8min\n",
      "[CV 4/5] END svc__C=1, svc__gamma=scale, svc__kernel=rbf; f1: (test=0.297) neg_log_loss: (test=-0.422) roc_auc: (test=0.650) total time= 1.8min\n",
      "[CV 5/5] END svc__C=1, svc__gamma=scale, svc__kernel=rbf; f1: (test=0.342) neg_log_loss: (test=-0.410) roc_auc: (test=0.663) total time= 1.8min\n",
      "[CV 1/5] END svc__C=1, svc__gamma=scale, svc__kernel=sigmoid; f1: (test=0.273) neg_log_loss: (test=-0.436) roc_auc: (test=0.511) total time= 1.5min\n",
      "[CV 4/5] END svc__C=1, svc__gamma=scale, svc__kernel=sigmoid; f1: (test=0.209) neg_log_loss: (test=-0.441) roc_auc: (test=0.451) total time= 1.5min\n",
      "[CV 2/5] END svc__C=1, svc__gamma=scale, svc__kernel=sigmoid; f1: (test=0.219) neg_log_loss: (test=-0.451) roc_auc: (test=0.456) total time= 1.6min\n",
      "[CV 3/5] END svc__C=1, svc__gamma=scale, svc__kernel=sigmoid; f1: (test=0.264) neg_log_loss: (test=-0.436) roc_auc: (test=0.567) total time= 1.6min\n",
      "[CV 5/5] END svc__C=1, svc__gamma=scale, svc__kernel=sigmoid; f1: (test=0.256) neg_log_loss: (test=-0.438) roc_auc: (test=0.539) total time= 1.5min\n",
      "[CV 1/5] END svc__C=1, svc__gamma=auto, svc__kernel=rbf; f1: (test=0.398) neg_log_loss: (test=-0.395) roc_auc: (test=0.748) total time= 1.9min\n",
      "[CV 2/5] END svc__C=1, svc__gamma=auto, svc__kernel=rbf; f1: (test=0.293) neg_log_loss: (test=-0.425) roc_auc: (test=0.626) total time= 1.8min\n",
      "[CV 3/5] END svc__C=1, svc__gamma=auto, svc__kernel=rbf; f1: (test=0.296) neg_log_loss: (test=-0.427) roc_auc: (test=0.631) total time= 1.8min\n",
      "[CV 4/5] END svc__C=1, svc__gamma=auto, svc__kernel=rbf; f1: (test=0.270) neg_log_loss: (test=-0.424) roc_auc: (test=0.644) total time= 1.8min\n",
      "[CV 5/5] END svc__C=1, svc__gamma=auto, svc__kernel=rbf; f1: (test=0.310) neg_log_loss: (test=-0.409) roc_auc: (test=0.660) total time= 1.8min\n",
      "[CV 1/5] END svc__C=1, svc__gamma=auto, svc__kernel=sigmoid; f1: (test=0.274) neg_log_loss: (test=-0.428) roc_auc: (test=0.612) total time= 1.8min\n",
      "[CV 2/5] END svc__C=1, svc__gamma=auto, svc__kernel=sigmoid; f1: (test=0.278) neg_log_loss: (test=-0.452) roc_auc: (test=0.561) total time= 1.9min\n",
      "[CV 3/5] END svc__C=1, svc__gamma=auto, svc__kernel=sigmoid; f1: (test=0.283) neg_log_loss: (test=-0.425) roc_auc: (test=0.621) total time= 1.9min\n",
      "[CV 4/5] END svc__C=1, svc__gamma=auto, svc__kernel=sigmoid; f1: (test=0.312) neg_log_loss: (test=-0.428) roc_auc: (test=0.606) total time= 1.9min\n",
      "[CV 5/5] END svc__C=1, svc__gamma=auto, svc__kernel=sigmoid; f1: (test=0.257) neg_log_loss: (test=-0.438) roc_auc: (test=0.570) total time= 1.8min\n",
      "[CV 1/5] END svc__C=1, svc__gamma=0.001, svc__kernel=rbf; f1: (test=0.460) neg_log_loss: (test=-0.382) roc_auc: (test=0.764) total time= 1.8min\n",
      "[CV 2/5] END svc__C=1, svc__gamma=0.001, svc__kernel=rbf; f1: (test=0.306) neg_log_loss: (test=-0.433) roc_auc: (test=0.632) total time= 1.7min\n",
      "[CV 4/5] END svc__C=1, svc__gamma=0.001, svc__kernel=rbf; f1: (test=0.321) neg_log_loss: (test=-0.424) roc_auc: (test=0.649) total time= 1.7min\n",
      "[CV 3/5] END svc__C=1, svc__gamma=0.001, svc__kernel=rbf; f1: (test=0.295) neg_log_loss: (test=-0.424) roc_auc: (test=0.643) total time= 1.7min\n",
      "[CV 5/5] END svc__C=1, svc__gamma=0.001, svc__kernel=rbf; f1: (test=0.336) neg_log_loss: (test=-0.411) roc_auc: (test=0.674) total time= 1.7min\n",
      "[CV 1/5] END svc__C=1, svc__gamma=0.001, svc__kernel=sigmoid; f1: (test=0.275) neg_log_loss: (test=-0.436) roc_auc: (test=0.566) total time= 1.3min\n",
      "[CV 2/5] END svc__C=1, svc__gamma=0.001, svc__kernel=sigmoid; f1: (test=0.285) neg_log_loss: (test=-0.451) roc_auc: (test=0.533) total time= 1.3min\n",
      "[CV 3/5] END svc__C=1, svc__gamma=0.001, svc__kernel=sigmoid; f1: (test=0.263) neg_log_loss: (test=-0.441) roc_auc: (test=0.528) total time= 1.4min\n",
      "[CV 4/5] END svc__C=1, svc__gamma=0.001, svc__kernel=sigmoid; f1: (test=0.193) neg_log_loss: (test=-0.436) roc_auc: (test=0.441) total time= 1.3min\n",
      "[CV 5/5] END svc__C=1, svc__gamma=0.001, svc__kernel=sigmoid; f1: (test=0.237) neg_log_loss: (test=-0.438) roc_auc: (test=0.477) total time= 1.4min\n",
      "[CV 1/5] END svc__C=1, svc__gamma=0.0001, svc__kernel=rbf; f1: (test=0.416) neg_log_loss: (test=-0.397) roc_auc: (test=0.743) total time= 2.0min\n",
      "[CV 2/5] END svc__C=1, svc__gamma=0.0001, svc__kernel=rbf; f1: (test=0.339) neg_log_loss: (test=-0.424) roc_auc: (test=0.629) total time= 1.9min\n",
      "[CV 4/5] END svc__C=1, svc__gamma=0.0001, svc__kernel=rbf; f1: (test=0.238) neg_log_loss: (test=-0.426) roc_auc: (test=0.633) total time= 1.9min\n",
      "[CV 3/5] END svc__C=1, svc__gamma=0.0001, svc__kernel=rbf; f1: (test=0.304) neg_log_loss: (test=-0.427) roc_auc: (test=0.634) total time= 1.9min\n",
      "[CV 5/5] END svc__C=1, svc__gamma=0.0001, svc__kernel=rbf; f1: (test=0.316) neg_log_loss: (test=-0.411) roc_auc: (test=0.651) total time= 1.9min\n",
      "[CV 1/5] END svc__C=1, svc__gamma=0.0001, svc__kernel=sigmoid; f1: (test=0.321) neg_log_loss: (test=-0.404) roc_auc: (test=0.748) total time= 1.8min\n",
      "[CV 2/5] END svc__C=1, svc__gamma=0.0001, svc__kernel=sigmoid; f1: (test=0.344) neg_log_loss: (test=-0.432) roc_auc: (test=0.626) total time= 1.9min\n",
      "[CV 4/5] END svc__C=1, svc__gamma=0.0001, svc__kernel=sigmoid; f1: (test=0.178) neg_log_loss: (test=-0.433) roc_auc: (test=0.610) total time= 1.9min\n",
      "[CV 3/5] END svc__C=1, svc__gamma=0.0001, svc__kernel=sigmoid; f1: (test=0.280) neg_log_loss: (test=-0.416) roc_auc: (test=0.659) total time= 1.9min\n",
      "[CV 5/5] END svc__C=1, svc__gamma=0.0001, svc__kernel=sigmoid; f1: (test=0.320) neg_log_loss: (test=-0.414) roc_auc: (test=0.639) total time= 1.9min\n",
      "[CV 1/5] END svc__C=10, svc__gamma=scale, svc__kernel=rbf; f1: (test=0.452) neg_log_loss: (test=-0.381) roc_auc: (test=0.760) total time= 1.8min\n",
      "[CV 2/5] END svc__C=10, svc__gamma=scale, svc__kernel=rbf; f1: (test=0.314) neg_log_loss: (test=-0.434) roc_auc: (test=0.629) total time= 1.7min\n",
      "[CV 3/5] END svc__C=10, svc__gamma=scale, svc__kernel=rbf; f1: (test=0.271) neg_log_loss: (test=-0.423) roc_auc: (test=0.649) total time= 1.7min\n",
      "[CV 4/5] END svc__C=10, svc__gamma=scale, svc__kernel=rbf; f1: (test=0.303) neg_log_loss: (test=-0.417) roc_auc: (test=0.655) total time= 1.7min\n",
      "[CV 5/5] END svc__C=10, svc__gamma=scale, svc__kernel=rbf; f1: (test=0.342) neg_log_loss: (test=-0.412) roc_auc: (test=0.680) total time= 1.7min\n",
      "[CV 1/5] END svc__C=10, svc__gamma=scale, svc__kernel=sigmoid; f1: (test=0.268) neg_log_loss: (test=-0.435) roc_auc: (test=0.516) total time= 1.1min\n",
      "[CV 2/5] END svc__C=10, svc__gamma=scale, svc__kernel=sigmoid; f1: (test=0.212) neg_log_loss: (test=-0.455) roc_auc: (test=0.460) total time= 1.1min\n",
      "[CV 4/5] END svc__C=10, svc__gamma=scale, svc__kernel=sigmoid; f1: (test=0.216) neg_log_loss: (test=-0.439) roc_auc: (test=0.453) total time= 1.1min\n",
      "[CV 3/5] END svc__C=10, svc__gamma=scale, svc__kernel=sigmoid; f1: (test=0.280) neg_log_loss: (test=-0.434) roc_auc: (test=0.580) total time= 1.2min\n",
      "[CV 5/5] END svc__C=10, svc__gamma=scale, svc__kernel=sigmoid; f1: (test=0.264) neg_log_loss: (test=-0.438) roc_auc: (test=0.540) total time= 1.1min\n",
      "[CV 1/5] END svc__C=10, svc__gamma=auto, svc__kernel=rbf; f1: (test=0.458) neg_log_loss: (test=-0.384) roc_auc: (test=0.759) total time= 1.8min\n",
      "[CV 2/5] END svc__C=10, svc__gamma=auto, svc__kernel=rbf; f1: (test=0.298) neg_log_loss: (test=-0.428) roc_auc: (test=0.627) total time= 1.7min\n",
      "[CV 3/5] END svc__C=10, svc__gamma=auto, svc__kernel=rbf; f1: (test=0.309) neg_log_loss: (test=-0.423) roc_auc: (test=0.642) total time= 1.7min\n",
      "[CV 4/5] END svc__C=10, svc__gamma=auto, svc__kernel=rbf; f1: (test=0.320) neg_log_loss: (test=-0.416) roc_auc: (test=0.659) total time= 1.7min\n",
      "[CV 5/5] END svc__C=10, svc__gamma=auto, svc__kernel=rbf; f1: (test=0.343) neg_log_loss: (test=-0.409) roc_auc: (test=0.679) total time= 1.7min\n",
      "[CV 1/5] END svc__C=10, svc__gamma=auto, svc__kernel=sigmoid; f1: (test=0.277) neg_log_loss: (test=-0.437) roc_auc: (test=0.517) total time= 1.4min\n",
      "[CV 2/5] END svc__C=10, svc__gamma=auto, svc__kernel=sigmoid; f1: (test=0.235) neg_log_loss: (test=-0.451) roc_auc: (test=0.525) total time= 1.4min\n",
      "[CV 3/5] END svc__C=10, svc__gamma=auto, svc__kernel=sigmoid; f1: (test=0.288) neg_log_loss: (test=-0.434) roc_auc: (test=0.616) total time= 1.4min\n",
      "[CV 4/5] END svc__C=10, svc__gamma=auto, svc__kernel=sigmoid; f1: (test=0.251) neg_log_loss: (test=-0.440) roc_auc: (test=0.438) total time= 1.5min\n",
      "[CV 5/5] END svc__C=10, svc__gamma=auto, svc__kernel=sigmoid; f1: (test=0.294) neg_log_loss: (test=-0.439) roc_auc: (test=0.559) total time= 1.5min\n",
      "[CV 1/5] END svc__C=10, svc__gamma=0.001, svc__kernel=rbf; f1: (test=0.436) neg_log_loss: (test=-0.380) roc_auc: (test=0.759) total time= 1.7min\n",
      "[CV 2/5] END svc__C=10, svc__gamma=0.001, svc__kernel=rbf; f1: (test=0.317) neg_log_loss: (test=-0.455) roc_auc: (test=0.611) total time= 1.6min\n",
      "[CV 3/5] END svc__C=10, svc__gamma=0.001, svc__kernel=rbf; f1: (test=0.260) neg_log_loss: (test=-0.428) roc_auc: (test=0.627) total time= 1.6min\n",
      "[CV 4/5] END svc__C=10, svc__gamma=0.001, svc__kernel=rbf; f1: (test=0.299) neg_log_loss: (test=-0.426) roc_auc: (test=0.647) total time= 1.6min\n",
      "[CV 5/5] END svc__C=10, svc__gamma=0.001, svc__kernel=rbf; f1: (test=0.299) neg_log_loss: (test=-0.427) roc_auc: (test=0.658) total time= 1.6min\n",
      "[CV 1/5] END svc__C=10, svc__gamma=0.001, svc__kernel=sigmoid; f1: (test=0.291) neg_log_loss: (test=-0.436) roc_auc: (test=0.568) total time= 1.1min\n",
      "[CV 2/5] END svc__C=10, svc__gamma=0.001, svc__kernel=sigmoid; f1: (test=0.285) neg_log_loss: (test=-0.451) roc_auc: (test=0.533) total time= 1.1min\n",
      "[CV 4/5] END svc__C=10, svc__gamma=0.001, svc__kernel=sigmoid; f1: (test=0.194) neg_log_loss: (test=-0.436) roc_auc: (test=0.442) total time= 1.1min\n",
      "[CV 3/5] END svc__C=10, svc__gamma=0.001, svc__kernel=sigmoid; f1: (test=0.270) neg_log_loss: (test=-0.441) roc_auc: (test=0.537) total time= 1.2min\n",
      "[CV 5/5] END svc__C=10, svc__gamma=0.001, svc__kernel=sigmoid; f1: (test=0.241) neg_log_loss: (test=-0.438) roc_auc: (test=0.492) total time= 1.2min\n",
      "[CV 1/5] END svc__C=10, svc__gamma=0.0001, svc__kernel=rbf; f1: (test=0.458) neg_log_loss: (test=-0.394) roc_auc: (test=0.749) total time= 1.8min\n",
      "[CV 2/5] END svc__C=10, svc__gamma=0.0001, svc__kernel=rbf; f1: (test=0.293) neg_log_loss: (test=-0.424) roc_auc: (test=0.619) total time= 1.8min\n",
      "[CV 3/5] END svc__C=10, svc__gamma=0.0001, svc__kernel=rbf; f1: (test=0.326) neg_log_loss: (test=-0.425) roc_auc: (test=0.632) total time= 1.8min\n",
      "[CV 4/5] END svc__C=10, svc__gamma=0.0001, svc__kernel=rbf; f1: (test=0.330) neg_log_loss: (test=-0.415) roc_auc: (test=0.667) total time= 1.8min\n",
      "[CV 5/5] END svc__C=10, svc__gamma=0.0001, svc__kernel=rbf; f1: (test=0.335) neg_log_loss: (test=-0.407) roc_auc: (test=0.674) total time= 1.8min\n",
      "[CV 1/5] END svc__C=10, svc__gamma=0.0001, svc__kernel=sigmoid; f1: (test=0.278) neg_log_loss: (test=-0.430) roc_auc: (test=0.624) total time= 1.7min\n",
      "[CV 2/5] END svc__C=10, svc__gamma=0.0001, svc__kernel=sigmoid; f1: (test=0.290) neg_log_loss: (test=-0.441) roc_auc: (test=0.584) total time= 1.7min\n",
      "[CV 3/5] END svc__C=10, svc__gamma=0.0001, svc__kernel=sigmoid; f1: (test=0.389) neg_log_loss: (test=-0.419) roc_auc: (test=0.663) total time= 1.7min\n",
      "[CV 4/5] END svc__C=10, svc__gamma=0.0001, svc__kernel=sigmoid; f1: (test=0.340) neg_log_loss: (test=-0.417) roc_auc: (test=0.675) total time= 1.7min\n",
      "[CV 5/5] END svc__C=10, svc__gamma=0.0001, svc__kernel=sigmoid; f1: (test=0.290) neg_log_loss: (test=-0.431) roc_auc: (test=0.610) total time= 1.7min\n",
      "[CV 1/5] END svc__C=100, svc__gamma=scale, svc__kernel=rbf; f1: (test=0.414) neg_log_loss: (test=-0.387) roc_auc: (test=0.739) total time= 1.7min\n",
      "[CV 2/5] END svc__C=100, svc__gamma=scale, svc__kernel=rbf; f1: (test=0.328) neg_log_loss: (test=-0.445) roc_auc: (test=0.633) total time= 1.6min\n",
      "[CV 4/5] END svc__C=100, svc__gamma=scale, svc__kernel=rbf; f1: (test=0.306) neg_log_loss: (test=-0.426) roc_auc: (test=0.644) total time= 1.6min\n",
      "[CV 3/5] END svc__C=100, svc__gamma=scale, svc__kernel=rbf; f1: (test=0.280) neg_log_loss: (test=-0.433) roc_auc: (test=0.623) total time= 1.6min\n",
      "[CV 5/5] END svc__C=100, svc__gamma=scale, svc__kernel=rbf; f1: (test=0.275) neg_log_loss: (test=-0.427) roc_auc: (test=0.670) total time= 1.6min\n",
      "[CV 1/5] END svc__C=100, svc__gamma=scale, svc__kernel=sigmoid; f1: (test=0.268) neg_log_loss: (test=-0.435) roc_auc: (test=0.516) total time= 1.0min\n",
      "[CV 2/5] END svc__C=100, svc__gamma=scale, svc__kernel=sigmoid; f1: (test=0.284) neg_log_loss: (test=-0.449) roc_auc: (test=0.569) total time= 1.0min\n",
      "[CV 4/5] END svc__C=100, svc__gamma=scale, svc__kernel=sigmoid; f1: (test=0.217) neg_log_loss: (test=-0.440) roc_auc: (test=0.454) total time= 1.0min\n",
      "[CV 3/5] END svc__C=100, svc__gamma=scale, svc__kernel=sigmoid; f1: (test=0.280) neg_log_loss: (test=-0.437) roc_auc: (test=0.580) total time= 1.1min\n",
      "[CV 5/5] END svc__C=100, svc__gamma=scale, svc__kernel=sigmoid; f1: (test=0.260) neg_log_loss: (test=-0.438) roc_auc: (test=0.541) total time= 1.1min\n",
      "[CV 1/5] END svc__C=100, svc__gamma=auto, svc__kernel=rbf; f1: (test=0.418) neg_log_loss: (test=-0.384) roc_auc: (test=0.749) total time= 1.7min\n",
      "[CV 2/5] END svc__C=100, svc__gamma=auto, svc__kernel=rbf; f1: (test=0.303) neg_log_loss: (test=-0.441) roc_auc: (test=0.639) total time= 1.6min\n",
      "[CV 3/5] END svc__C=100, svc__gamma=auto, svc__kernel=rbf; f1: (test=0.247) neg_log_loss: (test=-0.428) roc_auc: (test=0.634) total time= 1.7min\n",
      "[CV 4/5] END svc__C=100, svc__gamma=auto, svc__kernel=rbf; f1: (test=0.316) neg_log_loss: (test=-0.421) roc_auc: (test=0.651) total time= 1.6min\n",
      "[CV 5/5] END svc__C=100, svc__gamma=auto, svc__kernel=rbf; f1: (test=0.302) neg_log_loss: (test=-0.419) roc_auc: (test=0.683) total time= 1.6min\n",
      "[CV 2/5] END svc__C=100, svc__gamma=auto, svc__kernel=sigmoid; f1: (test=0.277) neg_log_loss: (test=-0.451) roc_auc: (test=0.577) total time= 1.1min\n",
      "[CV 1/5] END svc__C=100, svc__gamma=auto, svc__kernel=sigmoid; f1: (test=0.268) neg_log_loss: (test=-0.435) roc_auc: (test=0.517) total time= 1.1min\n",
      "[CV 3/5] END svc__C=100, svc__gamma=auto, svc__kernel=sigmoid; f1: (test=0.284) neg_log_loss: (test=-0.430) roc_auc: (test=0.614) total time= 1.1min\n",
      "[CV 4/5] END svc__C=100, svc__gamma=auto, svc__kernel=sigmoid; f1: (test=0.249) neg_log_loss: (test=-0.441) roc_auc: (test=0.438) total time= 1.2min\n",
      "[CV 5/5] END svc__C=100, svc__gamma=auto, svc__kernel=sigmoid; f1: (test=0.292) neg_log_loss: (test=-0.439) roc_auc: (test=0.556) total time= 1.2min\n",
      "[CV 2/5] END svc__C=100, svc__gamma=0.001, svc__kernel=rbf; f1: (test=0.262) neg_log_loss: (test=-0.476) roc_auc: (test=0.560) total time= 1.5min\n",
      "[CV 1/5] END svc__C=100, svc__gamma=0.001, svc__kernel=rbf; f1: (test=0.397) neg_log_loss: (test=-0.409) roc_auc: (test=0.683) total time= 1.6min\n",
      "[CV 4/5] END svc__C=100, svc__gamma=0.001, svc__kernel=rbf; f1: (test=0.312) neg_log_loss: (test=-0.456) roc_auc: (test=0.605) total time= 1.5min\n",
      "[CV 3/5] END svc__C=100, svc__gamma=0.001, svc__kernel=rbf; f1: (test=0.298) neg_log_loss: (test=-0.454) roc_auc: (test=0.591) total time= 1.5min\n",
      "[CV 5/5] END svc__C=100, svc__gamma=0.001, svc__kernel=rbf; f1: (test=0.275) neg_log_loss: (test=-0.454) roc_auc: (test=0.630) total time= 1.5min\n",
      "[CV 1/5] END svc__C=100, svc__gamma=0.001, svc__kernel=sigmoid; f1: (test=0.290) neg_log_loss: (test=-0.436) roc_auc: (test=0.568) total time= 1.1min\n",
      "[CV 2/5] END svc__C=100, svc__gamma=0.001, svc__kernel=sigmoid; f1: (test=0.283) neg_log_loss: (test=-0.451) roc_auc: (test=0.534) total time= 1.1min\n",
      "[CV 4/5] END svc__C=100, svc__gamma=0.001, svc__kernel=sigmoid; f1: (test=0.194) neg_log_loss: (test=-0.436) roc_auc: (test=0.442) total time= 1.1min\n",
      "[CV 3/5] END svc__C=100, svc__gamma=0.001, svc__kernel=sigmoid; f1: (test=0.270) neg_log_loss: (test=-0.441) roc_auc: (test=0.537) total time= 1.2min\n",
      "[CV 5/5] END svc__C=100, svc__gamma=0.001, svc__kernel=sigmoid; f1: (test=0.241) neg_log_loss: (test=-0.438) roc_auc: (test=0.492) total time= 1.2min\n",
      "[CV 2/5] END svc__C=100, svc__gamma=0.0001, svc__kernel=rbf; f1: (test=0.311) neg_log_loss: (test=-0.439) roc_auc: (test=0.625) total time= 1.7min\n",
      "[CV 1/5] END svc__C=100, svc__gamma=0.0001, svc__kernel=rbf; f1: (test=0.424) neg_log_loss: (test=-0.385) roc_auc: (test=0.750) total time= 1.8min\n",
      "[CV 3/5] END svc__C=100, svc__gamma=0.0001, svc__kernel=rbf; f1: (test=0.268) neg_log_loss: (test=-0.428) roc_auc: (test=0.633) total time= 1.7min\n",
      "[CV 4/5] END svc__C=100, svc__gamma=0.0001, svc__kernel=rbf; f1: (test=0.311) neg_log_loss: (test=-0.417) roc_auc: (test=0.657) total time= 1.7min\n",
      "[CV 5/5] END svc__C=100, svc__gamma=0.0001, svc__kernel=rbf; f1: (test=0.343) neg_log_loss: (test=-0.410) roc_auc: (test=0.687) total time= 1.7min\n",
      "[CV 2/5] END svc__C=100, svc__gamma=0.0001, svc__kernel=sigmoid; f1: (test=0.265) neg_log_loss: (test=-0.450) roc_auc: (test=0.560) total time= 1.3min\n",
      "[CV 1/5] END svc__C=100, svc__gamma=0.0001, svc__kernel=sigmoid; f1: (test=0.327) neg_log_loss: (test=-0.438) roc_auc: (test=0.623) total time= 1.4min\n",
      "[CV 3/5] END svc__C=100, svc__gamma=0.0001, svc__kernel=sigmoid; f1: (test=0.339) neg_log_loss: (test=-0.429) roc_auc: (test=0.648) total time= 1.4min\n",
      "[CV 4/5] END svc__C=100, svc__gamma=0.0001, svc__kernel=sigmoid; f1: (test=0.320) neg_log_loss: (test=-0.429) roc_auc: (test=0.638) total time= 1.4min\n",
      "[CV 5/5] END svc__C=100, svc__gamma=0.0001, svc__kernel=sigmoid; f1: (test=0.267) neg_log_loss: (test=-0.438) roc_auc: (test=0.544) total time= 1.4min\n",
      "[CV 1/5] END svc__C=0.01, svc__degree=3, svc__gamma=scale, svc__kernel=poly; f1: (test=0.300) neg_log_loss: (test=-0.435) roc_auc: (test=0.647) total time= 2.0min\n",
      "[CV 2/5] END svc__C=0.01, svc__degree=3, svc__gamma=scale, svc__kernel=poly; f1: (test=0.314) neg_log_loss: (test=-0.450) roc_auc: (test=0.598) total time= 2.1min\n",
      "[CV 3/5] END svc__C=0.01, svc__degree=3, svc__gamma=scale, svc__kernel=poly; f1: (test=0.316) neg_log_loss: (test=-0.437) roc_auc: (test=0.619) total time= 2.1min\n",
      "[CV 5/5] END svc__C=0.01, svc__degree=3, svc__gamma=scale, svc__kernel=poly; f1: (test=0.227) neg_log_loss: (test=-0.436) roc_auc: (test=0.561) total time= 2.0min\n",
      "[CV 4/5] END svc__C=0.01, svc__degree=3, svc__gamma=scale, svc__kernel=poly; f1: (test=0.180) neg_log_loss: (test=-0.435) roc_auc: (test=0.545) total time= 2.1min\n",
      "[CV 1/5] END svc__C=0.01, svc__degree=3, svc__gamma=auto, svc__kernel=poly; f1: (test=0.272) neg_log_loss: (test=-0.436) roc_auc: (test=0.647) total time= 2.0min\n",
      "[CV 2/5] END svc__C=0.01, svc__degree=3, svc__gamma=auto, svc__kernel=poly; f1: (test=0.000) neg_log_loss: (test=-0.451) roc_auc: (test=0.598) total time= 2.1min\n",
      "[CV 3/5] END svc__C=0.01, svc__degree=3, svc__gamma=auto, svc__kernel=poly; f1: (test=0.274) neg_log_loss: (test=-0.438) roc_auc: (test=0.619) total time= 2.0min\n",
      "[CV 4/5] END svc__C=0.01, svc__degree=3, svc__gamma=auto, svc__kernel=poly; f1: (test=0.272) neg_log_loss: (test=-0.435) roc_auc: (test=0.545) total time= 2.0min\n",
      "[CV 5/5] END svc__C=0.01, svc__degree=3, svc__gamma=auto, svc__kernel=poly; f1: (test=0.274) neg_log_loss: (test=-0.438) roc_auc: (test=0.553) total time= 2.1min\n",
      "[CV 1/5] END svc__C=0.01, svc__degree=3, svc__gamma=0.001, svc__kernel=poly; f1: (test=0.400) neg_log_loss: (test=-0.396) roc_auc: (test=0.744) total time= 1.9min\n",
      "[CV 2/5] END svc__C=0.01, svc__degree=3, svc__gamma=0.001, svc__kernel=poly; f1: (test=0.292) neg_log_loss: (test=-0.423) roc_auc: (test=0.633) total time= 1.8min\n",
      "[CV 3/5] END svc__C=0.01, svc__degree=3, svc__gamma=0.001, svc__kernel=poly; f1: (test=0.327) neg_log_loss: (test=-0.426) roc_auc: (test=0.624) total time= 1.8min\n",
      "[CV 4/5] END svc__C=0.01, svc__degree=3, svc__gamma=0.001, svc__kernel=poly; f1: (test=0.283) neg_log_loss: (test=-0.421) roc_auc: (test=0.648) total time= 1.8min\n",
      "[CV 5/5] END svc__C=0.01, svc__degree=3, svc__gamma=0.001, svc__kernel=poly; f1: (test=0.336) neg_log_loss: (test=-0.405) roc_auc: (test=0.667) total time= 1.9min\n",
      "[CV 1/5] END svc__C=0.01, svc__degree=3, svc__gamma=0.0001, svc__kernel=poly; f1: (test=0.272) neg_log_loss: (test=-0.435) roc_auc: (test=0.647) total time= 2.0min\n",
      "[CV 2/5] END svc__C=0.01, svc__degree=3, svc__gamma=0.0001, svc__kernel=poly; f1: (test=0.000) neg_log_loss: (test=-0.451) roc_auc: (test=0.598) total time= 2.1min\n",
      "[CV 3/5] END svc__C=0.01, svc__degree=3, svc__gamma=0.0001, svc__kernel=poly; f1: (test=0.274) neg_log_loss: (test=-0.438) roc_auc: (test=0.619) total time= 2.0min\n",
      "[CV 4/5] END svc__C=0.01, svc__degree=3, svc__gamma=0.0001, svc__kernel=poly; f1: (test=0.272) neg_log_loss: (test=-0.435) roc_auc: (test=0.545) total time= 2.1min\n",
      "[CV 5/5] END svc__C=0.01, svc__degree=3, svc__gamma=0.0001, svc__kernel=poly; f1: (test=0.274) neg_log_loss: (test=-0.438) roc_auc: (test=0.553) total time= 2.0min\n",
      "[CV 1/5] END svc__C=0.01, svc__degree=5, svc__gamma=scale, svc__kernel=poly; f1: (test=0.296) neg_log_loss: (test=-0.430) roc_auc: (test=0.657) total time= 2.0min\n",
      "[CV 2/5] END svc__C=0.01, svc__degree=5, svc__gamma=scale, svc__kernel=poly; f1: (test=0.300) neg_log_loss: (test=-0.444) roc_auc: (test=0.614) total time= 2.1min\n",
      "[CV 3/5] END svc__C=0.01, svc__degree=5, svc__gamma=scale, svc__kernel=poly; f1: (test=0.301) neg_log_loss: (test=-0.434) roc_auc: (test=0.626) total time= 2.0min\n",
      "[CV 4/5] END svc__C=0.01, svc__degree=5, svc__gamma=scale, svc__kernel=poly; f1: (test=0.232) neg_log_loss: (test=-0.435) roc_auc: (test=0.539) total time= 2.0min\n",
      "[CV 5/5] END svc__C=0.01, svc__degree=5, svc__gamma=scale, svc__kernel=poly; f1: (test=0.262) neg_log_loss: (test=-0.435) roc_auc: (test=0.577) total time= 2.1min\n",
      "[CV 1/5] END svc__C=0.01, svc__degree=5, svc__gamma=auto, svc__kernel=poly; f1: (test=0.272) neg_log_loss: (test=-0.436) roc_auc: (test=0.630) total time= 2.0min\n",
      "[CV 2/5] END svc__C=0.01, svc__degree=5, svc__gamma=auto, svc__kernel=poly; f1: (test=0.000) neg_log_loss: (test=-0.451) roc_auc: (test=0.599) total time= 2.0min\n",
      "[CV 3/5] END svc__C=0.01, svc__degree=5, svc__gamma=auto, svc__kernel=poly; f1: (test=0.274) neg_log_loss: (test=-0.438) roc_auc: (test=0.616) total time= 2.0min\n",
      "[CV 4/5] END svc__C=0.01, svc__degree=5, svc__gamma=auto, svc__kernel=poly; f1: (test=0.272) neg_log_loss: (test=-0.435) roc_auc: (test=0.538) total time= 2.0min\n",
      "[CV 5/5] END svc__C=0.01, svc__degree=5, svc__gamma=auto, svc__kernel=poly; f1: (test=0.274) neg_log_loss: (test=-0.438) roc_auc: (test=0.545) total time= 2.1min\n",
      "[CV 1/5] END svc__C=0.01, svc__degree=5, svc__gamma=0.001, svc__kernel=poly; f1: (test=0.456) neg_log_loss: (test=-0.386) roc_auc: (test=0.756) total time= 1.8min\n",
      "[CV 2/5] END svc__C=0.01, svc__degree=5, svc__gamma=0.001, svc__kernel=poly; f1: (test=0.292) neg_log_loss: (test=-0.426) roc_auc: (test=0.637) total time= 1.7min\n",
      "[CV 4/5] END svc__C=0.01, svc__degree=5, svc__gamma=0.001, svc__kernel=poly; f1: (test=0.312) neg_log_loss: (test=-0.413) roc_auc: (test=0.664) total time= 1.7min\n",
      "[CV 3/5] END svc__C=0.01, svc__degree=5, svc__gamma=0.001, svc__kernel=poly; f1: (test=0.277) neg_log_loss: (test=-0.423) roc_auc: (test=0.641) total time= 1.7min\n",
      "[CV 5/5] END svc__C=0.01, svc__degree=5, svc__gamma=0.001, svc__kernel=poly; f1: (test=0.374) neg_log_loss: (test=-0.415) roc_auc: (test=0.680) total time= 1.7min\n",
      "[CV 1/5] END svc__C=0.01, svc__degree=5, svc__gamma=0.0001, svc__kernel=poly; f1: (test=0.272) neg_log_loss: (test=-0.435) roc_auc: (test=0.630) total time= 2.0min\n",
      "[CV 2/5] END svc__C=0.01, svc__degree=5, svc__gamma=0.0001, svc__kernel=poly; f1: (test=0.000) neg_log_loss: (test=-0.451) roc_auc: (test=0.599) total time= 2.0min\n",
      "[CV 3/5] END svc__C=0.01, svc__degree=5, svc__gamma=0.0001, svc__kernel=poly; f1: (test=0.274) neg_log_loss: (test=-0.438) roc_auc: (test=0.616) total time= 2.0min\n",
      "[CV 4/5] END svc__C=0.01, svc__degree=5, svc__gamma=0.0001, svc__kernel=poly; f1: (test=0.272) neg_log_loss: (test=-0.435) roc_auc: (test=0.538) total time= 2.0min\n",
      "[CV 5/5] END svc__C=0.01, svc__degree=5, svc__gamma=0.0001, svc__kernel=poly; f1: (test=0.274) neg_log_loss: (test=-0.438) roc_auc: (test=0.545) total time= 2.1min\n",
      "[CV 1/5] END svc__C=0.1, svc__degree=3, svc__gamma=scale, svc__kernel=poly; f1: (test=0.392) neg_log_loss: (test=-0.395) roc_auc: (test=0.757) total time= 1.9min\n",
      "[CV 2/5] END svc__C=0.1, svc__degree=3, svc__gamma=scale, svc__kernel=poly; f1: (test=0.373) neg_log_loss: (test=-0.412) roc_auc: (test=0.658) total time= 2.0min\n",
      "[CV 3/5] END svc__C=0.1, svc__degree=3, svc__gamma=scale, svc__kernel=poly; f1: (test=0.342) neg_log_loss: (test=-0.426) roc_auc: (test=0.612) total time= 1.9min\n",
      "[CV 4/5] END svc__C=0.1, svc__degree=3, svc__gamma=scale, svc__kernel=poly; f1: (test=0.263) neg_log_loss: (test=-0.426) roc_auc: (test=0.626) total time= 1.9min\n",
      "[CV 5/5] END svc__C=0.1, svc__degree=3, svc__gamma=scale, svc__kernel=poly; f1: (test=0.319) neg_log_loss: (test=-0.403) roc_auc: (test=0.677) total time= 1.9min\n",
      "[CV 1/5] END svc__C=0.1, svc__degree=3, svc__gamma=auto, svc__kernel=poly; f1: (test=0.352) neg_log_loss: (test=-0.420) roc_auc: (test=0.685) total time= 2.0min\n",
      "[CV 2/5] END svc__C=0.1, svc__degree=3, svc__gamma=auto, svc__kernel=poly; f1: (test=0.357) neg_log_loss: (test=-0.436) roc_auc: (test=0.623) total time= 2.0min\n",
      "[CV 4/5] END svc__C=0.1, svc__degree=3, svc__gamma=auto, svc__kernel=poly; f1: (test=0.194) neg_log_loss: (test=-0.436) roc_auc: (test=0.556) total time= 2.0min\n",
      "[CV 3/5] END svc__C=0.1, svc__degree=3, svc__gamma=auto, svc__kernel=poly; f1: (test=0.274) neg_log_loss: (test=-0.429) roc_auc: (test=0.608) total time= 2.0min\n",
      "[CV 5/5] END svc__C=0.1, svc__degree=3, svc__gamma=auto, svc__kernel=poly; f1: (test=0.289) neg_log_loss: (test=-0.430) roc_auc: (test=0.594) total time= 2.0min\n",
      "[CV 1/5] END svc__C=0.1, svc__degree=3, svc__gamma=0.001, svc__kernel=poly; f1: (test=0.461) neg_log_loss: (test=-0.385) roc_auc: (test=0.757) total time= 1.8min\n",
      "[CV 2/5] END svc__C=0.1, svc__degree=3, svc__gamma=0.001, svc__kernel=poly; f1: (test=0.298) neg_log_loss: (test=-0.428) roc_auc: (test=0.625) total time= 1.7min\n",
      "[CV 4/5] END svc__C=0.1, svc__degree=3, svc__gamma=0.001, svc__kernel=poly; f1: (test=0.320) neg_log_loss: (test=-0.411) roc_auc: (test=0.671) total time= 1.7min\n",
      "[CV 3/5] END svc__C=0.1, svc__degree=3, svc__gamma=0.001, svc__kernel=poly; f1: (test=0.301) neg_log_loss: (test=-0.424) roc_auc: (test=0.639) total time= 1.7min\n",
      "[CV 5/5] END svc__C=0.1, svc__degree=3, svc__gamma=0.001, svc__kernel=poly; f1: (test=0.365) neg_log_loss: (test=-0.409) roc_auc: (test=0.679) total time= 1.7min\n",
      "[CV 1/5] END svc__C=0.1, svc__degree=3, svc__gamma=0.0001, svc__kernel=poly; f1: (test=0.272) neg_log_loss: (test=-0.436) roc_auc: (test=0.647) total time= 2.0min\n",
      "[CV 2/5] END svc__C=0.1, svc__degree=3, svc__gamma=0.0001, svc__kernel=poly; f1: (test=0.000) neg_log_loss: (test=-0.451) roc_auc: (test=0.598) total time= 2.1min\n",
      "[CV 3/5] END svc__C=0.1, svc__degree=3, svc__gamma=0.0001, svc__kernel=poly; f1: (test=0.274) neg_log_loss: (test=-0.438) roc_auc: (test=0.619) total time= 2.0min\n",
      "[CV 4/5] END svc__C=0.1, svc__degree=3, svc__gamma=0.0001, svc__kernel=poly; f1: (test=0.272) neg_log_loss: (test=-0.435) roc_auc: (test=0.545) total time= 2.1min\n",
      "[CV 5/5] END svc__C=0.1, svc__degree=3, svc__gamma=0.0001, svc__kernel=poly; f1: (test=0.274) neg_log_loss: (test=-0.438) roc_auc: (test=0.553) total time= 2.1min\n",
      "[CV 1/5] END svc__C=0.1, svc__degree=5, svc__gamma=scale, svc__kernel=poly; f1: (test=0.443) neg_log_loss: (test=-0.393) roc_auc: (test=0.744) total time= 1.9min\n",
      "[CV 2/5] END svc__C=0.1, svc__degree=5, svc__gamma=scale, svc__kernel=poly; f1: (test=0.323) neg_log_loss: (test=-0.412) roc_auc: (test=0.658) total time= 1.9min\n",
      "[CV 3/5] END svc__C=0.1, svc__degree=5, svc__gamma=scale, svc__kernel=poly; f1: (test=0.321) neg_log_loss: (test=-0.433) roc_auc: (test=0.606) total time= 1.9min\n",
      "[CV 4/5] END svc__C=0.1, svc__degree=5, svc__gamma=scale, svc__kernel=poly; f1: (test=0.332) neg_log_loss: (test=-0.421) roc_auc: (test=0.638) total time= 1.9min\n",
      "[CV 5/5] END svc__C=0.1, svc__degree=5, svc__gamma=scale, svc__kernel=poly; f1: (test=0.352) neg_log_loss: (test=-0.406) roc_auc: (test=0.678) total time= 1.9min\n",
      "[CV 1/5] END svc__C=0.1, svc__degree=5, svc__gamma=auto, svc__kernel=poly; f1: (test=0.287) neg_log_loss: (test=-0.433) roc_auc: (test=0.639) total time= 2.0min\n",
      "[CV 2/5] END svc__C=0.1, svc__degree=5, svc__gamma=auto, svc__kernel=poly; f1: (test=0.289) neg_log_loss: (test=-0.447) roc_auc: (test=0.611) total time= 2.1min\n",
      "[CV 3/5] END svc__C=0.1, svc__degree=5, svc__gamma=auto, svc__kernel=poly; f1: (test=0.267) neg_log_loss: (test=-0.436) roc_auc: (test=0.620) total time= 2.0min\n",
      "[CV 4/5] END svc__C=0.1, svc__degree=5, svc__gamma=auto, svc__kernel=poly; f1: (test=0.224) neg_log_loss: (test=-0.435) roc_auc: (test=0.539) total time= 2.0min\n",
      "[CV 5/5] END svc__C=0.1, svc__degree=5, svc__gamma=auto, svc__kernel=poly; f1: (test=0.268) neg_log_loss: (test=-0.435) roc_auc: (test=0.573) total time= 2.0min\n",
      "[CV 1/5] END svc__C=0.1, svc__degree=5, svc__gamma=0.001, svc__kernel=poly; f1: (test=0.438) neg_log_loss: (test=-0.386) roc_auc: (test=0.724) total time= 1.7min\n",
      "[CV 2/5] END svc__C=0.1, svc__degree=5, svc__gamma=0.001, svc__kernel=poly; f1: (test=0.308) neg_log_loss: (test=-0.439) roc_auc: (test=0.638) total time= 1.6min\n",
      "[CV 3/5] END svc__C=0.1, svc__degree=5, svc__gamma=0.001, svc__kernel=poly; f1: (test=0.312) neg_log_loss: (test=-0.422) roc_auc: (test=0.637) total time= 1.7min\n",
      "[CV 4/5] END svc__C=0.1, svc__degree=5, svc__gamma=0.001, svc__kernel=poly; f1: (test=0.305) neg_log_loss: (test=-0.426) roc_auc: (test=0.666) total time= 1.7min\n",
      "[CV 5/5] END svc__C=0.1, svc__degree=5, svc__gamma=0.001, svc__kernel=poly; f1: (test=0.280) neg_log_loss: (test=-0.425) roc_auc: (test=0.648) total time= 1.7min\n",
      "[CV 1/5] END svc__C=0.1, svc__degree=5, svc__gamma=0.0001, svc__kernel=poly; f1: (test=0.272) neg_log_loss: (test=-0.435) roc_auc: (test=0.630) total time= 2.0min\n",
      "[CV 2/5] END svc__C=0.1, svc__degree=5, svc__gamma=0.0001, svc__kernel=poly; f1: (test=0.000) neg_log_loss: (test=-0.451) roc_auc: (test=0.599) total time= 2.1min\n",
      "[CV 3/5] END svc__C=0.1, svc__degree=5, svc__gamma=0.0001, svc__kernel=poly; f1: (test=0.274) neg_log_loss: (test=-0.438) roc_auc: (test=0.616) total time= 2.0min\n",
      "[CV 4/5] END svc__C=0.1, svc__degree=5, svc__gamma=0.0001, svc__kernel=poly; f1: (test=0.272) neg_log_loss: (test=-0.435) roc_auc: (test=0.538) total time= 2.1min\n",
      "[CV 5/5] END svc__C=0.1, svc__degree=5, svc__gamma=0.0001, svc__kernel=poly; f1: (test=0.274) neg_log_loss: (test=-0.438) roc_auc: (test=0.545) total time= 2.1min\n",
      "[CV 1/5] END svc__C=1, svc__degree=3, svc__gamma=scale, svc__kernel=poly; f1: (test=0.462) neg_log_loss: (test=-0.394) roc_auc: (test=0.747) total time= 1.8min\n",
      "[CV 2/5] END svc__C=1, svc__degree=3, svc__gamma=scale, svc__kernel=poly; f1: (test=0.287) neg_log_loss: (test=-0.424) roc_auc: (test=0.629) total time= 1.8min\n",
      "[CV 3/5] END svc__C=1, svc__degree=3, svc__gamma=scale, svc__kernel=poly; f1: (test=0.307) neg_log_loss: (test=-0.425) roc_auc: (test=0.633) total time= 1.7min\n",
      "[CV 4/5] END svc__C=1, svc__degree=3, svc__gamma=scale, svc__kernel=poly; f1: (test=0.319) neg_log_loss: (test=-0.416) roc_auc: (test=0.664) total time= 1.8min\n",
      "[CV 5/5] END svc__C=1, svc__degree=3, svc__gamma=scale, svc__kernel=poly; f1: (test=0.353) neg_log_loss: (test=-0.408) roc_auc: (test=0.672) total time= 1.8min\n",
      "[CV 1/5] END svc__C=1, svc__degree=3, svc__gamma=auto, svc__kernel=poly; f1: (test=0.405) neg_log_loss: (test=-0.395) roc_auc: (test=0.745) total time= 1.9min\n",
      "[CV 2/5] END svc__C=1, svc__degree=3, svc__gamma=auto, svc__kernel=poly; f1: (test=0.314) neg_log_loss: (test=-0.419) roc_auc: (test=0.640) total time= 1.9min\n",
      "[CV 3/5] END svc__C=1, svc__degree=3, svc__gamma=auto, svc__kernel=poly; f1: (test=0.333) neg_log_loss: (test=-0.426) roc_auc: (test=0.620) total time= 1.8min\n",
      "[CV 4/5] END svc__C=1, svc__degree=3, svc__gamma=auto, svc__kernel=poly; f1: (test=0.280) neg_log_loss: (test=-0.422) roc_auc: (test=0.646) total time= 1.9min\n",
      "[CV 5/5] END svc__C=1, svc__degree=3, svc__gamma=auto, svc__kernel=poly; f1: (test=0.340) neg_log_loss: (test=-0.403) roc_auc: (test=0.671) total time= 1.9min\n",
      "[CV 1/5] END svc__C=1, svc__degree=3, svc__gamma=0.001, svc__kernel=poly; f1: (test=0.436) neg_log_loss: (test=-0.381) roc_auc: (test=0.747) total time= 1.7min\n",
      "[CV 2/5] END svc__C=1, svc__degree=3, svc__gamma=0.001, svc__kernel=poly; f1: (test=0.297) neg_log_loss: (test=-0.441) roc_auc: (test=0.626) total time= 1.6min\n",
      "[CV 3/5] END svc__C=1, svc__degree=3, svc__gamma=0.001, svc__kernel=poly; f1: (test=0.281) neg_log_loss: (test=-0.426) roc_auc: (test=0.644) total time= 1.7min\n",
      "[CV 4/5] END svc__C=1, svc__degree=3, svc__gamma=0.001, svc__kernel=poly; f1: (test=0.330) neg_log_loss: (test=-0.405) roc_auc: (test=0.676) total time= 1.7min\n",
      "[CV 5/5] END svc__C=1, svc__degree=3, svc__gamma=0.001, svc__kernel=poly; f1: (test=0.307) neg_log_loss: (test=-0.417) roc_auc: (test=0.676) total time= 1.7min\n",
      "[CV 1/5] END svc__C=1, svc__degree=3, svc__gamma=0.0001, svc__kernel=poly; f1: (test=0.363) neg_log_loss: (test=-0.412) roc_auc: (test=0.710) total time= 2.0min\n",
      "[CV 2/5] END svc__C=1, svc__degree=3, svc__gamma=0.0001, svc__kernel=poly; f1: (test=0.398) neg_log_loss: (test=-0.427) roc_auc: (test=0.627) total time= 2.0min\n",
      "[CV 3/5] END svc__C=1, svc__degree=3, svc__gamma=0.0001, svc__kernel=poly; f1: (test=0.303) neg_log_loss: (test=-0.429) roc_auc: (test=0.594) total time= 2.0min\n",
      "[CV 4/5] END svc__C=1, svc__degree=3, svc__gamma=0.0001, svc__kernel=poly; f1: (test=0.201) neg_log_loss: (test=-0.435) roc_auc: (test=0.575) total time= 2.0min\n",
      "[CV 5/5] END svc__C=1, svc__degree=3, svc__gamma=0.0001, svc__kernel=poly; f1: (test=0.299) neg_log_loss: (test=-0.427) roc_auc: (test=0.598) total time= 2.0min\n",
      "[CV 1/5] END svc__C=1, svc__degree=5, svc__gamma=scale, svc__kernel=poly; f1: (test=0.429) neg_log_loss: (test=-0.390) roc_auc: (test=0.753) total time= 1.8min\n",
      "[CV 2/5] END svc__C=1, svc__degree=5, svc__gamma=scale, svc__kernel=poly; f1: (test=0.314) neg_log_loss: (test=-0.422) roc_auc: (test=0.642) total time= 1.7min\n",
      "[CV 3/5] END svc__C=1, svc__degree=5, svc__gamma=scale, svc__kernel=poly; f1: (test=0.279) neg_log_loss: (test=-0.426) roc_auc: (test=0.634) total time= 1.7min\n",
      "[CV 4/5] END svc__C=1, svc__degree=5, svc__gamma=scale, svc__kernel=poly; f1: (test=0.309) neg_log_loss: (test=-0.414) roc_auc: (test=0.668) total time= 1.8min\n",
      "[CV 5/5] END svc__C=1, svc__degree=5, svc__gamma=scale, svc__kernel=poly; f1: (test=0.352) neg_log_loss: (test=-0.410) roc_auc: (test=0.682) total time= 1.8min\n",
      "[CV 1/5] END svc__C=1, svc__degree=5, svc__gamma=auto, svc__kernel=poly; f1: (test=0.443) neg_log_loss: (test=-0.393) roc_auc: (test=0.744) total time= 2.0min\n",
      "[CV 2/5] END svc__C=1, svc__degree=5, svc__gamma=auto, svc__kernel=poly; f1: (test=0.321) neg_log_loss: (test=-0.412) roc_auc: (test=0.661) total time= 1.9min\n",
      "[CV 3/5] END svc__C=1, svc__degree=5, svc__gamma=auto, svc__kernel=poly; f1: (test=0.337) neg_log_loss: (test=-0.433) roc_auc: (test=0.604) total time= 1.9min\n",
      "[CV 4/5] END svc__C=1, svc__degree=5, svc__gamma=auto, svc__kernel=poly; f1: (test=0.293) neg_log_loss: (test=-0.422) roc_auc: (test=0.633) total time= 1.9min\n",
      "[CV 5/5] END svc__C=1, svc__degree=5, svc__gamma=auto, svc__kernel=poly; f1: (test=0.354) neg_log_loss: (test=-0.408) roc_auc: (test=0.677) total time= 1.9min\n",
      "[CV 2/5] END svc__C=1, svc__degree=5, svc__gamma=0.001, svc__kernel=poly; f1: (test=0.272) neg_log_loss: (test=-0.450) roc_auc: (test=0.616) total time= 1.5min\n",
      "[CV 3/5] END svc__C=1, svc__degree=5, svc__gamma=0.001, svc__kernel=poly; f1: (test=0.291) neg_log_loss: (test=-0.449) roc_auc: (test=0.565) total time= 1.5min\n",
      "[CV 1/5] END svc__C=1, svc__degree=5, svc__gamma=0.001, svc__kernel=poly; f1: (test=0.390) neg_log_loss: (test=-0.407) roc_auc: (test=0.659) total time= 1.6min\n",
      "[CV 4/5] END svc__C=1, svc__degree=5, svc__gamma=0.001, svc__kernel=poly; f1: (test=0.284) neg_log_loss: (test=-0.468) roc_auc: (test=0.612) total time= 1.5min\n",
      "[CV 5/5] END svc__C=1, svc__degree=5, svc__gamma=0.001, svc__kernel=poly; f1: (test=0.274) neg_log_loss: (test=-0.466) roc_auc: (test=0.600) total time= 1.6min\n",
      "[CV 1/5] END svc__C=1, svc__degree=5, svc__gamma=0.0001, svc__kernel=poly; f1: (test=0.272) neg_log_loss: (test=-0.436) roc_auc: (test=0.630) total time= 2.1min\n",
      "[CV 2/5] END svc__C=1, svc__degree=5, svc__gamma=0.0001, svc__kernel=poly; f1: (test=0.021) neg_log_loss: (test=-0.451) roc_auc: (test=0.599) total time= 2.0min\n",
      "[CV 3/5] END svc__C=1, svc__degree=5, svc__gamma=0.0001, svc__kernel=poly; f1: (test=0.274) neg_log_loss: (test=-0.438) roc_auc: (test=0.616) total time= 2.0min\n",
      "[CV 4/5] END svc__C=1, svc__degree=5, svc__gamma=0.0001, svc__kernel=poly; f1: (test=0.254) neg_log_loss: (test=-0.435) roc_auc: (test=0.538) total time= 2.0min\n",
      "[CV 5/5] END svc__C=1, svc__degree=5, svc__gamma=0.0001, svc__kernel=poly; f1: (test=0.268) neg_log_loss: (test=-0.438) roc_auc: (test=0.545) total time= 2.1min\n",
      "[CV 2/5] END svc__C=10, svc__degree=3, svc__gamma=scale, svc__kernel=poly; f1: (test=0.318) neg_log_loss: (test=-0.434) roc_auc: (test=0.622) total time= 1.6min\n",
      "[CV 1/5] END svc__C=10, svc__degree=3, svc__gamma=scale, svc__kernel=poly; f1: (test=0.463) neg_log_loss: (test=-0.381) roc_auc: (test=0.758) total time= 1.7min\n",
      "[CV 3/5] END svc__C=10, svc__degree=3, svc__gamma=scale, svc__kernel=poly; f1: (test=0.284) neg_log_loss: (test=-0.424) roc_auc: (test=0.644) total time= 1.7min\n",
      "[CV 4/5] END svc__C=10, svc__degree=3, svc__gamma=scale, svc__kernel=poly; f1: (test=0.320) neg_log_loss: (test=-0.409) roc_auc: (test=0.673) total time= 1.7min\n",
      "[CV 5/5] END svc__C=10, svc__degree=3, svc__gamma=scale, svc__kernel=poly; f1: (test=0.353) neg_log_loss: (test=-0.413) roc_auc: (test=0.683) total time= 1.7min\n",
      "[CV 1/5] END svc__C=10, svc__degree=3, svc__gamma=auto, svc__kernel=poly; f1: (test=0.463) neg_log_loss: (test=-0.386) roc_auc: (test=0.756) total time= 1.8min\n",
      "[CV 2/5] END svc__C=10, svc__degree=3, svc__gamma=auto, svc__kernel=poly; f1: (test=0.297) neg_log_loss: (test=-0.427) roc_auc: (test=0.625) total time= 1.7min\n",
      "[CV 3/5] END svc__C=10, svc__degree=3, svc__gamma=auto, svc__kernel=poly; f1: (test=0.298) neg_log_loss: (test=-0.425) roc_auc: (test=0.638) total time= 1.7min\n",
      "[CV 4/5] END svc__C=10, svc__degree=3, svc__gamma=auto, svc__kernel=poly; f1: (test=0.333) neg_log_loss: (test=-0.412) roc_auc: (test=0.672) total time= 1.7min\n",
      "[CV 5/5] END svc__C=10, svc__degree=3, svc__gamma=auto, svc__kernel=poly; f1: (test=0.358) neg_log_loss: (test=-0.409) roc_auc: (test=0.678) total time= 1.7min\n",
      "[CV 2/5] END svc__C=10, svc__degree=3, svc__gamma=0.001, svc__kernel=poly; f1: (test=0.327) neg_log_loss: (test=-0.439) roc_auc: (test=0.630) total time= 1.5min\n",
      "[CV 1/5] END svc__C=10, svc__degree=3, svc__gamma=0.001, svc__kernel=poly; f1: (test=0.414) neg_log_loss: (test=-0.383) roc_auc: (test=0.723) total time= 1.6min\n",
      "[CV 3/5] END svc__C=10, svc__degree=3, svc__gamma=0.001, svc__kernel=poly; f1: (test=0.331) neg_log_loss: (test=-0.438) roc_auc: (test=0.601) total time= 1.6min\n",
      "[CV 4/5] END svc__C=10, svc__degree=3, svc__gamma=0.001, svc__kernel=poly; f1: (test=0.315) neg_log_loss: (test=-0.434) roc_auc: (test=0.642) total time= 1.6min\n",
      "[CV 5/5] END svc__C=10, svc__degree=3, svc__gamma=0.001, svc__kernel=poly; f1: (test=0.299) neg_log_loss: (test=-0.437) roc_auc: (test=0.646) total time= 1.6min\n",
      "[CV 2/5] END svc__C=10, svc__degree=3, svc__gamma=0.0001, svc__kernel=poly; f1: (test=0.292) neg_log_loss: (test=-0.423) roc_auc: (test=0.633) total time= 1.8min\n",
      "[CV 1/5] END svc__C=10, svc__degree=3, svc__gamma=0.0001, svc__kernel=poly; f1: (test=0.400) neg_log_loss: (test=-0.396) roc_auc: (test=0.744) total time= 1.9min\n",
      "[CV 3/5] END svc__C=10, svc__degree=3, svc__gamma=0.0001, svc__kernel=poly; f1: (test=0.327) neg_log_loss: (test=-0.426) roc_auc: (test=0.624) total time= 1.8min\n",
      "[CV 4/5] END svc__C=10, svc__degree=3, svc__gamma=0.0001, svc__kernel=poly; f1: (test=0.283) neg_log_loss: (test=-0.421) roc_auc: (test=0.648) total time= 1.8min\n",
      "[CV 5/5] END svc__C=10, svc__degree=3, svc__gamma=0.0001, svc__kernel=poly; f1: (test=0.336) neg_log_loss: (test=-0.405) roc_auc: (test=0.667) total time= 1.9min\n",
      "[CV 1/5] END svc__C=10, svc__degree=5, svc__gamma=scale, svc__kernel=poly; f1: (test=0.448) neg_log_loss: (test=-0.384) roc_auc: (test=0.749) total time= 1.7min\n",
      "[CV 2/5] END svc__C=10, svc__degree=5, svc__gamma=scale, svc__kernel=poly; f1: (test=0.303) neg_log_loss: (test=-0.435) roc_auc: (test=0.631) total time= 1.6min\n",
      "[CV 3/5] END svc__C=10, svc__degree=5, svc__gamma=scale, svc__kernel=poly; f1: (test=0.303) neg_log_loss: (test=-0.420) roc_auc: (test=0.643) total time= 1.7min\n",
      "[CV 4/5] END svc__C=10, svc__degree=5, svc__gamma=scale, svc__kernel=poly; f1: (test=0.308) neg_log_loss: (test=-0.415) roc_auc: (test=0.665) total time= 1.7min\n",
      "[CV 5/5] END svc__C=10, svc__degree=5, svc__gamma=scale, svc__kernel=poly; f1: (test=0.290) neg_log_loss: (test=-0.421) roc_auc: (test=0.665) total time= 1.7min\n",
      "[CV 2/5] END svc__C=10, svc__degree=5, svc__gamma=auto, svc__kernel=poly; f1: (test=0.311) neg_log_loss: (test=-0.422) roc_auc: (test=0.639) total time= 1.7min\n",
      "[CV 1/5] END svc__C=10, svc__degree=5, svc__gamma=auto, svc__kernel=poly; f1: (test=0.424) neg_log_loss: (test=-0.391) roc_auc: (test=0.752) total time= 1.8min\n",
      "[CV 3/5] END svc__C=10, svc__degree=5, svc__gamma=auto, svc__kernel=poly; f1: (test=0.276) neg_log_loss: (test=-0.427) roc_auc: (test=0.633) total time= 1.8min\n",
      "[CV 4/5] END svc__C=10, svc__degree=5, svc__gamma=auto, svc__kernel=poly; f1: (test=0.318) neg_log_loss: (test=-0.414) roc_auc: (test=0.667) total time= 1.7min\n",
      "[CV 5/5] END svc__C=10, svc__degree=5, svc__gamma=auto, svc__kernel=poly; f1: (test=0.333) neg_log_loss: (test=-0.410) roc_auc: (test=0.680) total time= 1.7min\n",
      "[CV 2/5] END svc__C=10, svc__degree=5, svc__gamma=0.001, svc__kernel=poly; f1: (test=0.232) neg_log_loss: (test=-0.510) roc_auc: (test=0.545) total time= 1.3min\n",
      "[CV 1/5] END svc__C=10, svc__degree=5, svc__gamma=0.001, svc__kernel=poly; f1: (test=0.338) neg_log_loss: (test=-0.448) roc_auc: (test=0.613) total time= 1.5min\n",
      "[CV 3/5] END svc__C=10, svc__degree=5, svc__gamma=0.001, svc__kernel=poly; f1: (test=0.181) neg_log_loss: (test=-0.547) roc_auc: (test=0.487) total time= 1.3min\n",
      "[CV 4/5] END svc__C=10, svc__degree=5, svc__gamma=0.001, svc__kernel=poly; f1: (test=0.246) neg_log_loss: (test=-0.502) roc_auc: (test=0.599) total time= 1.4min\n",
      "[CV 5/5] END svc__C=10, svc__degree=5, svc__gamma=0.001, svc__kernel=poly; f1: (test=0.243) neg_log_loss: (test=-0.505) roc_auc: (test=0.575) total time= 1.4min\n",
      "[CV 1/5] END svc__C=10, svc__degree=5, svc__gamma=0.0001, svc__kernel=poly; f1: (test=0.400) neg_log_loss: (test=-0.406) roc_auc: (test=0.738) total time= 1.9min\n",
      "[CV 3/5] END svc__C=10, svc__degree=5, svc__gamma=0.0001, svc__kernel=poly; f1: (test=0.347) neg_log_loss: (test=-0.432) roc_auc: (test=0.600) total time= 2.0min\n",
      "[CV 2/5] END svc__C=10, svc__degree=5, svc__gamma=0.0001, svc__kernel=poly; f1: (test=0.341) neg_log_loss: (test=-0.425) roc_auc: (test=0.634) total time= 2.0min\n",
      "[CV 4/5] END svc__C=10, svc__degree=5, svc__gamma=0.0001, svc__kernel=poly; f1: (test=0.263) neg_log_loss: (test=-0.430) roc_auc: (test=0.598) total time= 2.0min\n",
      "[CV 5/5] END svc__C=10, svc__degree=5, svc__gamma=0.0001, svc__kernel=poly; f1: (test=0.303) neg_log_loss: (test=-0.424) roc_auc: (test=0.604) total time= 2.0min\n",
      "[CV 1/5] END svc__C=100, svc__degree=3, svc__gamma=scale, svc__kernel=poly; f1: (test=0.419) neg_log_loss: (test=-0.379) roc_auc: (test=0.736) total time= 1.7min\n",
      "[CV 2/5] END svc__C=100, svc__degree=3, svc__gamma=scale, svc__kernel=poly; f1: (test=0.312) neg_log_loss: (test=-0.438) roc_auc: (test=0.642) total time= 1.6min\n",
      "[CV 3/5] END svc__C=100, svc__degree=3, svc__gamma=scale, svc__kernel=poly; f1: (test=0.319) neg_log_loss: (test=-0.431) roc_auc: (test=0.623) total time= 1.7min\n",
      "[CV 4/5] END svc__C=100, svc__degree=3, svc__gamma=scale, svc__kernel=poly; f1: (test=0.303) neg_log_loss: (test=-0.414) roc_auc: (test=0.672) total time= 1.7min\n",
      "[CV 5/5] END svc__C=100, svc__degree=3, svc__gamma=scale, svc__kernel=poly; f1: (test=0.276) neg_log_loss: (test=-0.423) roc_auc: (test=0.666) total time= 1.6min\n",
      "[CV 2/5] END svc__C=100, svc__degree=3, svc__gamma=auto, svc__kernel=poly; f1: (test=0.315) neg_log_loss: (test=-0.438) roc_auc: (test=0.626) total time= 1.6min\n",
      "[CV 1/5] END svc__C=100, svc__degree=3, svc__gamma=auto, svc__kernel=poly; f1: (test=0.430) neg_log_loss: (test=-0.383) roc_auc: (test=0.748) total time= 1.7min\n",
      "[CV 3/5] END svc__C=100, svc__degree=3, svc__gamma=auto, svc__kernel=poly; f1: (test=0.293) neg_log_loss: (test=-0.425) roc_auc: (test=0.646) total time= 1.7min\n",
      "[CV 4/5] END svc__C=100, svc__degree=3, svc__gamma=auto, svc__kernel=poly; f1: (test=0.337) neg_log_loss: (test=-0.405) roc_auc: (test=0.674) total time= 1.7min\n",
      "[CV 5/5] END svc__C=100, svc__degree=3, svc__gamma=auto, svc__kernel=poly; f1: (test=0.341) neg_log_loss: (test=-0.416) roc_auc: (test=0.675) total time= 1.6min\n",
      "[CV 2/5] END svc__C=100, svc__degree=3, svc__gamma=0.001, svc__kernel=poly; f1: (test=0.264) neg_log_loss: (test=-0.500) roc_auc: (test=0.537) total time= 1.4min\n",
      "[CV 1/5] END svc__C=100, svc__degree=3, svc__gamma=0.001, svc__kernel=poly; f1: (test=0.377) neg_log_loss: (test=-0.433) roc_auc: (test=0.648) total time= 1.5min\n",
      "[CV 3/5] END svc__C=100, svc__degree=3, svc__gamma=0.001, svc__kernel=poly; f1: (test=0.235) neg_log_loss: (test=-0.490) roc_auc: (test=0.548) total time= 1.5min\n",
      "[CV 4/5] END svc__C=100, svc__degree=3, svc__gamma=0.001, svc__kernel=poly; f1: (test=0.309) neg_log_loss: (test=-0.454) roc_auc: (test=0.640) total time= 1.5min\n",
      "[CV 5/5] END svc__C=100, svc__degree=3, svc__gamma=0.001, svc__kernel=poly; f1: (test=0.268) neg_log_loss: (test=-0.486) roc_auc: (test=0.603) total time= 1.5min\n",
      "[CV 1/5] END svc__C=100, svc__degree=3, svc__gamma=0.0001, svc__kernel=poly; f1: (test=0.461) neg_log_loss: (test=-0.385) roc_auc: (test=0.757) total time= 1.7min\n",
      "[CV 2/5] END svc__C=100, svc__degree=3, svc__gamma=0.0001, svc__kernel=poly; f1: (test=0.298) neg_log_loss: (test=-0.428) roc_auc: (test=0.625) total time= 1.6min\n",
      "[CV 3/5] END svc__C=100, svc__degree=3, svc__gamma=0.0001, svc__kernel=poly; f1: (test=0.301) neg_log_loss: (test=-0.424) roc_auc: (test=0.639) total time= 1.7min\n",
      "[CV 4/5] END svc__C=100, svc__degree=3, svc__gamma=0.0001, svc__kernel=poly; f1: (test=0.320) neg_log_loss: (test=-0.411) roc_auc: (test=0.672) total time= 1.7min\n",
      "[CV 5/5] END svc__C=100, svc__degree=3, svc__gamma=0.0001, svc__kernel=poly; f1: (test=0.365) neg_log_loss: (test=-0.409) roc_auc: (test=0.679) total time= 1.7min\n",
      "[CV 2/5] END svc__C=100, svc__degree=5, svc__gamma=scale, svc__kernel=poly; f1: (test=0.315) neg_log_loss: (test=-0.444) roc_auc: (test=0.625) total time= 1.5min\n",
      "[CV 1/5] END svc__C=100, svc__degree=5, svc__gamma=scale, svc__kernel=poly; f1: (test=0.416) neg_log_loss: (test=-0.392) roc_auc: (test=0.699) total time= 1.7min\n",
      "[CV 3/5] END svc__C=100, svc__degree=5, svc__gamma=scale, svc__kernel=poly; f1: (test=0.306) neg_log_loss: (test=-0.433) roc_auc: (test=0.600) total time= 1.6min\n",
      "[CV 4/5] END svc__C=100, svc__degree=5, svc__gamma=scale, svc__kernel=poly; f1: (test=0.315) neg_log_loss: (test=-0.446) roc_auc: (test=0.642) total time= 1.6min\n",
      "[CV 5/5] END svc__C=100, svc__degree=5, svc__gamma=scale, svc__kernel=poly; f1: (test=0.280) neg_log_loss: (test=-0.448) roc_auc: (test=0.622) total time= 1.6min\n",
      "[CV 2/5] END svc__C=100, svc__degree=5, svc__gamma=auto, svc__kernel=poly; f1: (test=0.302) neg_log_loss: (test=-0.434) roc_auc: (test=0.630) total time= 1.6min\n",
      "[CV 1/5] END svc__C=100, svc__degree=5, svc__gamma=auto, svc__kernel=poly; f1: (test=0.448) neg_log_loss: (test=-0.385) roc_auc: (test=0.751) total time= 1.7min\n",
      "[CV 3/5] END svc__C=100, svc__degree=5, svc__gamma=auto, svc__kernel=poly; f1: (test=0.314) neg_log_loss: (test=-0.420) roc_auc: (test=0.645) total time= 1.7min\n",
      "[CV 4/5] END svc__C=100, svc__degree=5, svc__gamma=auto, svc__kernel=poly; f1: (test=0.302) neg_log_loss: (test=-0.415) roc_auc: (test=0.665) total time= 1.6min\n",
      "[CV 5/5] END svc__C=100, svc__degree=5, svc__gamma=auto, svc__kernel=poly; f1: (test=0.302) neg_log_loss: (test=-0.421) roc_auc: (test=0.666) total time= 1.6min\n",
      "[CV 2/5] END svc__C=100, svc__degree=5, svc__gamma=0.001, svc__kernel=poly; f1: (test=0.199) neg_log_loss: (test=-0.491) roc_auc: (test=0.537) total time= 1.2min\n",
      "[CV 1/5] END svc__C=100, svc__degree=5, svc__gamma=0.001, svc__kernel=poly; f1: (test=0.322) neg_log_loss: (test=-0.469) roc_auc: (test=0.553) total time= 1.3min\n",
      "[CV 3/5] END svc__C=100, svc__degree=5, svc__gamma=0.001, svc__kernel=poly; f1: (test=0.119) neg_log_loss: (test=-0.550) roc_auc: (test=0.521) total time= 1.2min\n",
      "[CV 4/5] END svc__C=100, svc__degree=5, svc__gamma=0.001, svc__kernel=poly; f1: (test=0.197) neg_log_loss: (test=-0.472) roc_auc: (test=0.542) total time= 1.2min\n",
      "[CV 5/5] END svc__C=100, svc__degree=5, svc__gamma=0.001, svc__kernel=poly; f1: (test=0.247) neg_log_loss: (test=-0.484) roc_auc: (test=0.585) total time= 1.3min\n",
      "[CV 1/5] END svc__C=100, svc__degree=5, svc__gamma=0.0001, svc__kernel=poly; f1: (test=0.429) neg_log_loss: (test=-0.395) roc_auc: (test=0.744) total time= 1.7min\n",
      "[CV 2/5] END svc__C=100, svc__degree=5, svc__gamma=0.0001, svc__kernel=poly; f1: (test=0.301) neg_log_loss: (test=-0.420) roc_auc: (test=0.637) total time= 1.7min\n",
      "[CV 3/5] END svc__C=100, svc__degree=5, svc__gamma=0.0001, svc__kernel=poly; f1: (test=0.287) neg_log_loss: (test=-0.432) roc_auc: (test=0.621) total time= 1.6min\n",
      "[CV 4/5] END svc__C=100, svc__degree=5, svc__gamma=0.0001, svc__kernel=poly; f1: (test=0.327) neg_log_loss: (test=-0.415) roc_auc: (test=0.665) total time= 1.5min\n",
      "[CV 5/5] END svc__C=100, svc__degree=5, svc__gamma=0.0001, svc__kernel=poly; f1: (test=0.335) neg_log_loss: (test=-0.407) roc_auc: (test=0.673) total time= 1.3min\n"
     ]
    },
    {
     "data": {
      "text/html": [
       "<style>#sk-container-id-1 {color: black;background-color: white;}#sk-container-id-1 pre{padding: 0;}#sk-container-id-1 div.sk-toggleable {background-color: white;}#sk-container-id-1 label.sk-toggleable__label {cursor: pointer;display: block;width: 100%;margin-bottom: 0;padding: 0.3em;box-sizing: border-box;text-align: center;}#sk-container-id-1 label.sk-toggleable__label-arrow:before {content: \"▸\";float: left;margin-right: 0.25em;color: #696969;}#sk-container-id-1 label.sk-toggleable__label-arrow:hover:before {color: black;}#sk-container-id-1 div.sk-estimator:hover label.sk-toggleable__label-arrow:before {color: black;}#sk-container-id-1 div.sk-toggleable__content {max-height: 0;max-width: 0;overflow: hidden;text-align: left;background-color: #f0f8ff;}#sk-container-id-1 div.sk-toggleable__content pre {margin: 0.2em;color: black;border-radius: 0.25em;background-color: #f0f8ff;}#sk-container-id-1 input.sk-toggleable__control:checked~div.sk-toggleable__content {max-height: 200px;max-width: 100%;overflow: auto;}#sk-container-id-1 input.sk-toggleable__control:checked~label.sk-toggleable__label-arrow:before {content: \"▾\";}#sk-container-id-1 div.sk-estimator input.sk-toggleable__control:checked~label.sk-toggleable__label {background-color: #d4ebff;}#sk-container-id-1 div.sk-label input.sk-toggleable__control:checked~label.sk-toggleable__label {background-color: #d4ebff;}#sk-container-id-1 input.sk-hidden--visually {border: 0;clip: rect(1px 1px 1px 1px);clip: rect(1px, 1px, 1px, 1px);height: 1px;margin: -1px;overflow: hidden;padding: 0;position: absolute;width: 1px;}#sk-container-id-1 div.sk-estimator {font-family: monospace;background-color: #f0f8ff;border: 1px dotted black;border-radius: 0.25em;box-sizing: border-box;margin-bottom: 0.5em;}#sk-container-id-1 div.sk-estimator:hover {background-color: #d4ebff;}#sk-container-id-1 div.sk-parallel-item::after {content: \"\";width: 100%;border-bottom: 1px solid gray;flex-grow: 1;}#sk-container-id-1 div.sk-label:hover label.sk-toggleable__label {background-color: #d4ebff;}#sk-container-id-1 div.sk-serial::before {content: \"\";position: absolute;border-left: 1px solid gray;box-sizing: border-box;top: 0;bottom: 0;left: 50%;z-index: 0;}#sk-container-id-1 div.sk-serial {display: flex;flex-direction: column;align-items: center;background-color: white;padding-right: 0.2em;padding-left: 0.2em;position: relative;}#sk-container-id-1 div.sk-item {position: relative;z-index: 1;}#sk-container-id-1 div.sk-parallel {display: flex;align-items: stretch;justify-content: center;background-color: white;position: relative;}#sk-container-id-1 div.sk-item::before, #sk-container-id-1 div.sk-parallel-item::before {content: \"\";position: absolute;border-left: 1px solid gray;box-sizing: border-box;top: 0;bottom: 0;left: 50%;z-index: -1;}#sk-container-id-1 div.sk-parallel-item {display: flex;flex-direction: column;z-index: 1;position: relative;background-color: white;}#sk-container-id-1 div.sk-parallel-item:first-child::after {align-self: flex-end;width: 50%;}#sk-container-id-1 div.sk-parallel-item:last-child::after {align-self: flex-start;width: 50%;}#sk-container-id-1 div.sk-parallel-item:only-child::after {width: 0;}#sk-container-id-1 div.sk-dashed-wrapped {border: 1px dashed gray;margin: 0 0.4em 0.5em 0.4em;box-sizing: border-box;padding-bottom: 0.4em;background-color: white;}#sk-container-id-1 div.sk-label label {font-family: monospace;font-weight: bold;display: inline-block;line-height: 1.2em;}#sk-container-id-1 div.sk-label-container {text-align: center;}#sk-container-id-1 div.sk-container {/* jupyter's `normalize.less` sets `[hidden] { display: none; }` but bootstrap.min.css set `[hidden] { display: none !important; }` so we also need the `!important` here to be able to override the default hidden behavior on the sphinx rendered scikit-learn.org. See: https://github.com/scikit-learn/scikit-learn/issues/21755 */display: inline-block !important;position: relative;}#sk-container-id-1 div.sk-text-repr-fallback {display: none;}</style><div id=\"sk-container-id-1\" class=\"sk-top-container\"><div class=\"sk-text-repr-fallback\"><pre>GridSearchCV(cv=&lt;generator object _BaseKFold.split at 0x7fa6916fd0e0&gt;,\n",
       "             estimator=Pipeline(steps=[(&#x27;svc&#x27;,\n",
       "                                        SVC(class_weight=&#x27;balanced&#x27;,\n",
       "                                            probability=True,\n",
       "                                            random_state=0))]),\n",
       "             n_jobs=5,\n",
       "             param_grid=[{&#x27;svc__C&#x27;: [0.01, 0.1, 1, 10, 100],\n",
       "                          &#x27;svc__kernel&#x27;: [&#x27;linear&#x27;]},\n",
       "                         {&#x27;svc__C&#x27;: [0.01, 0.1, 1, 10, 100],\n",
       "                          &#x27;svc__gamma&#x27;: [&#x27;scale&#x27;, &#x27;auto&#x27;, 0.001, 0.0001],\n",
       "                          &#x27;svc__kernel&#x27;: [&#x27;rbf&#x27;, &#x27;sigmoid&#x27;]},\n",
       "                         {&#x27;svc__C&#x27;: [0.01, 0.1, 1, 10, 100],\n",
       "                          &#x27;svc__degree&#x27;: [3, 5],\n",
       "                          &#x27;svc__gamma&#x27;: [&#x27;scale&#x27;, &#x27;auto&#x27;, 0.001, 0.0001],\n",
       "                          &#x27;svc__kernel&#x27;: [&#x27;poly&#x27;]}],\n",
       "             refit=&#x27;roc_auc&#x27;, scoring=(&#x27;roc_auc&#x27;, &#x27;f1&#x27;, &#x27;neg_log_loss&#x27;),\n",
       "             verbose=3)</pre><b>In a Jupyter environment, please rerun this cell to show the HTML representation or trust the notebook. <br />On GitHub, the HTML representation is unable to render, please try loading this page with nbviewer.org.</b></div><div class=\"sk-container\" hidden><div class=\"sk-item sk-dashed-wrapped\"><div class=\"sk-label-container\"><div class=\"sk-label sk-toggleable\"><input class=\"sk-toggleable__control sk-hidden--visually\" id=\"sk-estimator-id-1\" type=\"checkbox\" ><label for=\"sk-estimator-id-1\" class=\"sk-toggleable__label sk-toggleable__label-arrow\">GridSearchCV</label><div class=\"sk-toggleable__content\"><pre>GridSearchCV(cv=&lt;generator object _BaseKFold.split at 0x7fa6916fd0e0&gt;,\n",
       "             estimator=Pipeline(steps=[(&#x27;svc&#x27;,\n",
       "                                        SVC(class_weight=&#x27;balanced&#x27;,\n",
       "                                            probability=True,\n",
       "                                            random_state=0))]),\n",
       "             n_jobs=5,\n",
       "             param_grid=[{&#x27;svc__C&#x27;: [0.01, 0.1, 1, 10, 100],\n",
       "                          &#x27;svc__kernel&#x27;: [&#x27;linear&#x27;]},\n",
       "                         {&#x27;svc__C&#x27;: [0.01, 0.1, 1, 10, 100],\n",
       "                          &#x27;svc__gamma&#x27;: [&#x27;scale&#x27;, &#x27;auto&#x27;, 0.001, 0.0001],\n",
       "                          &#x27;svc__kernel&#x27;: [&#x27;rbf&#x27;, &#x27;sigmoid&#x27;]},\n",
       "                         {&#x27;svc__C&#x27;: [0.01, 0.1, 1, 10, 100],\n",
       "                          &#x27;svc__degree&#x27;: [3, 5],\n",
       "                          &#x27;svc__gamma&#x27;: [&#x27;scale&#x27;, &#x27;auto&#x27;, 0.001, 0.0001],\n",
       "                          &#x27;svc__kernel&#x27;: [&#x27;poly&#x27;]}],\n",
       "             refit=&#x27;roc_auc&#x27;, scoring=(&#x27;roc_auc&#x27;, &#x27;f1&#x27;, &#x27;neg_log_loss&#x27;),\n",
       "             verbose=3)</pre></div></div></div><div class=\"sk-parallel\"><div class=\"sk-parallel-item\"><div class=\"sk-item\"><div class=\"sk-label-container\"><div class=\"sk-label sk-toggleable\"><input class=\"sk-toggleable__control sk-hidden--visually\" id=\"sk-estimator-id-2\" type=\"checkbox\" ><label for=\"sk-estimator-id-2\" class=\"sk-toggleable__label sk-toggleable__label-arrow\">estimator: Pipeline</label><div class=\"sk-toggleable__content\"><pre>Pipeline(steps=[(&#x27;svc&#x27;,\n",
       "                 SVC(class_weight=&#x27;balanced&#x27;, probability=True,\n",
       "                     random_state=0))])</pre></div></div></div><div class=\"sk-serial\"><div class=\"sk-item\"><div class=\"sk-serial\"><div class=\"sk-item\"><div class=\"sk-estimator sk-toggleable\"><input class=\"sk-toggleable__control sk-hidden--visually\" id=\"sk-estimator-id-3\" type=\"checkbox\" ><label for=\"sk-estimator-id-3\" class=\"sk-toggleable__label sk-toggleable__label-arrow\">SVC</label><div class=\"sk-toggleable__content\"><pre>SVC(class_weight=&#x27;balanced&#x27;, probability=True, random_state=0)</pre></div></div></div></div></div></div></div></div></div></div></div></div>"
      ],
      "text/plain": [
       "GridSearchCV(cv=<generator object _BaseKFold.split at 0x7fa6916fd0e0>,\n",
       "             estimator=Pipeline(steps=[('svc',\n",
       "                                        SVC(class_weight='balanced',\n",
       "                                            probability=True,\n",
       "                                            random_state=0))]),\n",
       "             n_jobs=5,\n",
       "             param_grid=[{'svc__C': [0.01, 0.1, 1, 10, 100],\n",
       "                          'svc__kernel': ['linear']},\n",
       "                         {'svc__C': [0.01, 0.1, 1, 10, 100],\n",
       "                          'svc__gamma': ['scale', 'auto', 0.001, 0.0001],\n",
       "                          'svc__kernel': ['rbf', 'sigmoid']},\n",
       "                         {'svc__C': [0.01, 0.1, 1, 10, 100],\n",
       "                          'svc__degree': [3, 5],\n",
       "                          'svc__gamma': ['scale', 'auto', 0.001, 0.0001],\n",
       "                          'svc__kernel': ['poly']}],\n",
       "             refit='roc_auc', scoring=('roc_auc', 'f1', 'neg_log_loss'),\n",
       "             verbose=3)"
      ]
     },
     "execution_count": 51,
     "metadata": {},
     "output_type": "execute_result"
    }
   ],
   "source": [
    "kfold = StratifiedGroupKFold(n_splits=5, shuffle=True, random_state=SEED)\n",
    "clf = Pipeline(\n",
    "    [\n",
    "        ('svc', SVC(random_state=SEED, probability=True, class_weight='balanced'))\n",
    "    ]\n",
    ")\n",
    "param_grid = [\n",
    "    {'svc__C': [0.01, 0.1, 1, 10, 100], 'svc__kernel': ['linear']},\n",
    "    {'svc__C': [0.01, 0.1, 1, 10, 100], 'svc__gamma': ['scale', 'auto', 0.001, 0.0001], 'svc__kernel': ['rbf', 'sigmoid']},\n",
    "    {'svc__C': [0.01, 0.1, 1, 10, 100], 'svc__gamma': ['scale', 'auto', 0.001, 0.0001], 'svc__degree': [3, 5], 'svc__kernel': ['poly']},\n",
    "]\n",
    "search = GridSearchCV(\n",
    "    clf, \n",
    "    param_grid, \n",
    "    refit='roc_auc', \n",
    "    scoring=('roc_auc', 'f1', 'neg_log_loss'), \n",
    "    cv=kfold.split(X, y, groups), \n",
    "    verbose=3, \n",
    "    n_jobs=5\n",
    ")\n",
    "search.fit(X, y, groups=groups)"
   ]
  },
  {
   "cell_type": "code",
   "execution_count": 52,
   "metadata": {},
   "outputs": [
    {
     "data": {
      "text/plain": [
       "{'svc__C': 0.01, 'svc__kernel': 'linear'}"
      ]
     },
     "execution_count": 52,
     "metadata": {},
     "output_type": "execute_result"
    }
   ],
   "source": [
    "search.best_params_"
   ]
  }
 ],
 "metadata": {
  "kernelspec": {
   "display_name": "visiomel-2023",
   "language": "python",
   "name": "python3"
  },
  "language_info": {
   "codemirror_mode": {
    "name": "ipython",
    "version": 3
   },
   "file_extension": ".py",
   "mimetype": "text/x-python",
   "name": "python",
   "nbconvert_exporter": "python",
   "pygments_lexer": "ipython3",
   "version": "3.10.10"
  },
  "orig_nbformat": 4
 },
 "nbformat": 4,
 "nbformat_minor": 2
}
